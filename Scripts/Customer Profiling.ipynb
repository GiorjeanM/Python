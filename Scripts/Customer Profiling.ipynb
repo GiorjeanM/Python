{
 "cells": [
  {
   "cell_type": "markdown",
   "id": "4f6bf834",
   "metadata": {},
   "source": [
    "# Task 4.10 Part C Coding Etiquette and Excel Reporting\n",
    "\n",
    "Contents\n",
    "\n",
    "1. Import libraries\n",
    "\n",
    "\n",
    "2. Import latest data frame\n",
    "\n",
    "\n",
    "3. Customer Profiling\n",
    "\n",
    "\n",
    "4. Distribution of Customer Profiles\n",
    "\n",
    "\n",
    "5. Descriptive stats of Customer Profiles\n",
    "\n",
    "\n",
    "6. Customer profile by Region \n",
    "\n",
    "\n",
    "7. Customer profile by Price Range\n",
    "\n",
    "\n",
    "8. Customer Profile by Spending Type\n",
    "\n",
    "\n",
    "9. Customer Profile by Loyalty\n"
   ]
  },
  {
   "cell_type": "markdown",
   "id": "2d17f30e",
   "metadata": {},
   "source": [
    "# 1. Import libraries"
   ]
  },
  {
   "cell_type": "code",
   "execution_count": 2,
   "id": "f74312b8",
   "metadata": {},
   "outputs": [],
   "source": [
    "# Import libraries\n",
    "\n",
    "import pandas as pd\n",
    "import numpy as np\n",
    "import os\n",
    "import matplotlib.pyplot as plt\n",
    "import seaborn as sns\n",
    "import scipy"
   ]
  },
  {
   "cell_type": "code",
   "execution_count": 3,
   "id": "5a8d3f7e",
   "metadata": {},
   "outputs": [],
   "source": [
    "# Import latest dataset Instacart_final\n",
    "# Turn project folder path into a string\n",
    "\n",
    "path = r'/Users/giorjeanmutuc/Instacart Basket Analysis'"
   ]
  },
  {
   "cell_type": "markdown",
   "id": "ffe55f4f",
   "metadata": {},
   "source": [
    "# 2. Import latest data set"
   ]
  },
  {
   "cell_type": "code",
   "execution_count": 4,
   "id": "7fbce917",
   "metadata": {},
   "outputs": [],
   "source": [
    "# Import Instacart_final2.pkl\n",
    "\n",
    "df_final = pd.read_pickle(r'/Users/giorjeanmutuc/Instacart Basket Analysis/02 Data/Prepared Data/Instacart_final2.pkl')"
   ]
  },
  {
   "cell_type": "code",
   "execution_count": 9,
   "id": "5842d0eb",
   "metadata": {},
   "outputs": [
    {
     "data": {
      "text/html": [
       "<div>\n",
       "<style scoped>\n",
       "    .dataframe tbody tr th:only-of-type {\n",
       "        vertical-align: middle;\n",
       "    }\n",
       "\n",
       "    .dataframe tbody tr th {\n",
       "        vertical-align: top;\n",
       "    }\n",
       "\n",
       "    .dataframe thead th {\n",
       "        text-align: right;\n",
       "    }\n",
       "</style>\n",
       "<table border=\"1\" class=\"dataframe\">\n",
       "  <thead>\n",
       "    <tr style=\"text-align: right;\">\n",
       "      <th></th>\n",
       "      <th>order_id</th>\n",
       "      <th>user_id</th>\n",
       "      <th>order_number</th>\n",
       "      <th>order_dow</th>\n",
       "      <th>order_hour_of_day</th>\n",
       "      <th>days_since_prior_order</th>\n",
       "      <th>product_id</th>\n",
       "      <th>add_to_cart_order</th>\n",
       "      <th>reordered</th>\n",
       "      <th>product_name</th>\n",
       "      <th>...</th>\n",
       "      <th>date_joined</th>\n",
       "      <th>dependents</th>\n",
       "      <th>fam_status</th>\n",
       "      <th>income</th>\n",
       "      <th>_merge</th>\n",
       "      <th>region</th>\n",
       "      <th>exclusion_flag</th>\n",
       "      <th>age_range</th>\n",
       "      <th>income_bracket</th>\n",
       "      <th>parental_status</th>\n",
       "    </tr>\n",
       "  </thead>\n",
       "  <tbody>\n",
       "    <tr>\n",
       "      <th>0</th>\n",
       "      <td>2539329</td>\n",
       "      <td>1</td>\n",
       "      <td>1</td>\n",
       "      <td>2</td>\n",
       "      <td>8</td>\n",
       "      <td>0.0</td>\n",
       "      <td>196</td>\n",
       "      <td>1</td>\n",
       "      <td>0</td>\n",
       "      <td>Soda</td>\n",
       "      <td>...</td>\n",
       "      <td>2/17/2019</td>\n",
       "      <td>3</td>\n",
       "      <td>married</td>\n",
       "      <td>40423</td>\n",
       "      <td>both</td>\n",
       "      <td>South</td>\n",
       "      <td>Regular customer</td>\n",
       "      <td>31-40</td>\n",
       "      <td>&lt;50000</td>\n",
       "      <td>Parent</td>\n",
       "    </tr>\n",
       "    <tr>\n",
       "      <th>1</th>\n",
       "      <td>2398795</td>\n",
       "      <td>1</td>\n",
       "      <td>2</td>\n",
       "      <td>3</td>\n",
       "      <td>7</td>\n",
       "      <td>15.0</td>\n",
       "      <td>196</td>\n",
       "      <td>1</td>\n",
       "      <td>1</td>\n",
       "      <td>Soda</td>\n",
       "      <td>...</td>\n",
       "      <td>2/17/2019</td>\n",
       "      <td>3</td>\n",
       "      <td>married</td>\n",
       "      <td>40423</td>\n",
       "      <td>both</td>\n",
       "      <td>South</td>\n",
       "      <td>Regular customer</td>\n",
       "      <td>31-40</td>\n",
       "      <td>&lt;50000</td>\n",
       "      <td>Parent</td>\n",
       "    </tr>\n",
       "    <tr>\n",
       "      <th>2</th>\n",
       "      <td>473747</td>\n",
       "      <td>1</td>\n",
       "      <td>3</td>\n",
       "      <td>3</td>\n",
       "      <td>12</td>\n",
       "      <td>21.0</td>\n",
       "      <td>196</td>\n",
       "      <td>1</td>\n",
       "      <td>1</td>\n",
       "      <td>Soda</td>\n",
       "      <td>...</td>\n",
       "      <td>2/17/2019</td>\n",
       "      <td>3</td>\n",
       "      <td>married</td>\n",
       "      <td>40423</td>\n",
       "      <td>both</td>\n",
       "      <td>South</td>\n",
       "      <td>Regular customer</td>\n",
       "      <td>31-40</td>\n",
       "      <td>&lt;50000</td>\n",
       "      <td>Parent</td>\n",
       "    </tr>\n",
       "    <tr>\n",
       "      <th>3</th>\n",
       "      <td>2254736</td>\n",
       "      <td>1</td>\n",
       "      <td>4</td>\n",
       "      <td>4</td>\n",
       "      <td>7</td>\n",
       "      <td>29.0</td>\n",
       "      <td>196</td>\n",
       "      <td>1</td>\n",
       "      <td>1</td>\n",
       "      <td>Soda</td>\n",
       "      <td>...</td>\n",
       "      <td>2/17/2019</td>\n",
       "      <td>3</td>\n",
       "      <td>married</td>\n",
       "      <td>40423</td>\n",
       "      <td>both</td>\n",
       "      <td>South</td>\n",
       "      <td>Regular customer</td>\n",
       "      <td>31-40</td>\n",
       "      <td>&lt;50000</td>\n",
       "      <td>Parent</td>\n",
       "    </tr>\n",
       "    <tr>\n",
       "      <th>4</th>\n",
       "      <td>431534</td>\n",
       "      <td>1</td>\n",
       "      <td>5</td>\n",
       "      <td>4</td>\n",
       "      <td>15</td>\n",
       "      <td>28.0</td>\n",
       "      <td>196</td>\n",
       "      <td>1</td>\n",
       "      <td>1</td>\n",
       "      <td>Soda</td>\n",
       "      <td>...</td>\n",
       "      <td>2/17/2019</td>\n",
       "      <td>3</td>\n",
       "      <td>married</td>\n",
       "      <td>40423</td>\n",
       "      <td>both</td>\n",
       "      <td>South</td>\n",
       "      <td>Regular customer</td>\n",
       "      <td>31-40</td>\n",
       "      <td>&lt;50000</td>\n",
       "      <td>Parent</td>\n",
       "    </tr>\n",
       "  </tbody>\n",
       "</table>\n",
       "<p>5 rows × 35 columns</p>\n",
       "</div>"
      ],
      "text/plain": [
       "   order_id  user_id  order_number  order_dow  order_hour_of_day  \\\n",
       "0   2539329        1             1          2                  8   \n",
       "1   2398795        1             2          3                  7   \n",
       "2    473747        1             3          3                 12   \n",
       "3   2254736        1             4          4                  7   \n",
       "4    431534        1             5          4                 15   \n",
       "\n",
       "   days_since_prior_order  product_id  add_to_cart_order  reordered  \\\n",
       "0                     0.0         196                  1          0   \n",
       "1                    15.0         196                  1          1   \n",
       "2                    21.0         196                  1          1   \n",
       "3                    29.0         196                  1          1   \n",
       "4                    28.0         196                  1          1   \n",
       "\n",
       "  product_name  ...  date_joined  dependents  fam_status income _merge region  \\\n",
       "0         Soda  ...    2/17/2019           3     married  40423   both  South   \n",
       "1         Soda  ...    2/17/2019           3     married  40423   both  South   \n",
       "2         Soda  ...    2/17/2019           3     married  40423   both  South   \n",
       "3         Soda  ...    2/17/2019           3     married  40423   both  South   \n",
       "4         Soda  ...    2/17/2019           3     married  40423   both  South   \n",
       "\n",
       "     exclusion_flag age_range  income_bracket parental_status  \n",
       "0  Regular customer     31-40          <50000          Parent  \n",
       "1  Regular customer     31-40          <50000          Parent  \n",
       "2  Regular customer     31-40          <50000          Parent  \n",
       "3  Regular customer     31-40          <50000          Parent  \n",
       "4  Regular customer     31-40          <50000          Parent  \n",
       "\n",
       "[5 rows x 35 columns]"
      ]
     },
     "execution_count": 9,
     "metadata": {},
     "output_type": "execute_result"
    }
   ],
   "source": [
    "df_final.head()"
   ]
  },
  {
   "cell_type": "markdown",
   "id": "62a87e0a",
   "metadata": {},
   "source": [
    "# 3. Customer profiling"
   ]
  },
  {
   "cell_type": "code",
   "execution_count": 5,
   "id": "e264b776",
   "metadata": {},
   "outputs": [],
   "source": [
    "# create flag for 'Young parent' age: 21-40, income: <=99999, parental_status: Parent, order_freq_flag: Frequent customer, Regular customer, department_id: 4,16,7,1,13\n",
    "\n",
    "df_final.loc[(df_final['age_range'].isin(['21-30','31-40'])) & (df_final['income'] <= 99999) & (df_final['parental_status'] == 'Parent') & (df_final['order_freq_flag'].isin(['Frequent customer','Regular customer'])) & (df_final['department_id'].isin([4, 16, 7, 1, 13])), 'customer_profile'] = 'Young parent'"
   ]
  },
  {
   "cell_type": "code",
   "execution_count": 6,
   "id": "fb8da37a",
   "metadata": {},
   "outputs": [],
   "source": [
    "# create flag for 'Old Parent' age: 41-60, income: 50000-200000, parental_status: Parent, order_freq_flag: Frequent customer, Regular customer, department_id: 4, 16, 7, 1, 13\n",
    "\n",
    "df_final.loc[(df_final['age_range'].isin(['41-50','51-60'])) & (df_final['income_bracket'].isin(['50000-99999','100000-200000'])) & (df_final['parental_status'] == 'Parent') & (df_final['order_freq_flag'].isin(['Frequent customer','Regular customer'])) & (df_final['department_id'].isin([4, 16, 7, 1, 13])), 'customer_profile'] = 'Old parent'"
   ]
  },
  {
   "cell_type": "code",
   "execution_count": 7,
   "id": "fca9f0cd",
   "metadata": {},
   "outputs": [],
   "source": [
    "# create flag for 'Senior shopper' age: 61-80, income: 50000-200000, parental_status: Parent, order_freq_flag: Frequent customer, Regular customer, department_id: 4,16,19,7,1\n",
    "\n",
    "df_final.loc[(df_final['age_range'].isin(['61-70','71-80'])) & (df_final['income_bracket'].isin(['50000-99999','100000-200000'])) & (df_final['parental_status'] == 'Parent') & (df_final['order_freq_flag'].isin(['Frequent customer','Regular customer'])) & (df_final['department_id'].isin([4, 16, 19, 7, 1])), 'customer_profile'] = 'Senior Shopper'"
   ]
  },
  {
   "cell_type": "code",
   "execution_count": 8,
   "id": "648447a9",
   "metadata": {},
   "outputs": [],
   "source": [
    "# create flag for 'Single shopper' age: 21-50, income: 50000-200000, parental_status: Non-parent,order_freq_flag: Frequent customer, Regular customer, department_id: 4,16,7,1,13 \n",
    "\n",
    "df_final.loc[(df_final['age_range'].isin(['21-30','31-40','41-50'])) & (df_final['income_bracket'].isin(['50000-99999','100000-200000'])) & (df_final['parental_status'] == 'Non-parent') & (df_final['order_freq_flag'].isin(['Frequent customer','Regular customer'])) & (df_final['department_id'].isin([4, 16, 19, 7, 1])), 'customer_profile'] = 'Single shopper'"
   ]
  },
  {
   "cell_type": "code",
   "execution_count": 9,
   "id": "589213ab",
   "metadata": {},
   "outputs": [],
   "source": [
    "# Remove limit on rows\n",
    "\n",
    "pd.options.display.max_rows = None"
   ]
  },
  {
   "cell_type": "code",
   "execution_count": 10,
   "id": "4fbe3b88",
   "metadata": {},
   "outputs": [],
   "source": [
    "# impute all empty cells with 'Other'\n",
    "\n",
    "df_final['customer_profile'].fillna('Other', inplace=True)"
   ]
  },
  {
   "cell_type": "code",
   "execution_count": 18,
   "id": "99c324aa",
   "metadata": {},
   "outputs": [
    {
     "data": {
      "text/html": [
       "<div>\n",
       "<style scoped>\n",
       "    .dataframe tbody tr th:only-of-type {\n",
       "        vertical-align: middle;\n",
       "    }\n",
       "\n",
       "    .dataframe tbody tr th {\n",
       "        vertical-align: top;\n",
       "    }\n",
       "\n",
       "    .dataframe thead th {\n",
       "        text-align: right;\n",
       "    }\n",
       "</style>\n",
       "<table border=\"1\" class=\"dataframe\">\n",
       "  <thead>\n",
       "    <tr style=\"text-align: right;\">\n",
       "      <th></th>\n",
       "      <th>user_id</th>\n",
       "      <th>order_freq_flag</th>\n",
       "      <th>customer_profile</th>\n",
       "    </tr>\n",
       "  </thead>\n",
       "  <tbody>\n",
       "    <tr>\n",
       "      <th>0</th>\n",
       "      <td>1</td>\n",
       "      <td>Regular customer</td>\n",
       "      <td>Young parent</td>\n",
       "    </tr>\n",
       "    <tr>\n",
       "      <th>1</th>\n",
       "      <td>1</td>\n",
       "      <td>Regular customer</td>\n",
       "      <td>Young parent</td>\n",
       "    </tr>\n",
       "    <tr>\n",
       "      <th>2</th>\n",
       "      <td>1</td>\n",
       "      <td>Regular customer</td>\n",
       "      <td>Young parent</td>\n",
       "    </tr>\n",
       "    <tr>\n",
       "      <th>3</th>\n",
       "      <td>1</td>\n",
       "      <td>Regular customer</td>\n",
       "      <td>Young parent</td>\n",
       "    </tr>\n",
       "    <tr>\n",
       "      <th>4</th>\n",
       "      <td>1</td>\n",
       "      <td>Regular customer</td>\n",
       "      <td>Young parent</td>\n",
       "    </tr>\n",
       "    <tr>\n",
       "      <th>5</th>\n",
       "      <td>1</td>\n",
       "      <td>Regular customer</td>\n",
       "      <td>Young parent</td>\n",
       "    </tr>\n",
       "    <tr>\n",
       "      <th>6</th>\n",
       "      <td>1</td>\n",
       "      <td>Regular customer</td>\n",
       "      <td>Young parent</td>\n",
       "    </tr>\n",
       "    <tr>\n",
       "      <th>7</th>\n",
       "      <td>1</td>\n",
       "      <td>Regular customer</td>\n",
       "      <td>Young parent</td>\n",
       "    </tr>\n",
       "    <tr>\n",
       "      <th>8</th>\n",
       "      <td>1</td>\n",
       "      <td>Regular customer</td>\n",
       "      <td>Young parent</td>\n",
       "    </tr>\n",
       "    <tr>\n",
       "      <th>9</th>\n",
       "      <td>1</td>\n",
       "      <td>Regular customer</td>\n",
       "      <td>Young parent</td>\n",
       "    </tr>\n",
       "    <tr>\n",
       "      <th>10</th>\n",
       "      <td>1</td>\n",
       "      <td>Regular customer</td>\n",
       "      <td>Young parent</td>\n",
       "    </tr>\n",
       "    <tr>\n",
       "      <th>11</th>\n",
       "      <td>1</td>\n",
       "      <td>Regular customer</td>\n",
       "      <td>Other</td>\n",
       "    </tr>\n",
       "    <tr>\n",
       "      <th>12</th>\n",
       "      <td>1</td>\n",
       "      <td>Regular customer</td>\n",
       "      <td>Other</td>\n",
       "    </tr>\n",
       "    <tr>\n",
       "      <th>13</th>\n",
       "      <td>1</td>\n",
       "      <td>Regular customer</td>\n",
       "      <td>Other</td>\n",
       "    </tr>\n",
       "    <tr>\n",
       "      <th>14</th>\n",
       "      <td>1</td>\n",
       "      <td>Regular customer</td>\n",
       "      <td>Other</td>\n",
       "    </tr>\n",
       "  </tbody>\n",
       "</table>\n",
       "</div>"
      ],
      "text/plain": [
       "    user_id   order_freq_flag customer_profile\n",
       "0         1  Regular customer     Young parent\n",
       "1         1  Regular customer     Young parent\n",
       "2         1  Regular customer     Young parent\n",
       "3         1  Regular customer     Young parent\n",
       "4         1  Regular customer     Young parent\n",
       "5         1  Regular customer     Young parent\n",
       "6         1  Regular customer     Young parent\n",
       "7         1  Regular customer     Young parent\n",
       "8         1  Regular customer     Young parent\n",
       "9         1  Regular customer     Young parent\n",
       "10        1  Regular customer     Young parent\n",
       "11        1  Regular customer            Other\n",
       "12        1  Regular customer            Other\n",
       "13        1  Regular customer            Other\n",
       "14        1  Regular customer            Other"
      ]
     },
     "execution_count": 18,
     "metadata": {},
     "output_type": "execute_result"
    }
   ],
   "source": [
    "# Check customer_profile column\n",
    "\n",
    "df_final[['user_id','order_freq_flag','customer_profile']].head(15)"
   ]
  },
  {
   "cell_type": "code",
   "execution_count": 19,
   "id": "136521b9",
   "metadata": {
    "scrolled": false
   },
   "outputs": [
    {
     "data": {
      "text/plain": [
       "(30964564, 36)"
      ]
     },
     "execution_count": 19,
     "metadata": {},
     "output_type": "execute_result"
    }
   ],
   "source": [
    "# Check number of rows and columns on df_final\n",
    "\n",
    "df_final.shape"
   ]
  },
  {
   "cell_type": "code",
   "execution_count": 10,
   "id": "37620c26",
   "metadata": {},
   "outputs": [],
   "source": [
    "# export df_final version 3 to pkl \n",
    "\n",
    "df_final.to_pickle(os.path.join(path, '02 Data','Prepared Data', 'Instacart_final3.pkl'))"
   ]
  },
  {
   "cell_type": "code",
   "execution_count": 14,
   "id": "79a4f60e",
   "metadata": {},
   "outputs": [
    {
     "data": {
      "text/plain": [
       "Other             16143309\n",
       "Young parent       4379110\n",
       "Senior Shopper     4268740\n",
       "Old parent         4138103\n",
       "Single shopper     2035302\n",
       "Name: customer_profile, dtype: int64"
      ]
     },
     "execution_count": 14,
     "metadata": {},
     "output_type": "execute_result"
    }
   ],
   "source": [
    "# check total value counts of customer_profile\n",
    "\n",
    "df_final['customer_profile'].value_counts(dropna=False)"
   ]
  },
  {
   "cell_type": "code",
   "execution_count": 11,
   "id": "1b153cce",
   "metadata": {},
   "outputs": [],
   "source": [
    "# check unique value counts at the customer level (how many unique customers fit into each profile?)\n",
    "\n",
    "unique_profiles = df_final.groupby('customer_profile')['user_id'].nunique().sort_values(ascending=False)"
   ]
  },
  {
   "cell_type": "code",
   "execution_count": 23,
   "id": "667f887e",
   "metadata": {},
   "outputs": [
    {
     "data": {
      "text/plain": [
       "customer_profile\n",
       "Other             161727\n",
       "Young parent       30290\n",
       "Senior Shopper     27689\n",
       "Old parent         27621\n",
       "Single shopper     13049\n",
       "Name: user_id, dtype: int64"
      ]
     },
     "execution_count": 23,
     "metadata": {},
     "output_type": "execute_result"
    }
   ],
   "source": [
    "unique_profiles"
   ]
  },
  {
   "cell_type": "markdown",
   "id": "d23c490b",
   "metadata": {},
   "source": [
    "# 4. Distribution of Customer Profiles"
   ]
  },
  {
   "cell_type": "code",
   "execution_count": 12,
   "id": "75f4971e",
   "metadata": {},
   "outputs": [
    {
     "name": "stderr",
     "output_type": "stream",
     "text": [
      "/var/folders/hp/8pw7bj8j4cn95z6t9ph44m480000gn/T/ipykernel_2579/3387249409.py:10: UserWarning: FixedFormatter should only be used together with FixedLocator\n",
      "  plt.gca().set_yticklabels(['{:,.0f}'.format(x) for x in current_values])\n"
     ]
    },
    {
     "data": {
      "text/plain": [
       "[Text(0, 0.0, '0'),\n",
       " Text(0, 20000.0, '20,000'),\n",
       " Text(0, 40000.0, '40,000'),\n",
       " Text(0, 60000.0, '60,000'),\n",
       " Text(0, 80000.0, '80,000'),\n",
       " Text(0, 100000.0, '100,000'),\n",
       " Text(0, 120000.0, '120,000'),\n",
       " Text(0, 140000.0, '140,000'),\n",
       " Text(0, 160000.0, '160,000'),\n",
       " Text(0, 180000.0, '180,000')]"
      ]
     },
     "execution_count": 12,
     "metadata": {},
     "output_type": "execute_result"
    },
    {
     "data": {
      "image/png": "[encoded data removed]",
      "text/plain": [
       "<Figure size 432x288 with 1 Axes>"
      ]
     },
     "metadata": {
      "needs_background": "light"
     },
     "output_type": "display_data"
    }
   ],
   "source": [
    "# bar chart based on distribution of customer profiles\n",
    "\n",
    "profile_bar = unique_profiles.plot.bar(color =['blue'], title = 'Number of customers by customer profile type')\n",
    "\n",
    "plt.xlabel('Customer Profile')\n",
    "plt.ylabel('Customer Count')\n",
    "\n",
    "# after plotting the data, format the labels\n",
    "current_values = plt.gca().get_yticks()\n",
    "plt.gca().set_yticklabels(['{:,.0f}'.format(x) for x in current_values])\n"
   ]
  },
  {
   "cell_type": "code",
   "execution_count": 24,
   "id": "40c14e27",
   "metadata": {},
   "outputs": [],
   "source": [
    "# To export profile_bar image file\n",
    "\n",
    "profile_bar.figure.savefig(os.path.join(path, '04 Analysis','Visualizations', 'profile_bar.png'))"
   ]
  },
  {
   "cell_type": "code",
   "execution_count": 17,
   "id": "ee0abc2a",
   "metadata": {},
   "outputs": [],
   "source": [
    "# Aggregate age range of Instacart users\n",
    "\n",
    "agerange_cust = df_final.groupby('age_range').agg({'user_id': ['count']})"
   ]
  },
  {
   "cell_type": "code",
   "execution_count": 12,
   "id": "ba235002",
   "metadata": {},
   "outputs": [
    {
     "data": {
      "text/html": [
       "<div>\n",
       "<style scoped>\n",
       "    .dataframe tbody tr th:only-of-type {\n",
       "        vertical-align: middle;\n",
       "    }\n",
       "\n",
       "    .dataframe tbody tr th {\n",
       "        vertical-align: top;\n",
       "    }\n",
       "\n",
       "    .dataframe thead tr th {\n",
       "        text-align: left;\n",
       "    }\n",
       "\n",
       "    .dataframe thead tr:last-of-type th {\n",
       "        text-align: right;\n",
       "    }\n",
       "</style>\n",
       "<table border=\"1\" class=\"dataframe\">\n",
       "  <thead>\n",
       "    <tr>\n",
       "      <th></th>\n",
       "      <th>user_id</th>\n",
       "    </tr>\n",
       "    <tr>\n",
       "      <th></th>\n",
       "      <th>count</th>\n",
       "    </tr>\n",
       "    <tr>\n",
       "      <th>age_range</th>\n",
       "      <th></th>\n",
       "    </tr>\n",
       "  </thead>\n",
       "  <tbody>\n",
       "    <tr>\n",
       "      <th>20 &amp; under</th>\n",
       "      <td>1454728</td>\n",
       "    </tr>\n",
       "    <tr>\n",
       "      <th>21-30</th>\n",
       "      <td>4849512</td>\n",
       "    </tr>\n",
       "    <tr>\n",
       "      <th>31-40</th>\n",
       "      <td>4844193</td>\n",
       "    </tr>\n",
       "    <tr>\n",
       "      <th>41-50</th>\n",
       "      <td>4868632</td>\n",
       "    </tr>\n",
       "    <tr>\n",
       "      <th>51-60</th>\n",
       "      <td>4834892</td>\n",
       "    </tr>\n",
       "    <tr>\n",
       "      <th>61-70</th>\n",
       "      <td>4779958</td>\n",
       "    </tr>\n",
       "    <tr>\n",
       "      <th>71-80</th>\n",
       "      <td>4846802</td>\n",
       "    </tr>\n",
       "    <tr>\n",
       "      <th>81+</th>\n",
       "      <td>485847</td>\n",
       "    </tr>\n",
       "  </tbody>\n",
       "</table>\n",
       "</div>"
      ],
      "text/plain": [
       "            user_id\n",
       "              count\n",
       "age_range          \n",
       "20 & under  1454728\n",
       "21-30       4849512\n",
       "31-40       4844193\n",
       "41-50       4868632\n",
       "51-60       4834892\n",
       "61-70       4779958\n",
       "71-80       4846802\n",
       "81+          485847"
      ]
     },
     "execution_count": 12,
     "metadata": {},
     "output_type": "execute_result"
    }
   ],
   "source": [
    "agerange_cust"
   ]
  },
  {
   "cell_type": "code",
   "execution_count": 18,
   "id": "43f5d658",
   "metadata": {
    "scrolled": true
   },
   "outputs": [
    {
     "name": "stderr",
     "output_type": "stream",
     "text": [
      "/var/folders/hp/8pw7bj8j4cn95z6t9ph44m480000gn/T/ipykernel_2925/1152760705.py:10: UserWarning: FixedFormatter should only be used together with FixedLocator\n",
      "  plt.gca().set_yticklabels(['{:,.0f}'.format(x) for x in current_values])\n"
     ]
    },
    {
     "data": {
      "text/plain": [
       "[Text(0, 0.0, '0'),\n",
       " Text(0, 1000000.0, '1,000,000'),\n",
       " Text(0, 2000000.0, '2,000,000'),\n",
       " Text(0, 3000000.0, '3,000,000'),\n",
       " Text(0, 4000000.0, '4,000,000'),\n",
       " Text(0, 5000000.0, '5,000,000'),\n",
       " Text(0, 6000000.0, '6,000,000')]"
      ]
     },
     "execution_count": 18,
     "metadata": {},
     "output_type": "execute_result"
    },
    {
     "data": {
      "image/png": "[encoded data removed]",
      "text/plain": [
       "<Figure size 432x288 with 1 Axes>"
      ]
     },
     "metadata": {
      "needs_background": "light"
     },
     "output_type": "display_data"
    }
   ],
   "source": [
    "# bar chart based on distribution of customer profiles\n",
    "\n",
    "bar_agerange_cust = agerange_cust.plot.bar(color =['lightblue'], title = 'Age Ranges of Instacart Customers')\n",
    "\n",
    "plt.xlabel('Age Range')\n",
    "plt.ylabel('Customer Count')\n",
    "\n",
    "# after plotting the data, format the labels\n",
    "current_values = plt.gca().get_yticks()\n",
    "plt.gca().set_yticklabels(['{:,.0f}'.format(x) for x in current_values])"
   ]
  },
  {
   "cell_type": "code",
   "execution_count": 19,
   "id": "37c5ea38",
   "metadata": {},
   "outputs": [],
   "source": [
    "# To export bar_xcustomer_price_range\n",
    "\n",
    "bar_agerange_cust.figure.savefig(os.path.join(path, '04 Analysis','Visualizations','bar_agerange_cust.png'), bbox_inches = 'tight')"
   ]
  },
  {
   "cell_type": "markdown",
   "id": "6fa55e79",
   "metadata": {},
   "source": [
    "# 5. Descriptive stats of customer profiles"
   ]
  },
  {
   "cell_type": "code",
   "execution_count": 12,
   "id": "601d85cf",
   "metadata": {},
   "outputs": [],
   "source": [
    "# find the mean, min & max of usage frequency, grouped by customer_profile\n",
    "\n",
    "usage_freq_stats = df_final.groupby('customer_profile').agg({'days_since_prior_order': ['mean', 'min', 'max']})"
   ]
  },
  {
   "cell_type": "code",
   "execution_count": 13,
   "id": "1c525c4a",
   "metadata": {
    "scrolled": true
   },
   "outputs": [
    {
     "data": {
      "text/html": [
       "<div>\n",
       "<style scoped>\n",
       "    .dataframe tbody tr th:only-of-type {\n",
       "        vertical-align: middle;\n",
       "    }\n",
       "\n",
       "    .dataframe tbody tr th {\n",
       "        vertical-align: top;\n",
       "    }\n",
       "\n",
       "    .dataframe thead tr th {\n",
       "        text-align: left;\n",
       "    }\n",
       "\n",
       "    .dataframe thead tr:last-of-type th {\n",
       "        text-align: right;\n",
       "    }\n",
       "</style>\n",
       "<table border=\"1\" class=\"dataframe\">\n",
       "  <thead>\n",
       "    <tr>\n",
       "      <th></th>\n",
       "      <th colspan=\"3\" halign=\"left\">days_since_prior_order</th>\n",
       "    </tr>\n",
       "    <tr>\n",
       "      <th></th>\n",
       "      <th>mean</th>\n",
       "      <th>min</th>\n",
       "      <th>max</th>\n",
       "    </tr>\n",
       "    <tr>\n",
       "      <th>customer_profile</th>\n",
       "      <th></th>\n",
       "      <th></th>\n",
       "      <th></th>\n",
       "    </tr>\n",
       "  </thead>\n",
       "  <tbody>\n",
       "    <tr>\n",
       "      <th>Old parent</th>\n",
       "      <td>9.417114</td>\n",
       "      <td>0.0</td>\n",
       "      <td>30.0</td>\n",
       "    </tr>\n",
       "    <tr>\n",
       "      <th>Other</th>\n",
       "      <td>11.000952</td>\n",
       "      <td>0.0</td>\n",
       "      <td>30.0</td>\n",
       "    </tr>\n",
       "    <tr>\n",
       "      <th>Senior Shopper</th>\n",
       "      <td>9.374822</td>\n",
       "      <td>0.0</td>\n",
       "      <td>30.0</td>\n",
       "    </tr>\n",
       "    <tr>\n",
       "      <th>Single shopper</th>\n",
       "      <td>9.424733</td>\n",
       "      <td>0.0</td>\n",
       "      <td>30.0</td>\n",
       "    </tr>\n",
       "    <tr>\n",
       "      <th>Young parent</th>\n",
       "      <td>9.366208</td>\n",
       "      <td>0.0</td>\n",
       "      <td>30.0</td>\n",
       "    </tr>\n",
       "  </tbody>\n",
       "</table>\n",
       "</div>"
      ],
      "text/plain": [
       "                 days_since_prior_order           \n",
       "                                   mean  min   max\n",
       "customer_profile                                  \n",
       "Old parent                     9.417114  0.0  30.0\n",
       "Other                         11.000952  0.0  30.0\n",
       "Senior Shopper                 9.374822  0.0  30.0\n",
       "Single shopper                 9.424733  0.0  30.0\n",
       "Young parent                   9.366208  0.0  30.0"
      ]
     },
     "execution_count": 13,
     "metadata": {},
     "output_type": "execute_result"
    }
   ],
   "source": [
    "usage_freq_stats"
   ]
  },
  {
   "cell_type": "code",
   "execution_count": 15,
   "id": "1cef28f8",
   "metadata": {},
   "outputs": [],
   "source": [
    "# find the mean, min & max of the expenditure, grouped by customer_profile\n",
    "\n",
    "prices_stats = df_final.groupby('customer_profile').agg({'prices': ['mean', 'min', 'max']})"
   ]
  },
  {
   "cell_type": "code",
   "execution_count": 28,
   "id": "a313bbd5",
   "metadata": {},
   "outputs": [
    {
     "data": {
      "text/html": [
       "<div>\n",
       "<style scoped>\n",
       "    .dataframe tbody tr th:only-of-type {\n",
       "        vertical-align: middle;\n",
       "    }\n",
       "\n",
       "    .dataframe tbody tr th {\n",
       "        vertical-align: top;\n",
       "    }\n",
       "\n",
       "    .dataframe thead tr th {\n",
       "        text-align: left;\n",
       "    }\n",
       "\n",
       "    .dataframe thead tr:last-of-type th {\n",
       "        text-align: right;\n",
       "    }\n",
       "</style>\n",
       "<table border=\"1\" class=\"dataframe\">\n",
       "  <thead>\n",
       "    <tr>\n",
       "      <th></th>\n",
       "      <th colspan=\"3\" halign=\"left\">prices</th>\n",
       "    </tr>\n",
       "    <tr>\n",
       "      <th></th>\n",
       "      <th>mean</th>\n",
       "      <th>min</th>\n",
       "      <th>max</th>\n",
       "    </tr>\n",
       "    <tr>\n",
       "      <th>customer_profile</th>\n",
       "      <th></th>\n",
       "      <th></th>\n",
       "      <th></th>\n",
       "    </tr>\n",
       "  </thead>\n",
       "  <tbody>\n",
       "    <tr>\n",
       "      <th>Old parent</th>\n",
       "      <td>8.094157</td>\n",
       "      <td>1.0</td>\n",
       "      <td>20.0</td>\n",
       "    </tr>\n",
       "    <tr>\n",
       "      <th>Other</th>\n",
       "      <td>7.700594</td>\n",
       "      <td>1.0</td>\n",
       "      <td>25.0</td>\n",
       "    </tr>\n",
       "    <tr>\n",
       "      <th>Senior Shopper</th>\n",
       "      <td>7.656634</td>\n",
       "      <td>1.0</td>\n",
       "      <td>15.0</td>\n",
       "    </tr>\n",
       "    <tr>\n",
       "      <th>Single shopper</th>\n",
       "      <td>7.699366</td>\n",
       "      <td>1.0</td>\n",
       "      <td>15.0</td>\n",
       "    </tr>\n",
       "    <tr>\n",
       "      <th>Young parent</th>\n",
       "      <td>8.008409</td>\n",
       "      <td>1.0</td>\n",
       "      <td>20.0</td>\n",
       "    </tr>\n",
       "  </tbody>\n",
       "</table>\n",
       "</div>"
      ],
      "text/plain": [
       "                    prices           \n",
       "                      mean  min   max\n",
       "customer_profile                     \n",
       "Old parent        8.094157  1.0  20.0\n",
       "Other             7.700594  1.0  25.0\n",
       "Senior Shopper    7.656634  1.0  15.0\n",
       "Single shopper    7.699366  1.0  15.0\n",
       "Young parent      8.008409  1.0  20.0"
      ]
     },
     "execution_count": 28,
     "metadata": {},
     "output_type": "execute_result"
    }
   ],
   "source": [
    "prices_stats"
   ]
  },
  {
   "cell_type": "markdown",
   "id": "9894878b",
   "metadata": {},
   "source": [
    "# 6. Customer profile by region"
   ]
  },
  {
   "cell_type": "code",
   "execution_count": 30,
   "id": "5ccb2501",
   "metadata": {},
   "outputs": [],
   "source": [
    "# Crosstab customer_profile and region\n",
    "\n",
    "xcustomer_region = pd.crosstab(df_final['customer_profile'], df_final['region'], dropna = False)"
   ]
  },
  {
   "cell_type": "code",
   "execution_count": 31,
   "id": "42d177ac",
   "metadata": {},
   "outputs": [
    {
     "data": {
      "text/html": [
       "<div>\n",
       "<style scoped>\n",
       "    .dataframe tbody tr th:only-of-type {\n",
       "        vertical-align: middle;\n",
       "    }\n",
       "\n",
       "    .dataframe tbody tr th {\n",
       "        vertical-align: top;\n",
       "    }\n",
       "\n",
       "    .dataframe thead th {\n",
       "        text-align: right;\n",
       "    }\n",
       "</style>\n",
       "<table border=\"1\" class=\"dataframe\">\n",
       "  <thead>\n",
       "    <tr style=\"text-align: right;\">\n",
       "      <th>region</th>\n",
       "      <th>Midwest</th>\n",
       "      <th>Northeast</th>\n",
       "      <th>South</th>\n",
       "      <th>West</th>\n",
       "    </tr>\n",
       "    <tr>\n",
       "      <th>customer_profile</th>\n",
       "      <th></th>\n",
       "      <th></th>\n",
       "      <th></th>\n",
       "      <th></th>\n",
       "    </tr>\n",
       "  </thead>\n",
       "  <tbody>\n",
       "    <tr>\n",
       "      <th>Old parent</th>\n",
       "      <td>989030</td>\n",
       "      <td>743841</td>\n",
       "      <td>1357434</td>\n",
       "      <td>1047798</td>\n",
       "    </tr>\n",
       "    <tr>\n",
       "      <th>Other</th>\n",
       "      <td>3789235</td>\n",
       "      <td>2843025</td>\n",
       "      <td>5372549</td>\n",
       "      <td>4138500</td>\n",
       "    </tr>\n",
       "    <tr>\n",
       "      <th>Senior Shopper</th>\n",
       "      <td>986600</td>\n",
       "      <td>762516</td>\n",
       "      <td>1416691</td>\n",
       "      <td>1102933</td>\n",
       "    </tr>\n",
       "    <tr>\n",
       "      <th>Single shopper</th>\n",
       "      <td>485695</td>\n",
       "      <td>344228</td>\n",
       "      <td>684034</td>\n",
       "      <td>521345</td>\n",
       "    </tr>\n",
       "    <tr>\n",
       "      <th>Young parent</th>\n",
       "      <td>1010953</td>\n",
       "      <td>771075</td>\n",
       "      <td>1480431</td>\n",
       "      <td>1116651</td>\n",
       "    </tr>\n",
       "  </tbody>\n",
       "</table>\n",
       "</div>"
      ],
      "text/plain": [
       "region            Midwest  Northeast    South     West\n",
       "customer_profile                                      \n",
       "Old parent         989030     743841  1357434  1047798\n",
       "Other             3789235    2843025  5372549  4138500\n",
       "Senior Shopper     986600     762516  1416691  1102933\n",
       "Single shopper     485695     344228   684034   521345\n",
       "Young parent      1010953     771075  1480431  1116651"
      ]
     },
     "execution_count": 31,
     "metadata": {},
     "output_type": "execute_result"
    }
   ],
   "source": [
    "xcustomer_region"
   ]
  },
  {
   "cell_type": "markdown",
   "id": "834d33e6",
   "metadata": {},
   "source": [
    "# 7. Customer profile by price range"
   ]
  },
  {
   "cell_type": "code",
   "execution_count": 14,
   "id": "d70f36bf",
   "metadata": {},
   "outputs": [],
   "source": [
    "# Crosstab customer_profile and price_range_loc\n",
    "\n",
    "xcustomer_price_range = pd.crosstab(df_final['customer_profile'], df_final['price_range_loc'], dropna = False)"
   ]
  },
  {
   "cell_type": "code",
   "execution_count": 34,
   "id": "def4504f",
   "metadata": {
    "scrolled": true
   },
   "outputs": [
    {
     "data": {
      "text/html": [
       "<div>\n",
       "<style scoped>\n",
       "    .dataframe tbody tr th:only-of-type {\n",
       "        vertical-align: middle;\n",
       "    }\n",
       "\n",
       "    .dataframe tbody tr th {\n",
       "        vertical-align: top;\n",
       "    }\n",
       "\n",
       "    .dataframe thead th {\n",
       "        text-align: right;\n",
       "    }\n",
       "</style>\n",
       "<table border=\"1\" class=\"dataframe\">\n",
       "  <thead>\n",
       "    <tr style=\"text-align: right;\">\n",
       "      <th>price_range_loc</th>\n",
       "      <th>High-range product</th>\n",
       "      <th>Low-range product</th>\n",
       "      <th>Mid-range product</th>\n",
       "    </tr>\n",
       "    <tr>\n",
       "      <th>customer_profile</th>\n",
       "      <th></th>\n",
       "      <th></th>\n",
       "      <th></th>\n",
       "    </tr>\n",
       "  </thead>\n",
       "  <tbody>\n",
       "    <tr>\n",
       "      <th>Old parent</th>\n",
       "      <td>375</td>\n",
       "      <td>1149839</td>\n",
       "      <td>2987889</td>\n",
       "    </tr>\n",
       "    <tr>\n",
       "      <th>Other</th>\n",
       "      <td>396743</td>\n",
       "      <td>5282534</td>\n",
       "      <td>10464032</td>\n",
       "    </tr>\n",
       "    <tr>\n",
       "      <th>Senior Shopper</th>\n",
       "      <td>351</td>\n",
       "      <td>1354497</td>\n",
       "      <td>2913892</td>\n",
       "    </tr>\n",
       "    <tr>\n",
       "      <th>Single shopper</th>\n",
       "      <td>297</td>\n",
       "      <td>638494</td>\n",
       "      <td>1396511</td>\n",
       "    </tr>\n",
       "    <tr>\n",
       "      <th>Young parent</th>\n",
       "      <td>187</td>\n",
       "      <td>1249476</td>\n",
       "      <td>3129447</td>\n",
       "    </tr>\n",
       "  </tbody>\n",
       "</table>\n",
       "</div>"
      ],
      "text/plain": [
       "price_range_loc   High-range product  Low-range product  Mid-range product\n",
       "customer_profile                                                          \n",
       "Old parent                       375            1149839            2987889\n",
       "Other                         396743            5282534           10464032\n",
       "Senior Shopper                   351            1354497            2913892\n",
       "Single shopper                   297             638494            1396511\n",
       "Young parent                     187            1249476            3129447"
      ]
     },
     "execution_count": 34,
     "metadata": {},
     "output_type": "execute_result"
    }
   ],
   "source": [
    "xcustomer_price_range"
   ]
  },
  {
   "cell_type": "code",
   "execution_count": 15,
   "id": "d63f4a32",
   "metadata": {},
   "outputs": [
    {
     "name": "stderr",
     "output_type": "stream",
     "text": [
      "/var/folders/hp/8pw7bj8j4cn95z6t9ph44m480000gn/T/ipykernel_1374/3584257027.py:10: UserWarning: FixedFormatter should only be used together with FixedLocator\n",
      "  plt.gca().set_yticklabels(['{:,.0f}'.format(x) for x in current_values])\n"
     ]
    },
    {
     "data": {
      "text/plain": [
       "[Text(0, 0.0, '0'),\n",
       " Text(0, 2000000.0, '2,000,000'),\n",
       " Text(0, 4000000.0, '4,000,000'),\n",
       " Text(0, 6000000.0, '6,000,000'),\n",
       " Text(0, 8000000.0, '8,000,000'),\n",
       " Text(0, 10000000.0, '10,000,000'),\n",
       " Text(0, 12000000.0, '12,000,000')]"
      ]
     },
     "execution_count": 15,
     "metadata": {},
     "output_type": "execute_result"
    },
    {
     "data": {
      "image/png": "[encoded data removed]",
      "text/plain": [
       "<Figure size 432x288 with 1 Axes>"
      ]
     },
     "metadata": {
      "needs_background": "light"
     },
     "output_type": "display_data"
    }
   ],
   "source": [
    "# Create bar chart for bar_xcustomer_price_range\n",
    "\n",
    "bar_xcustomer_price_range = xcustomer_price_range.plot.bar(title = 'Preferred Price Range by Customer Profile')\n",
    "\n",
    "plt.xlabel('Customer Profile')\n",
    "plt.ylabel('Customers')\n",
    "\n",
    "# after plotting the data, format the labels\n",
    "current_values = plt.gca().get_yticks()\n",
    "plt.gca().set_yticklabels(['{:,.0f}'.format(x) for x in current_values])\n"
   ]
  },
  {
   "cell_type": "code",
   "execution_count": 16,
   "id": "2764d5b4",
   "metadata": {},
   "outputs": [],
   "source": [
    "# To export bar_xcustomer_price_range\n",
    "\n",
    "bar_xcustomer_price_range.figure.savefig(os.path.join(path, '04 Analysis','Visualizations','bar_xcustomer_price_range.png'), bbox_inches = 'tight')"
   ]
  },
  {
   "cell_type": "markdown",
   "id": "c865f2e8",
   "metadata": {},
   "source": [
    "# 8. Customer profile by spending type"
   ]
  },
  {
   "cell_type": "code",
   "execution_count": 11,
   "id": "5d834a85",
   "metadata": {},
   "outputs": [],
   "source": [
    "# Crosstab customer_profile and spending_flag\n",
    "\n",
    "xcustomer_spending = pd.crosstab(df_final['customer_profile'], df_final['spending_flag'], dropna = False)"
   ]
  },
  {
   "cell_type": "code",
   "execution_count": 45,
   "id": "8c175f30",
   "metadata": {},
   "outputs": [
    {
     "data": {
      "text/html": [
       "<div>\n",
       "<style scoped>\n",
       "    .dataframe tbody tr th:only-of-type {\n",
       "        vertical-align: middle;\n",
       "    }\n",
       "\n",
       "    .dataframe tbody tr th {\n",
       "        vertical-align: top;\n",
       "    }\n",
       "\n",
       "    .dataframe thead th {\n",
       "        text-align: right;\n",
       "    }\n",
       "</style>\n",
       "<table border=\"1\" class=\"dataframe\">\n",
       "  <thead>\n",
       "    <tr style=\"text-align: right;\">\n",
       "      <th>spending_flag</th>\n",
       "      <th>High spender</th>\n",
       "      <th>Low spender</th>\n",
       "    </tr>\n",
       "    <tr>\n",
       "      <th>customer_profile</th>\n",
       "      <th></th>\n",
       "      <th></th>\n",
       "    </tr>\n",
       "  </thead>\n",
       "  <tbody>\n",
       "    <tr>\n",
       "      <th>Old parent</th>\n",
       "      <td>37740</td>\n",
       "      <td>4100363</td>\n",
       "    </tr>\n",
       "    <tr>\n",
       "      <th>Other</th>\n",
       "      <td>480518</td>\n",
       "      <td>15662791</td>\n",
       "    </tr>\n",
       "    <tr>\n",
       "      <th>Senior Shopper</th>\n",
       "      <td>39673</td>\n",
       "      <td>4229067</td>\n",
       "    </tr>\n",
       "    <tr>\n",
       "      <th>Single shopper</th>\n",
       "      <td>24879</td>\n",
       "      <td>2010423</td>\n",
       "    </tr>\n",
       "    <tr>\n",
       "      <th>Young parent</th>\n",
       "      <td>20615</td>\n",
       "      <td>4358495</td>\n",
       "    </tr>\n",
       "  </tbody>\n",
       "</table>\n",
       "</div>"
      ],
      "text/plain": [
       "spending_flag     High spender  Low spender\n",
       "customer_profile                           \n",
       "Old parent               37740      4100363\n",
       "Other                   480518     15662791\n",
       "Senior Shopper           39673      4229067\n",
       "Single shopper           24879      2010423\n",
       "Young parent             20615      4358495"
      ]
     },
     "execution_count": 45,
     "metadata": {},
     "output_type": "execute_result"
    }
   ],
   "source": [
    "xcustomer_spending"
   ]
  },
  {
   "cell_type": "code",
   "execution_count": 12,
   "id": "2399c03b",
   "metadata": {},
   "outputs": [
    {
     "name": "stderr",
     "output_type": "stream",
     "text": [
      "/var/folders/hp/8pw7bj8j4cn95z6t9ph44m480000gn/T/ipykernel_1374/2503542513.py:10: UserWarning: FixedFormatter should only be used together with FixedLocator\n",
      "  plt.gca().set_yticklabels(['{:,.0f}'.format(x) for x in current_values])\n"
     ]
    },
    {
     "data": {
      "text/plain": [
       "[Text(0, -2000000.0, '-2,000,000'),\n",
       " Text(0, 0.0, '0'),\n",
       " Text(0, 2000000.0, '2,000,000'),\n",
       " Text(0, 4000000.0, '4,000,000'),\n",
       " Text(0, 6000000.0, '6,000,000'),\n",
       " Text(0, 8000000.0, '8,000,000'),\n",
       " Text(0, 10000000.0, '10,000,000'),\n",
       " Text(0, 12000000.0, '12,000,000'),\n",
       " Text(0, 14000000.0, '14,000,000'),\n",
       " Text(0, 16000000.0, '16,000,000'),\n",
       " Text(0, 18000000.0, '18,000,000')]"
      ]
     },
     "execution_count": 12,
     "metadata": {},
     "output_type": "execute_result"
    },
    {
     "data": {
      "image/png": "[encoded data removed]",
      "text/plain": [
       "<Figure size 432x288 with 1 Axes>"
      ]
     },
     "metadata": {
      "needs_background": "light"
     },
     "output_type": "display_data"
    }
   ],
   "source": [
    "# Create line chart for line_xcustomer_spending\n",
    "\n",
    "line_xcustomer_spending = xcustomer_spending.plot.line(title = 'Spending Bracket by Customer Profile')\n",
    "\n",
    "plt.xlabel('Hour of the day')\n",
    "plt.ylabel('Customers')\n",
    "\n",
    "# after plotting the data, format the labels\n",
    "current_values = plt.gca().get_yticks()\n",
    "plt.gca().set_yticklabels(['{:,.0f}'.format(x) for x in current_values])\n"
   ]
  },
  {
   "cell_type": "code",
   "execution_count": 13,
   "id": "018c30a5",
   "metadata": {},
   "outputs": [],
   "source": [
    "# To export line_xcustomer_spending\n",
    "\n",
    "line_xcustomer_spending.figure.savefig(os.path.join(path, '04 Analysis','Visualizations','line_xcustomer_spending.png'), bbox_inches = 'tight')"
   ]
  },
  {
   "cell_type": "markdown",
   "id": "7fbe66bd",
   "metadata": {},
   "source": [
    "# 9. Customer profile by loyalty"
   ]
  },
  {
   "cell_type": "code",
   "execution_count": 12,
   "id": "5d792dae",
   "metadata": {},
   "outputs": [],
   "source": [
    "# Crosstab customer_profile and loyalty_flag\n",
    "\n",
    "xcustomer_loyalty = pd.crosstab(df_final['customer_profile'], df_final['loyalty_flag'], dropna = False)"
   ]
  },
  {
   "cell_type": "code",
   "execution_count": 25,
   "id": "78caef43",
   "metadata": {},
   "outputs": [
    {
     "data": {
      "text/html": [
       "<div>\n",
       "<style scoped>\n",
       "    .dataframe tbody tr th:only-of-type {\n",
       "        vertical-align: middle;\n",
       "    }\n",
       "\n",
       "    .dataframe tbody tr th {\n",
       "        vertical-align: top;\n",
       "    }\n",
       "\n",
       "    .dataframe thead th {\n",
       "        text-align: right;\n",
       "    }\n",
       "</style>\n",
       "<table border=\"1\" class=\"dataframe\">\n",
       "  <thead>\n",
       "    <tr style=\"text-align: right;\">\n",
       "      <th>loyalty_flag</th>\n",
       "      <th>Loyal customer</th>\n",
       "      <th>New customer</th>\n",
       "      <th>Regular customer</th>\n",
       "    </tr>\n",
       "    <tr>\n",
       "      <th>customer_profile</th>\n",
       "      <th></th>\n",
       "      <th></th>\n",
       "      <th></th>\n",
       "    </tr>\n",
       "  </thead>\n",
       "  <tbody>\n",
       "    <tr>\n",
       "      <th>Old parent</th>\n",
       "      <td>1504308</td>\n",
       "      <td>458225</td>\n",
       "      <td>2175570</td>\n",
       "    </tr>\n",
       "    <tr>\n",
       "      <th>Other</th>\n",
       "      <td>4883194</td>\n",
       "      <td>3175118</td>\n",
       "      <td>8084997</td>\n",
       "    </tr>\n",
       "    <tr>\n",
       "      <th>Senior Shopper</th>\n",
       "      <td>1567760</td>\n",
       "      <td>471788</td>\n",
       "      <td>2229192</td>\n",
       "    </tr>\n",
       "    <tr>\n",
       "      <th>Single shopper</th>\n",
       "      <td>742266</td>\n",
       "      <td>220147</td>\n",
       "      <td>1072889</td>\n",
       "    </tr>\n",
       "    <tr>\n",
       "      <th>Young parent</th>\n",
       "      <td>1586565</td>\n",
       "      <td>478417</td>\n",
       "      <td>2314128</td>\n",
       "    </tr>\n",
       "  </tbody>\n",
       "</table>\n",
       "</div>"
      ],
      "text/plain": [
       "loyalty_flag      Loyal customer  New customer  Regular customer\n",
       "customer_profile                                                \n",
       "Old parent               1504308        458225           2175570\n",
       "Other                    4883194       3175118           8084997\n",
       "Senior Shopper           1567760        471788           2229192\n",
       "Single shopper            742266        220147           1072889\n",
       "Young parent             1586565        478417           2314128"
      ]
     },
     "execution_count": 25,
     "metadata": {},
     "output_type": "execute_result"
    }
   ],
   "source": [
    "xcustomer_loyalty"
   ]
  },
  {
   "cell_type": "code",
   "execution_count": 14,
   "id": "ea185beb",
   "metadata": {},
   "outputs": [
    {
     "name": "stderr",
     "output_type": "stream",
     "text": [
      "/var/folders/hp/8pw7bj8j4cn95z6t9ph44m480000gn/T/ipykernel_1334/1269054033.py:10: UserWarning: FixedFormatter should only be used together with FixedLocator\n",
      "  plt.gca().set_yticklabels(['{:,.0f}'.format(x) for x in current_values])\n"
     ]
    },
    {
     "data": {
      "text/plain": [
       "[Text(0, 0.0, '0'),\n",
       " Text(0, 1000000.0, '1,000,000'),\n",
       " Text(0, 2000000.0, '2,000,000'),\n",
       " Text(0, 3000000.0, '3,000,000'),\n",
       " Text(0, 4000000.0, '4,000,000'),\n",
       " Text(0, 5000000.0, '5,000,000'),\n",
       " Text(0, 6000000.0, '6,000,000'),\n",
       " Text(0, 7000000.0, '7,000,000'),\n",
       " Text(0, 8000000.0, '8,000,000'),\n",
       " Text(0, 9000000.0, '9,000,000')]"
      ]
     },
     "execution_count": 14,
     "metadata": {},
     "output_type": "execute_result"
    },
    {
     "data": {
      "image/png": "[encoded data removed]",
      "text/plain": [
       "<Figure size 432x288 with 1 Axes>"
      ]
     },
     "metadata": {
      "needs_background": "light"
     },
     "output_type": "display_data"
    }
   ],
   "source": [
    "# Create bar chart for bar_xcustomer_loyalty\n",
    "\n",
    "bar_xcustomer_loyalty = xcustomer_loyalty.plot.bar(title = 'Loyalty by Customer Profile')\n",
    "\n",
    "plt.xlabel('Customer Profile')\n",
    "plt.ylabel('Customers')\n",
    "\n",
    "# after plotting the data, format the labels\n",
    "current_values = plt.gca().get_yticks()\n",
    "plt.gca().set_yticklabels(['{:,.0f}'.format(x) for x in current_values])"
   ]
  },
  {
   "cell_type": "code",
   "execution_count": 15,
   "id": "942b330c",
   "metadata": {},
   "outputs": [],
   "source": [
    "# To export bar_xcustomer_loyalty\n",
    "\n",
    "bar_xcustomer_loyalty.figure.savefig(os.path.join(path, '04 Analysis','Visualizations','bar_xcustomer_loyalty.png'), bbox_inches = 'tight')"
   ]
  },
  {
   "cell_type": "code",
   "execution_count": null,
   "id": "76ed1837",
   "metadata": {},
   "outputs": [],
   "source": []
  }
 ],
 "metadata": {
  "kernelspec": {
   "display_name": "Python 3 (ipykernel)",
   "language": "python",
   "name": "python3"
  },
  "language_info": {
   "codemirror_mode": {
    "name": "ipython",
    "version": 3
   },
   "file_extension": ".py",
   "mimetype": "text/x-python",
   "name": "python",
   "nbconvert_exporter": "python",
   "pygments_lexer": "ipython3",
   "version": "3.9.7"
  }
 },
 "nbformat": 4,
 "nbformat_minor": 5
}
