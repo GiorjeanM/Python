{
 "cells": [
  {
   "cell_type": "markdown",
   "id": "9e3f992e",
   "metadata": {},
   "source": [
    "# Task 4.10 Part B Coding Etiquette and Excel Reporting\n",
    "\n",
    "Contents\n",
    "\n",
    "1. Import libraries\n",
    "\n",
    "\n",
    "2. Import dataset\n",
    "\n",
    "\n",
    "3. Create profiling variables\n",
    "\n",
    "    3a. Age ranges of customers flag\n",
    "    \n",
    "    3b. Income brackets flag\n",
    "    \n",
    "    3c. Dependents flag\n",
    "\n",
    "\n",
    "4. Data Insights\n",
    "\n",
    "\n",
    "5. Export latest dataframe as pickle\n"
   ]
  },
  {
   "cell_type": "markdown",
   "id": "02598668",
   "metadata": {},
   "source": [
    "# 1. Import libraries"
   ]
  },
  {
   "cell_type": "code",
   "execution_count": 3,
   "id": "56d0140c",
   "metadata": {},
   "outputs": [],
   "source": [
    "import pandas as pd\n",
    "import numpy as np\n",
    "import os\n",
    "import matplotlib.pyplot as plt\n",
    "import seaborn as sns\n",
    "import scipy"
   ]
  },
  {
   "cell_type": "markdown",
   "id": "9326ef3d",
   "metadata": {},
   "source": [
    "# 2. Import latest dataset Instacart_final"
   ]
  },
  {
   "cell_type": "code",
   "execution_count": 4,
   "id": "54aa5c98",
   "metadata": {},
   "outputs": [],
   "source": [
    "# Turn project folder path into a string\n",
    "\n",
    "path = r'/Users/giorjeanmutuc/Instacart Basket Analysis'"
   ]
  },
  {
   "cell_type": "code",
   "execution_count": 5,
   "id": "f70613bd",
   "metadata": {},
   "outputs": [],
   "source": [
    "# import Instacart_final.pkl\n",
    "\n",
    "df_final = pd.read_pickle(r'/Users/giorjeanmutuc/Instacart Basket Analysis/02 Data/Prepared Data/Instacart_final.pkl')"
   ]
  },
  {
   "cell_type": "code",
   "execution_count": 4,
   "id": "5051599f",
   "metadata": {},
   "outputs": [],
   "source": [
    "# remove column limit to enable checking the data\n",
    "\n",
    "pd.options.display.max_columns = None"
   ]
  },
  {
   "cell_type": "code",
   "execution_count": 5,
   "id": "a266c5b9",
   "metadata": {},
   "outputs": [],
   "source": [
    "# remove row limit to enable checking the data\n",
    "\n",
    "pd.options.display.max_rows = None"
   ]
  },
  {
   "cell_type": "code",
   "execution_count": 6,
   "id": "642ad79b",
   "metadata": {
    "scrolled": true
   },
   "outputs": [
    {
     "data": {
      "text/html": [
       "<div>\n",
       "<style scoped>\n",
       "    .dataframe tbody tr th:only-of-type {\n",
       "        vertical-align: middle;\n",
       "    }\n",
       "\n",
       "    .dataframe tbody tr th {\n",
       "        vertical-align: top;\n",
       "    }\n",
       "\n",
       "    .dataframe thead th {\n",
       "        text-align: right;\n",
       "    }\n",
       "</style>\n",
       "<table border=\"1\" class=\"dataframe\">\n",
       "  <thead>\n",
       "    <tr style=\"text-align: right;\">\n",
       "      <th></th>\n",
       "      <th>order_id</th>\n",
       "      <th>user_id</th>\n",
       "      <th>order_number</th>\n",
       "      <th>order_dow</th>\n",
       "      <th>order_hour_of_day</th>\n",
       "      <th>days_since_prior_order</th>\n",
       "      <th>product_id</th>\n",
       "      <th>add_to_cart_order</th>\n",
       "      <th>reordered</th>\n",
       "      <th>product_name</th>\n",
       "      <th>aisle_id</th>\n",
       "      <th>department_id</th>\n",
       "      <th>prices</th>\n",
       "      <th>price_range_loc</th>\n",
       "      <th>activity</th>\n",
       "      <th>busiest_period_of_day</th>\n",
       "      <th>max_order</th>\n",
       "      <th>loyalty_flag</th>\n",
       "      <th>avg_order</th>\n",
       "      <th>spending_flag</th>\n",
       "      <th>ord_med_freq</th>\n",
       "      <th>order_freq_flag</th>\n",
       "      <th>gender</th>\n",
       "      <th>state</th>\n",
       "      <th>age</th>\n",
       "      <th>date_joined</th>\n",
       "      <th>dependents</th>\n",
       "      <th>fam_status</th>\n",
       "      <th>income</th>\n",
       "      <th>_merge</th>\n",
       "      <th>region</th>\n",
       "      <th>exclusion_flag</th>\n",
       "    </tr>\n",
       "  </thead>\n",
       "  <tbody>\n",
       "    <tr>\n",
       "      <th>0</th>\n",
       "      <td>2539329</td>\n",
       "      <td>1</td>\n",
       "      <td>1</td>\n",
       "      <td>2</td>\n",
       "      <td>8</td>\n",
       "      <td>0.0</td>\n",
       "      <td>196</td>\n",
       "      <td>1</td>\n",
       "      <td>0</td>\n",
       "      <td>Soda</td>\n",
       "      <td>77</td>\n",
       "      <td>7</td>\n",
       "      <td>9.0</td>\n",
       "      <td>Mid-range product</td>\n",
       "      <td>Regular days</td>\n",
       "      <td>Average orders</td>\n",
       "      <td>10</td>\n",
       "      <td>New customer</td>\n",
       "      <td>6.367797</td>\n",
       "      <td>Low spender</td>\n",
       "      <td>20.0</td>\n",
       "      <td>Regular customer</td>\n",
       "      <td>Female</td>\n",
       "      <td>Alabama</td>\n",
       "      <td>31</td>\n",
       "      <td>2/17/2019</td>\n",
       "      <td>3</td>\n",
       "      <td>married</td>\n",
       "      <td>40423</td>\n",
       "      <td>both</td>\n",
       "      <td>South</td>\n",
       "      <td>Regular customer</td>\n",
       "    </tr>\n",
       "    <tr>\n",
       "      <th>1</th>\n",
       "      <td>2398795</td>\n",
       "      <td>1</td>\n",
       "      <td>2</td>\n",
       "      <td>3</td>\n",
       "      <td>7</td>\n",
       "      <td>15.0</td>\n",
       "      <td>196</td>\n",
       "      <td>1</td>\n",
       "      <td>1</td>\n",
       "      <td>Soda</td>\n",
       "      <td>77</td>\n",
       "      <td>7</td>\n",
       "      <td>9.0</td>\n",
       "      <td>Mid-range product</td>\n",
       "      <td>Slowest days</td>\n",
       "      <td>Average orders</td>\n",
       "      <td>10</td>\n",
       "      <td>New customer</td>\n",
       "      <td>6.367797</td>\n",
       "      <td>Low spender</td>\n",
       "      <td>20.0</td>\n",
       "      <td>Regular customer</td>\n",
       "      <td>Female</td>\n",
       "      <td>Alabama</td>\n",
       "      <td>31</td>\n",
       "      <td>2/17/2019</td>\n",
       "      <td>3</td>\n",
       "      <td>married</td>\n",
       "      <td>40423</td>\n",
       "      <td>both</td>\n",
       "      <td>South</td>\n",
       "      <td>Regular customer</td>\n",
       "    </tr>\n",
       "    <tr>\n",
       "      <th>2</th>\n",
       "      <td>473747</td>\n",
       "      <td>1</td>\n",
       "      <td>3</td>\n",
       "      <td>3</td>\n",
       "      <td>12</td>\n",
       "      <td>21.0</td>\n",
       "      <td>196</td>\n",
       "      <td>1</td>\n",
       "      <td>1</td>\n",
       "      <td>Soda</td>\n",
       "      <td>77</td>\n",
       "      <td>7</td>\n",
       "      <td>9.0</td>\n",
       "      <td>Mid-range product</td>\n",
       "      <td>Slowest days</td>\n",
       "      <td>Most orders</td>\n",
       "      <td>10</td>\n",
       "      <td>New customer</td>\n",
       "      <td>6.367797</td>\n",
       "      <td>Low spender</td>\n",
       "      <td>20.0</td>\n",
       "      <td>Regular customer</td>\n",
       "      <td>Female</td>\n",
       "      <td>Alabama</td>\n",
       "      <td>31</td>\n",
       "      <td>2/17/2019</td>\n",
       "      <td>3</td>\n",
       "      <td>married</td>\n",
       "      <td>40423</td>\n",
       "      <td>both</td>\n",
       "      <td>South</td>\n",
       "      <td>Regular customer</td>\n",
       "    </tr>\n",
       "    <tr>\n",
       "      <th>3</th>\n",
       "      <td>2254736</td>\n",
       "      <td>1</td>\n",
       "      <td>4</td>\n",
       "      <td>4</td>\n",
       "      <td>7</td>\n",
       "      <td>29.0</td>\n",
       "      <td>196</td>\n",
       "      <td>1</td>\n",
       "      <td>1</td>\n",
       "      <td>Soda</td>\n",
       "      <td>77</td>\n",
       "      <td>7</td>\n",
       "      <td>9.0</td>\n",
       "      <td>Mid-range product</td>\n",
       "      <td>Slowest days</td>\n",
       "      <td>Average orders</td>\n",
       "      <td>10</td>\n",
       "      <td>New customer</td>\n",
       "      <td>6.367797</td>\n",
       "      <td>Low spender</td>\n",
       "      <td>20.0</td>\n",
       "      <td>Regular customer</td>\n",
       "      <td>Female</td>\n",
       "      <td>Alabama</td>\n",
       "      <td>31</td>\n",
       "      <td>2/17/2019</td>\n",
       "      <td>3</td>\n",
       "      <td>married</td>\n",
       "      <td>40423</td>\n",
       "      <td>both</td>\n",
       "      <td>South</td>\n",
       "      <td>Regular customer</td>\n",
       "    </tr>\n",
       "    <tr>\n",
       "      <th>4</th>\n",
       "      <td>431534</td>\n",
       "      <td>1</td>\n",
       "      <td>5</td>\n",
       "      <td>4</td>\n",
       "      <td>15</td>\n",
       "      <td>28.0</td>\n",
       "      <td>196</td>\n",
       "      <td>1</td>\n",
       "      <td>1</td>\n",
       "      <td>Soda</td>\n",
       "      <td>77</td>\n",
       "      <td>7</td>\n",
       "      <td>9.0</td>\n",
       "      <td>Mid-range product</td>\n",
       "      <td>Slowest days</td>\n",
       "      <td>Most orders</td>\n",
       "      <td>10</td>\n",
       "      <td>New customer</td>\n",
       "      <td>6.367797</td>\n",
       "      <td>Low spender</td>\n",
       "      <td>20.0</td>\n",
       "      <td>Regular customer</td>\n",
       "      <td>Female</td>\n",
       "      <td>Alabama</td>\n",
       "      <td>31</td>\n",
       "      <td>2/17/2019</td>\n",
       "      <td>3</td>\n",
       "      <td>married</td>\n",
       "      <td>40423</td>\n",
       "      <td>both</td>\n",
       "      <td>South</td>\n",
       "      <td>Regular customer</td>\n",
       "    </tr>\n",
       "  </tbody>\n",
       "</table>\n",
       "</div>"
      ],
      "text/plain": [
       "   order_id  user_id  order_number  order_dow  order_hour_of_day  \\\n",
       "0   2539329        1             1          2                  8   \n",
       "1   2398795        1             2          3                  7   \n",
       "2    473747        1             3          3                 12   \n",
       "3   2254736        1             4          4                  7   \n",
       "4    431534        1             5          4                 15   \n",
       "\n",
       "   days_since_prior_order  product_id  add_to_cart_order  reordered  \\\n",
       "0                     0.0         196                  1          0   \n",
       "1                    15.0         196                  1          1   \n",
       "2                    21.0         196                  1          1   \n",
       "3                    29.0         196                  1          1   \n",
       "4                    28.0         196                  1          1   \n",
       "\n",
       "  product_name  aisle_id  department_id  prices    price_range_loc  \\\n",
       "0         Soda        77              7     9.0  Mid-range product   \n",
       "1         Soda        77              7     9.0  Mid-range product   \n",
       "2         Soda        77              7     9.0  Mid-range product   \n",
       "3         Soda        77              7     9.0  Mid-range product   \n",
       "4         Soda        77              7     9.0  Mid-range product   \n",
       "\n",
       "       activity busiest_period_of_day  max_order  loyalty_flag  avg_order  \\\n",
       "0  Regular days        Average orders         10  New customer   6.367797   \n",
       "1  Slowest days        Average orders         10  New customer   6.367797   \n",
       "2  Slowest days           Most orders         10  New customer   6.367797   \n",
       "3  Slowest days        Average orders         10  New customer   6.367797   \n",
       "4  Slowest days           Most orders         10  New customer   6.367797   \n",
       "\n",
       "  spending_flag  ord_med_freq   order_freq_flag  gender    state  age  \\\n",
       "0   Low spender          20.0  Regular customer  Female  Alabama   31   \n",
       "1   Low spender          20.0  Regular customer  Female  Alabama   31   \n",
       "2   Low spender          20.0  Regular customer  Female  Alabama   31   \n",
       "3   Low spender          20.0  Regular customer  Female  Alabama   31   \n",
       "4   Low spender          20.0  Regular customer  Female  Alabama   31   \n",
       "\n",
       "  date_joined  dependents fam_status  income _merge region    exclusion_flag  \n",
       "0   2/17/2019           3    married   40423   both  South  Regular customer  \n",
       "1   2/17/2019           3    married   40423   both  South  Regular customer  \n",
       "2   2/17/2019           3    married   40423   both  South  Regular customer  \n",
       "3   2/17/2019           3    married   40423   both  South  Regular customer  \n",
       "4   2/17/2019           3    married   40423   both  South  Regular customer  "
      ]
     },
     "execution_count": 6,
     "metadata": {},
     "output_type": "execute_result"
    }
   ],
   "source": [
    "# Check columns \n",
    "\n",
    "df_final.head()"
   ]
  },
  {
   "cell_type": "markdown",
   "id": "96869f36",
   "metadata": {},
   "source": [
    "# 3. Create profiling variables"
   ]
  },
  {
   "cell_type": "code",
   "execution_count": 7,
   "id": "22b7f111",
   "metadata": {},
   "outputs": [
    {
     "data": {
      "text/plain": [
       "order_id                     int64\n",
       "user_id                      int64\n",
       "order_number                 int64\n",
       "order_dow                    int64\n",
       "order_hour_of_day            int64\n",
       "days_since_prior_order     float64\n",
       "product_id                   int64\n",
       "add_to_cart_order            int64\n",
       "reordered                    int64\n",
       "product_name                object\n",
       "aisle_id                     int64\n",
       "department_id                int64\n",
       "prices                     float64\n",
       "price_range_loc             object\n",
       "activity                    object\n",
       "busiest_period_of_day       object\n",
       "max_order                    int64\n",
       "loyalty_flag                object\n",
       "avg_order                  float64\n",
       "spending_flag               object\n",
       "ord_med_freq               float64\n",
       "order_freq_flag             object\n",
       "gender                      object\n",
       "state                       object\n",
       "age                          int64\n",
       "date_joined                 object\n",
       "dependents                   int64\n",
       "fam_status                  object\n",
       "income                       int64\n",
       "_merge                    category\n",
       "region                      object\n",
       "exclusion_flag              object\n",
       "dtype: object"
      ]
     },
     "execution_count": 7,
     "metadata": {},
     "output_type": "execute_result"
    }
   ],
   "source": [
    "# Check all kinds of variables\n",
    "\n",
    "df_final.dtypes"
   ]
  },
  {
   "cell_type": "markdown",
   "id": "a0729882",
   "metadata": {},
   "source": [
    "# 3a. Age ranges flag"
   ]
  },
  {
   "cell_type": "code",
   "execution_count": 8,
   "id": "e34f9822",
   "metadata": {},
   "outputs": [
    {
     "data": {
      "text/plain": [
       "18    478457\n",
       "19    496077\n",
       "20    480194\n",
       "21    489116\n",
       "22    490811\n",
       "23    492931\n",
       "24    487608\n",
       "25    449324\n",
       "26    489892\n",
       "27    501071\n",
       "28    464831\n",
       "29    497291\n",
       "30    486637\n",
       "31    506218\n",
       "32    474676\n",
       "33    472331\n",
       "34    484830\n",
       "35    496510\n",
       "36    460649\n",
       "37    487618\n",
       "38    492790\n",
       "39    485248\n",
       "40    483323\n",
       "41    451269\n",
       "42    485081\n",
       "43    499729\n",
       "44    494457\n",
       "45    488088\n",
       "46    472571\n",
       "47    494052\n",
       "48    506730\n",
       "49    507879\n",
       "50    468776\n",
       "51    492218\n",
       "52    480429\n",
       "53    479004\n",
       "54    497817\n",
       "55    489733\n",
       "56    499580\n",
       "57    473657\n",
       "58    479842\n",
       "59    480715\n",
       "60    461897\n",
       "61    463615\n",
       "62    473859\n",
       "63    474757\n",
       "64    504832\n",
       "65    464710\n",
       "66    454604\n",
       "67    472533\n",
       "68    501319\n",
       "69    489495\n",
       "70    480234\n",
       "71    463515\n",
       "72    479884\n",
       "73    499453\n",
       "74    477168\n",
       "75    499229\n",
       "76    477348\n",
       "77    477999\n",
       "78    471119\n",
       "79    508337\n",
       "80    492750\n",
       "81    485847\n",
       "Name: age, dtype: int64"
      ]
     },
     "execution_count": 8,
     "metadata": {},
     "output_type": "execute_result"
    }
   ],
   "source": [
    "# Check age of users\n",
    "\n",
    "df_final['age'].value_counts().sort_index()"
   ]
  },
  {
   "cell_type": "code",
   "execution_count": 6,
   "id": "ade7ab7b",
   "metadata": {},
   "outputs": [],
   "source": [
    "# flag for ages 20 & under\n",
    "\n",
    "df_final.loc[(df_final['age'] <= 20), 'age_range'] = '20 & under'"
   ]
  },
  {
   "cell_type": "code",
   "execution_count": 7,
   "id": "fb79dea7",
   "metadata": {},
   "outputs": [],
   "source": [
    "# flag for ages 21-30\n",
    "\n",
    "df_final.loc[(df_final['age'] > 20) & (df_final['age'] <= 30), 'age_range'] = '21-30'"
   ]
  },
  {
   "cell_type": "code",
   "execution_count": 8,
   "id": "45d1484f",
   "metadata": {},
   "outputs": [],
   "source": [
    "# flag for ages 31-40\n",
    "\n",
    "df_final.loc[(df_final['age'] > 30) & (df_final['age'] <= 40), 'age_range'] = '31-40'"
   ]
  },
  {
   "cell_type": "code",
   "execution_count": 9,
   "id": "c25cd566",
   "metadata": {},
   "outputs": [],
   "source": [
    "# flag for ages 41-50\n",
    "\n",
    "df_final.loc[(df_final['age'] > 40) & (df_final['age'] <= 50), 'age_range'] = '41-50'"
   ]
  },
  {
   "cell_type": "code",
   "execution_count": 10,
   "id": "acc5227f",
   "metadata": {},
   "outputs": [],
   "source": [
    "# flag for ages 51-60\n",
    "\n",
    "df_final.loc[(df_final['age'] > 50) & (df_final['age'] <= 60), 'age_range'] = '51-60'"
   ]
  },
  {
   "cell_type": "code",
   "execution_count": 11,
   "id": "20b7bb94",
   "metadata": {},
   "outputs": [],
   "source": [
    "# flag for ages 61-70\n",
    "\n",
    "df_final.loc[(df_final['age'] > 60) & (df_final['age'] <= 70), 'age_range'] = '61-70'"
   ]
  },
  {
   "cell_type": "code",
   "execution_count": 12,
   "id": "c6139660",
   "metadata": {},
   "outputs": [],
   "source": [
    "# flag for ages 71-80\n",
    "\n",
    "df_final.loc[(df_final['age'] > 70) & (df_final['age'] <= 80), 'age_range'] = '71-80'"
   ]
  },
  {
   "cell_type": "code",
   "execution_count": 13,
   "id": "98f58cd9",
   "metadata": {},
   "outputs": [],
   "source": [
    "# flag for ages 80 & above\n",
    "\n",
    "df_final.loc[(df_final['age'] >= 81), 'age_range'] = '81+'"
   ]
  },
  {
   "cell_type": "code",
   "execution_count": 14,
   "id": "0f91e366",
   "metadata": {},
   "outputs": [
    {
     "data": {
      "text/html": [
       "<div>\n",
       "<style scoped>\n",
       "    .dataframe tbody tr th:only-of-type {\n",
       "        vertical-align: middle;\n",
       "    }\n",
       "\n",
       "    .dataframe tbody tr th {\n",
       "        vertical-align: top;\n",
       "    }\n",
       "\n",
       "    .dataframe thead th {\n",
       "        text-align: right;\n",
       "    }\n",
       "</style>\n",
       "<table border=\"1\" class=\"dataframe\">\n",
       "  <thead>\n",
       "    <tr style=\"text-align: right;\">\n",
       "      <th></th>\n",
       "      <th>user_id</th>\n",
       "      <th>age</th>\n",
       "      <th>age_range</th>\n",
       "    </tr>\n",
       "  </thead>\n",
       "  <tbody>\n",
       "    <tr>\n",
       "      <th>0</th>\n",
       "      <td>1</td>\n",
       "      <td>31</td>\n",
       "      <td>31-40</td>\n",
       "    </tr>\n",
       "    <tr>\n",
       "      <th>1</th>\n",
       "      <td>1</td>\n",
       "      <td>31</td>\n",
       "      <td>31-40</td>\n",
       "    </tr>\n",
       "    <tr>\n",
       "      <th>2</th>\n",
       "      <td>1</td>\n",
       "      <td>31</td>\n",
       "      <td>31-40</td>\n",
       "    </tr>\n",
       "    <tr>\n",
       "      <th>3</th>\n",
       "      <td>1</td>\n",
       "      <td>31</td>\n",
       "      <td>31-40</td>\n",
       "    </tr>\n",
       "    <tr>\n",
       "      <th>4</th>\n",
       "      <td>1</td>\n",
       "      <td>31</td>\n",
       "      <td>31-40</td>\n",
       "    </tr>\n",
       "  </tbody>\n",
       "</table>\n",
       "</div>"
      ],
      "text/plain": [
       "   user_id  age age_range\n",
       "0        1   31     31-40\n",
       "1        1   31     31-40\n",
       "2        1   31     31-40\n",
       "3        1   31     31-40\n",
       "4        1   31     31-40"
      ]
     },
     "execution_count": 14,
     "metadata": {},
     "output_type": "execute_result"
    }
   ],
   "source": [
    "# Check new column age_range \n",
    "\n",
    "df_final[['user_id', 'age', 'age_range']].head()"
   ]
  },
  {
   "cell_type": "code",
   "execution_count": 18,
   "id": "474dafb5",
   "metadata": {},
   "outputs": [],
   "source": [
    "# Check age_range of Instacart users\n",
    "\n",
    "users_age = df_final.groupby('age_range').agg({'user_id': ['count']})"
   ]
  },
  {
   "cell_type": "code",
   "execution_count": 19,
   "id": "9d025c40",
   "metadata": {},
   "outputs": [
    {
     "data": {
      "text/html": [
       "<div>\n",
       "<style scoped>\n",
       "    .dataframe tbody tr th:only-of-type {\n",
       "        vertical-align: middle;\n",
       "    }\n",
       "\n",
       "    .dataframe tbody tr th {\n",
       "        vertical-align: top;\n",
       "    }\n",
       "\n",
       "    .dataframe thead tr th {\n",
       "        text-align: left;\n",
       "    }\n",
       "\n",
       "    .dataframe thead tr:last-of-type th {\n",
       "        text-align: right;\n",
       "    }\n",
       "</style>\n",
       "<table border=\"1\" class=\"dataframe\">\n",
       "  <thead>\n",
       "    <tr>\n",
       "      <th></th>\n",
       "      <th>user_id</th>\n",
       "    </tr>\n",
       "    <tr>\n",
       "      <th></th>\n",
       "      <th>count</th>\n",
       "    </tr>\n",
       "    <tr>\n",
       "      <th>age_range</th>\n",
       "      <th></th>\n",
       "    </tr>\n",
       "  </thead>\n",
       "  <tbody>\n",
       "    <tr>\n",
       "      <th>20 &amp; under</th>\n",
       "      <td>1454728</td>\n",
       "    </tr>\n",
       "    <tr>\n",
       "      <th>21-30</th>\n",
       "      <td>4849512</td>\n",
       "    </tr>\n",
       "    <tr>\n",
       "      <th>31-40</th>\n",
       "      <td>4844193</td>\n",
       "    </tr>\n",
       "    <tr>\n",
       "      <th>41-50</th>\n",
       "      <td>4868632</td>\n",
       "    </tr>\n",
       "    <tr>\n",
       "      <th>51-60</th>\n",
       "      <td>4834892</td>\n",
       "    </tr>\n",
       "    <tr>\n",
       "      <th>61-70</th>\n",
       "      <td>4779958</td>\n",
       "    </tr>\n",
       "    <tr>\n",
       "      <th>71-80</th>\n",
       "      <td>4846802</td>\n",
       "    </tr>\n",
       "    <tr>\n",
       "      <th>81+</th>\n",
       "      <td>485847</td>\n",
       "    </tr>\n",
       "  </tbody>\n",
       "</table>\n",
       "</div>"
      ],
      "text/plain": [
       "            user_id\n",
       "              count\n",
       "age_range          \n",
       "20 & under  1454728\n",
       "21-30       4849512\n",
       "31-40       4844193\n",
       "41-50       4868632\n",
       "51-60       4834892\n",
       "61-70       4779958\n",
       "71-80       4846802\n",
       "81+          485847"
      ]
     },
     "execution_count": 19,
     "metadata": {},
     "output_type": "execute_result"
    }
   ],
   "source": [
    "users_age"
   ]
  },
  {
   "cell_type": "code",
   "execution_count": 15,
   "id": "df424922",
   "metadata": {},
   "outputs": [],
   "source": [
    "# To count unique user_ids by age_range\n",
    "\n",
    "unique_users_age = df_final.groupby('age_range')['user_id'].nunique().sort_values(ascending=False)"
   ]
  },
  {
   "cell_type": "code",
   "execution_count": 16,
   "id": "494647ec",
   "metadata": {},
   "outputs": [],
   "source": [
    "unique_users_age_desc = df_final.sort_values('age_range', ascending=False)"
   ]
  },
  {
   "cell_type": "code",
   "execution_count": null,
   "id": "60c8ed8e",
   "metadata": {
    "scrolled": true
   },
   "outputs": [],
   "source": [
    "# Create bar charts for unique_users_age\n",
    "\n",
    "bar_users_age = unique_users_age_desc.plot.barh(color =['lightblue'], xlabel= 'age range', ylabel= 'user count', title = 'Age Ranges of Instacart Users')\n",
    "plt.tight_layout()"
   ]
  },
  {
   "cell_type": "code",
   "execution_count": 22,
   "id": "dad4141e",
   "metadata": {},
   "outputs": [],
   "source": [
    "# To export bar_users_age image file\n",
    "\n",
    "bar_users_age.figure.savefig(os.path.join(path, '04 Analysis','Visualizations', 'bar_users_age.png'), bbox_inches = 'tight')"
   ]
  },
  {
   "cell_type": "markdown",
   "id": "cc6de7e9",
   "metadata": {},
   "source": [
    "# 3b. Income brackets flag"
   ]
  },
  {
   "cell_type": "code",
   "execution_count": 23,
   "id": "d14bceac",
   "metadata": {},
   "outputs": [],
   "source": [
    "# Check min, max and average income\n"
   ]
  },
  {
   "cell_type": "code",
   "execution_count": 24,
   "id": "75028596",
   "metadata": {},
   "outputs": [],
   "source": [
    "pd.set_option('display.float_format', lambda x: '%.3f' % x)"
   ]
  },
  {
   "cell_type": "code",
   "execution_count": 25,
   "id": "81e03a94",
   "metadata": {},
   "outputs": [
    {
     "data": {
      "text/plain": [
       "count   30964564.000\n",
       "mean       99675.865\n",
       "std        43141.866\n",
       "min        25903.000\n",
       "25%        67292.000\n",
       "50%        96765.000\n",
       "75%       128102.000\n",
       "max       593901.000\n",
       "Name: income, dtype: float64"
      ]
     },
     "execution_count": 25,
     "metadata": {},
     "output_type": "execute_result"
    }
   ],
   "source": [
    "df_final['income'].describe()"
   ]
  },
  {
   "cell_type": "code",
   "execution_count": 26,
   "id": "4e9db7eb",
   "metadata": {},
   "outputs": [],
   "source": [
    "# flag for income below 50000\n",
    "\n",
    "df_final.loc[(df_final['income'] < 50000), 'income_bracket'] = '<50000'"
   ]
  },
  {
   "cell_type": "code",
   "execution_count": 27,
   "id": "21076875",
   "metadata": {},
   "outputs": [],
   "source": [
    "# flag for income 50000-99999\n",
    "\n",
    "df_final.loc[(df_final['income'] > 49999) & (df_final['income'] <= 99999), 'income_bracket'] = '50000-99999'"
   ]
  },
  {
   "cell_type": "code",
   "execution_count": 28,
   "id": "943a5514",
   "metadata": {},
   "outputs": [],
   "source": [
    "# flag for income 100000-200000\n",
    "\n",
    "df_final.loc[(df_final['income'] > 99999) & (df_final['income'] <= 200000), 'income_bracket'] = '100000-200000'"
   ]
  },
  {
   "cell_type": "code",
   "execution_count": 29,
   "id": "0eb82fdb",
   "metadata": {},
   "outputs": [],
   "source": [
    "# flag for income 200001-300000\n",
    "\n",
    "df_final.loc[(df_final['income'] > 200000) & (df_final['income'] <= 300000), 'income_bracket'] = '200001-300000'"
   ]
  },
  {
   "cell_type": "code",
   "execution_count": 30,
   "id": "e60eb65a",
   "metadata": {},
   "outputs": [],
   "source": [
    "# flag for income 300001-400000\n",
    "\n",
    "df_final.loc[(df_final['income'] > 300000) & (df_final['income'] <= 400000), 'income_bracket'] = '300001-400000'"
   ]
  },
  {
   "cell_type": "code",
   "execution_count": 31,
   "id": "224a4e64",
   "metadata": {},
   "outputs": [],
   "source": [
    "# flag for income 400001-500000\n",
    "\n",
    "df_final.loc[(df_final['income'] > 400000) & (df_final['income'] <= 500000), 'income_bracket'] = '400001-500000'"
   ]
  },
  {
   "cell_type": "code",
   "execution_count": 32,
   "id": "734b0791",
   "metadata": {},
   "outputs": [],
   "source": [
    "# flag for income 500001-600000\n",
    "\n",
    "df_final.loc[(df_final['income'] > 500000) & (df_final['income'] <= 600000), 'income_bracket'] = '500001-600000'"
   ]
  },
  {
   "cell_type": "code",
   "execution_count": 33,
   "id": "5a21eaf4",
   "metadata": {
    "scrolled": true
   },
   "outputs": [
    {
     "data": {
      "text/plain": [
       "100000-200000    13953260\n",
       "50000-99999      13394608\n",
       "<50000            3362554\n",
       "200001-300000      154113\n",
       "300001-400000       53033\n",
       "400001-500000       27927\n",
       "500001-600000       19069\n",
       "Name: income_bracket, dtype: int64"
      ]
     },
     "execution_count": 33,
     "metadata": {},
     "output_type": "execute_result"
    }
   ],
   "source": [
    "# Check count of income_bracket of Instacart users\n",
    "\n",
    "df_final['income_bracket'].value_counts()"
   ]
  },
  {
   "cell_type": "markdown",
   "id": "b57a933a",
   "metadata": {},
   "source": [
    "# 3c. Dependents flag"
   ]
  },
  {
   "cell_type": "code",
   "execution_count": 34,
   "id": "4d12b341",
   "metadata": {},
   "outputs": [
    {
     "data": {
      "text/plain": [
       "3    7772516\n",
       "0    7739681\n",
       "2    7733261\n",
       "1    7719106\n",
       "Name: dependents, dtype: int64"
      ]
     },
     "execution_count": 34,
     "metadata": {},
     "output_type": "execute_result"
    }
   ],
   "source": [
    "# check dependent numbers\n",
    "\n",
    "df_final['dependents'].value_counts()"
   ]
  },
  {
   "cell_type": "code",
   "execution_count": 35,
   "id": "2e178ee5",
   "metadata": {},
   "outputs": [],
   "source": [
    "# create flag for user with dependents \n",
    "\n",
    "df_final.loc[(df_final['dependents'] >= 1), 'parental_status'] = 'Parent'"
   ]
  },
  {
   "cell_type": "code",
   "execution_count": 36,
   "id": "e3a6841b",
   "metadata": {},
   "outputs": [],
   "source": [
    "# create flag for user with no dependents\n",
    "\n",
    "df_final.loc[(df_final['dependents'] == 0), 'parental_status'] = 'Non-parent'"
   ]
  },
  {
   "cell_type": "code",
   "execution_count": 37,
   "id": "3852e33f",
   "metadata": {
    "scrolled": false
   },
   "outputs": [
    {
     "data": {
      "text/plain": [
       "Non-parent     7739681\n",
       "Parent        23224883\n",
       "Name: parental_status, dtype: int64"
      ]
     },
     "execution_count": 37,
     "metadata": {},
     "output_type": "execute_result"
    }
   ],
   "source": [
    "# check parental_status of Instacart users\n",
    "\n",
    "df_final['parental_status'].value_counts().sort_index()"
   ]
  },
  {
   "cell_type": "code",
   "execution_count": 38,
   "id": "2013edd7",
   "metadata": {
    "scrolled": true
   },
   "outputs": [
    {
     "data": {
      "text/html": [
       "<div>\n",
       "<style scoped>\n",
       "    .dataframe tbody tr th:only-of-type {\n",
       "        vertical-align: middle;\n",
       "    }\n",
       "\n",
       "    .dataframe tbody tr th {\n",
       "        vertical-align: top;\n",
       "    }\n",
       "\n",
       "    .dataframe thead th {\n",
       "        text-align: right;\n",
       "    }\n",
       "</style>\n",
       "<table border=\"1\" class=\"dataframe\">\n",
       "  <thead>\n",
       "    <tr style=\"text-align: right;\">\n",
       "      <th></th>\n",
       "      <th>order_id</th>\n",
       "      <th>user_id</th>\n",
       "      <th>order_number</th>\n",
       "      <th>order_dow</th>\n",
       "      <th>order_hour_of_day</th>\n",
       "      <th>days_since_prior_order</th>\n",
       "      <th>product_id</th>\n",
       "      <th>add_to_cart_order</th>\n",
       "      <th>reordered</th>\n",
       "      <th>product_name</th>\n",
       "      <th>aisle_id</th>\n",
       "      <th>department_id</th>\n",
       "      <th>prices</th>\n",
       "      <th>price_range_loc</th>\n",
       "      <th>activity</th>\n",
       "      <th>busiest_period_of_day</th>\n",
       "      <th>max_order</th>\n",
       "      <th>loyalty_flag</th>\n",
       "      <th>avg_order</th>\n",
       "      <th>spending_flag</th>\n",
       "      <th>ord_med_freq</th>\n",
       "      <th>order_freq_flag</th>\n",
       "      <th>gender</th>\n",
       "      <th>state</th>\n",
       "      <th>age</th>\n",
       "      <th>date_joined</th>\n",
       "      <th>dependents</th>\n",
       "      <th>fam_status</th>\n",
       "      <th>income</th>\n",
       "      <th>_merge</th>\n",
       "      <th>region</th>\n",
       "      <th>exclusion_flag</th>\n",
       "      <th>age_range</th>\n",
       "      <th>income_bracket</th>\n",
       "      <th>parental_status</th>\n",
       "    </tr>\n",
       "  </thead>\n",
       "  <tbody>\n",
       "    <tr>\n",
       "      <th>0</th>\n",
       "      <td>2539329</td>\n",
       "      <td>1</td>\n",
       "      <td>1</td>\n",
       "      <td>2</td>\n",
       "      <td>8</td>\n",
       "      <td>0.000</td>\n",
       "      <td>196</td>\n",
       "      <td>1</td>\n",
       "      <td>0</td>\n",
       "      <td>Soda</td>\n",
       "      <td>77</td>\n",
       "      <td>7</td>\n",
       "      <td>9.000</td>\n",
       "      <td>Mid-range product</td>\n",
       "      <td>Regular days</td>\n",
       "      <td>Average orders</td>\n",
       "      <td>10</td>\n",
       "      <td>New customer</td>\n",
       "      <td>6.368</td>\n",
       "      <td>Low spender</td>\n",
       "      <td>20.000</td>\n",
       "      <td>Regular customer</td>\n",
       "      <td>Female</td>\n",
       "      <td>Alabama</td>\n",
       "      <td>31</td>\n",
       "      <td>2/17/2019</td>\n",
       "      <td>3</td>\n",
       "      <td>married</td>\n",
       "      <td>40423</td>\n",
       "      <td>both</td>\n",
       "      <td>South</td>\n",
       "      <td>Regular customer</td>\n",
       "      <td>31-40</td>\n",
       "      <td>&lt;50000</td>\n",
       "      <td>Parent</td>\n",
       "    </tr>\n",
       "    <tr>\n",
       "      <th>1</th>\n",
       "      <td>2398795</td>\n",
       "      <td>1</td>\n",
       "      <td>2</td>\n",
       "      <td>3</td>\n",
       "      <td>7</td>\n",
       "      <td>15.000</td>\n",
       "      <td>196</td>\n",
       "      <td>1</td>\n",
       "      <td>1</td>\n",
       "      <td>Soda</td>\n",
       "      <td>77</td>\n",
       "      <td>7</td>\n",
       "      <td>9.000</td>\n",
       "      <td>Mid-range product</td>\n",
       "      <td>Slowest days</td>\n",
       "      <td>Average orders</td>\n",
       "      <td>10</td>\n",
       "      <td>New customer</td>\n",
       "      <td>6.368</td>\n",
       "      <td>Low spender</td>\n",
       "      <td>20.000</td>\n",
       "      <td>Regular customer</td>\n",
       "      <td>Female</td>\n",
       "      <td>Alabama</td>\n",
       "      <td>31</td>\n",
       "      <td>2/17/2019</td>\n",
       "      <td>3</td>\n",
       "      <td>married</td>\n",
       "      <td>40423</td>\n",
       "      <td>both</td>\n",
       "      <td>South</td>\n",
       "      <td>Regular customer</td>\n",
       "      <td>31-40</td>\n",
       "      <td>&lt;50000</td>\n",
       "      <td>Parent</td>\n",
       "    </tr>\n",
       "    <tr>\n",
       "      <th>2</th>\n",
       "      <td>473747</td>\n",
       "      <td>1</td>\n",
       "      <td>3</td>\n",
       "      <td>3</td>\n",
       "      <td>12</td>\n",
       "      <td>21.000</td>\n",
       "      <td>196</td>\n",
       "      <td>1</td>\n",
       "      <td>1</td>\n",
       "      <td>Soda</td>\n",
       "      <td>77</td>\n",
       "      <td>7</td>\n",
       "      <td>9.000</td>\n",
       "      <td>Mid-range product</td>\n",
       "      <td>Slowest days</td>\n",
       "      <td>Most orders</td>\n",
       "      <td>10</td>\n",
       "      <td>New customer</td>\n",
       "      <td>6.368</td>\n",
       "      <td>Low spender</td>\n",
       "      <td>20.000</td>\n",
       "      <td>Regular customer</td>\n",
       "      <td>Female</td>\n",
       "      <td>Alabama</td>\n",
       "      <td>31</td>\n",
       "      <td>2/17/2019</td>\n",
       "      <td>3</td>\n",
       "      <td>married</td>\n",
       "      <td>40423</td>\n",
       "      <td>both</td>\n",
       "      <td>South</td>\n",
       "      <td>Regular customer</td>\n",
       "      <td>31-40</td>\n",
       "      <td>&lt;50000</td>\n",
       "      <td>Parent</td>\n",
       "    </tr>\n",
       "    <tr>\n",
       "      <th>3</th>\n",
       "      <td>2254736</td>\n",
       "      <td>1</td>\n",
       "      <td>4</td>\n",
       "      <td>4</td>\n",
       "      <td>7</td>\n",
       "      <td>29.000</td>\n",
       "      <td>196</td>\n",
       "      <td>1</td>\n",
       "      <td>1</td>\n",
       "      <td>Soda</td>\n",
       "      <td>77</td>\n",
       "      <td>7</td>\n",
       "      <td>9.000</td>\n",
       "      <td>Mid-range product</td>\n",
       "      <td>Slowest days</td>\n",
       "      <td>Average orders</td>\n",
       "      <td>10</td>\n",
       "      <td>New customer</td>\n",
       "      <td>6.368</td>\n",
       "      <td>Low spender</td>\n",
       "      <td>20.000</td>\n",
       "      <td>Regular customer</td>\n",
       "      <td>Female</td>\n",
       "      <td>Alabama</td>\n",
       "      <td>31</td>\n",
       "      <td>2/17/2019</td>\n",
       "      <td>3</td>\n",
       "      <td>married</td>\n",
       "      <td>40423</td>\n",
       "      <td>both</td>\n",
       "      <td>South</td>\n",
       "      <td>Regular customer</td>\n",
       "      <td>31-40</td>\n",
       "      <td>&lt;50000</td>\n",
       "      <td>Parent</td>\n",
       "    </tr>\n",
       "    <tr>\n",
       "      <th>4</th>\n",
       "      <td>431534</td>\n",
       "      <td>1</td>\n",
       "      <td>5</td>\n",
       "      <td>4</td>\n",
       "      <td>15</td>\n",
       "      <td>28.000</td>\n",
       "      <td>196</td>\n",
       "      <td>1</td>\n",
       "      <td>1</td>\n",
       "      <td>Soda</td>\n",
       "      <td>77</td>\n",
       "      <td>7</td>\n",
       "      <td>9.000</td>\n",
       "      <td>Mid-range product</td>\n",
       "      <td>Slowest days</td>\n",
       "      <td>Most orders</td>\n",
       "      <td>10</td>\n",
       "      <td>New customer</td>\n",
       "      <td>6.368</td>\n",
       "      <td>Low spender</td>\n",
       "      <td>20.000</td>\n",
       "      <td>Regular customer</td>\n",
       "      <td>Female</td>\n",
       "      <td>Alabama</td>\n",
       "      <td>31</td>\n",
       "      <td>2/17/2019</td>\n",
       "      <td>3</td>\n",
       "      <td>married</td>\n",
       "      <td>40423</td>\n",
       "      <td>both</td>\n",
       "      <td>South</td>\n",
       "      <td>Regular customer</td>\n",
       "      <td>31-40</td>\n",
       "      <td>&lt;50000</td>\n",
       "      <td>Parent</td>\n",
       "    </tr>\n",
       "  </tbody>\n",
       "</table>\n",
       "</div>"
      ],
      "text/plain": [
       "   order_id  user_id  order_number  order_dow  order_hour_of_day  \\\n",
       "0   2539329        1             1          2                  8   \n",
       "1   2398795        1             2          3                  7   \n",
       "2    473747        1             3          3                 12   \n",
       "3   2254736        1             4          4                  7   \n",
       "4    431534        1             5          4                 15   \n",
       "\n",
       "   days_since_prior_order  product_id  add_to_cart_order  reordered  \\\n",
       "0                   0.000         196                  1          0   \n",
       "1                  15.000         196                  1          1   \n",
       "2                  21.000         196                  1          1   \n",
       "3                  29.000         196                  1          1   \n",
       "4                  28.000         196                  1          1   \n",
       "\n",
       "  product_name  aisle_id  department_id  prices    price_range_loc  \\\n",
       "0         Soda        77              7   9.000  Mid-range product   \n",
       "1         Soda        77              7   9.000  Mid-range product   \n",
       "2         Soda        77              7   9.000  Mid-range product   \n",
       "3         Soda        77              7   9.000  Mid-range product   \n",
       "4         Soda        77              7   9.000  Mid-range product   \n",
       "\n",
       "       activity busiest_period_of_day  max_order  loyalty_flag  avg_order  \\\n",
       "0  Regular days        Average orders         10  New customer      6.368   \n",
       "1  Slowest days        Average orders         10  New customer      6.368   \n",
       "2  Slowest days           Most orders         10  New customer      6.368   \n",
       "3  Slowest days        Average orders         10  New customer      6.368   \n",
       "4  Slowest days           Most orders         10  New customer      6.368   \n",
       "\n",
       "  spending_flag  ord_med_freq   order_freq_flag  gender    state  age  \\\n",
       "0   Low spender        20.000  Regular customer  Female  Alabama   31   \n",
       "1   Low spender        20.000  Regular customer  Female  Alabama   31   \n",
       "2   Low spender        20.000  Regular customer  Female  Alabama   31   \n",
       "3   Low spender        20.000  Regular customer  Female  Alabama   31   \n",
       "4   Low spender        20.000  Regular customer  Female  Alabama   31   \n",
       "\n",
       "  date_joined  dependents fam_status  income _merge region    exclusion_flag  \\\n",
       "0   2/17/2019           3    married   40423   both  South  Regular customer   \n",
       "1   2/17/2019           3    married   40423   both  South  Regular customer   \n",
       "2   2/17/2019           3    married   40423   both  South  Regular customer   \n",
       "3   2/17/2019           3    married   40423   both  South  Regular customer   \n",
       "4   2/17/2019           3    married   40423   both  South  Regular customer   \n",
       "\n",
       "  age_range income_bracket parental_status  \n",
       "0     31-40         <50000          Parent  \n",
       "1     31-40         <50000          Parent  \n",
       "2     31-40         <50000          Parent  \n",
       "3     31-40         <50000          Parent  \n",
       "4     31-40         <50000          Parent  "
      ]
     },
     "execution_count": 38,
     "metadata": {},
     "output_type": "execute_result"
    }
   ],
   "source": [
    "# Check latest columns of df_final \n",
    "\n",
    "df_final.head()"
   ]
  },
  {
   "cell_type": "code",
   "execution_count": 39,
   "id": "d97546f5",
   "metadata": {},
   "outputs": [
    {
     "data": {
      "text/plain": [
       "(30964564, 35)"
      ]
     },
     "execution_count": 39,
     "metadata": {},
     "output_type": "execute_result"
    }
   ],
   "source": [
    "# Check number of rows in df_final\n",
    "\n",
    "df_final.shape"
   ]
  },
  {
   "cell_type": "code",
   "execution_count": null,
   "id": "00beb73b",
   "metadata": {},
   "outputs": [],
   "source": []
  }
 ],
 "metadata": {
  "kernelspec": {
   "display_name": "Python 3 (ipykernel)",
   "language": "python",
   "name": "python3"
  },
  "language_info": {
   "codemirror_mode": {
    "name": "ipython",
    "version": 3
   },
   "file_extension": ".py",
   "mimetype": "text/x-python",
   "name": "python",
   "nbconvert_exporter": "python",
   "pygments_lexer": "ipython3",
   "version": "3.9.7"
  }
 },
 "nbformat": 4,
 "nbformat_minor": 5
}
