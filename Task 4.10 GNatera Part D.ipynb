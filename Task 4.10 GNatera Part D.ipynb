{
 "cells": [
  {
   "cell_type": "markdown",
   "id": "87c6bdaf",
   "metadata": {},
   "source": [
    "# Task 4.10 Part D Coding Etiquette and Excel Reporting\n",
    "\n",
    "Contents\n",
    "\n",
    "1. Import libraries\n",
    "\n",
    "\n",
    "2. Import latest data set\n",
    "\n",
    "\n",
    "3. Data insights and charts\n",
    "\n",
    "     3a. Customer profile by region\n",
    "     \n",
    "     3b. Customer Spending by frequency of orders\n",
    "     \n",
    "     3c. Demand for each department by region\n",
    "     \n",
    "     3d. Department by price range\n",
    "     \n",
    "     3e. Customer loyalty by price range of products\n",
    "\n",
    "\n",
    "4. Additional insights\n",
    "     "
   ]
  },
  {
   "cell_type": "code",
   "execution_count": 1,
   "id": "4226f776",
   "metadata": {},
   "outputs": [],
   "source": [
    "# Import libraries\n",
    "\n",
    "import pandas as pd\n",
    "import numpy as np\n",
    "import os\n",
    "import matplotlib.pyplot as plt\n",
    "import seaborn as sns\n",
    "import scipy"
   ]
  },
  {
   "cell_type": "code",
   "execution_count": 2,
   "id": "78eab81d",
   "metadata": {},
   "outputs": [],
   "source": [
    "# Import latest dataset Instacart_final\n",
    "# Turn project folder path into a string\n",
    "\n",
    "path = r'/Users/giorjeanmutuc/Instacart Basket Analysis'"
   ]
  },
  {
   "cell_type": "code",
   "execution_count": 3,
   "id": "a0e0f782",
   "metadata": {},
   "outputs": [],
   "source": [
    "# import Instacart_final3.pkl\n",
    "\n",
    "df_final = pd.read_pickle(r'/Users/giorjeanmutuc/Instacart Basket Analysis/02 Data/Prepared Data/Instacart_final3.pkl')"
   ]
  },
  {
   "cell_type": "code",
   "execution_count": 4,
   "id": "6a690bed",
   "metadata": {},
   "outputs": [],
   "source": [
    "# remove column limit to enable checking the data\n",
    "\n",
    "pd.options.display.max_columns = None"
   ]
  },
  {
   "cell_type": "code",
   "execution_count": 10,
   "id": "3eec5c0d",
   "metadata": {},
   "outputs": [
    {
     "data": {
      "text/html": [
       "<div>\n",
       "<style scoped>\n",
       "    .dataframe tbody tr th:only-of-type {\n",
       "        vertical-align: middle;\n",
       "    }\n",
       "\n",
       "    .dataframe tbody tr th {\n",
       "        vertical-align: top;\n",
       "    }\n",
       "\n",
       "    .dataframe thead th {\n",
       "        text-align: right;\n",
       "    }\n",
       "</style>\n",
       "<table border=\"1\" class=\"dataframe\">\n",
       "  <thead>\n",
       "    <tr style=\"text-align: right;\">\n",
       "      <th></th>\n",
       "      <th>order_id</th>\n",
       "      <th>user_id</th>\n",
       "      <th>order_number</th>\n",
       "      <th>order_dow</th>\n",
       "      <th>order_hour_of_day</th>\n",
       "      <th>days_since_prior_order</th>\n",
       "      <th>product_id</th>\n",
       "      <th>add_to_cart_order</th>\n",
       "      <th>reordered</th>\n",
       "      <th>product_name</th>\n",
       "      <th>aisle_id</th>\n",
       "      <th>department_id</th>\n",
       "      <th>prices</th>\n",
       "      <th>price_range_loc</th>\n",
       "      <th>activity</th>\n",
       "      <th>busiest_period_of_day</th>\n",
       "      <th>max_order</th>\n",
       "      <th>loyalty_flag</th>\n",
       "      <th>avg_order</th>\n",
       "      <th>spending_flag</th>\n",
       "      <th>ord_med_freq</th>\n",
       "      <th>order_freq_flag</th>\n",
       "      <th>gender</th>\n",
       "      <th>state</th>\n",
       "      <th>age</th>\n",
       "      <th>date_joined</th>\n",
       "      <th>dependents</th>\n",
       "      <th>fam_status</th>\n",
       "      <th>income</th>\n",
       "      <th>_merge</th>\n",
       "      <th>region</th>\n",
       "      <th>exclusion_flag</th>\n",
       "      <th>age_range</th>\n",
       "      <th>income_bracket</th>\n",
       "      <th>parental_status</th>\n",
       "      <th>customer_profile</th>\n",
       "    </tr>\n",
       "  </thead>\n",
       "  <tbody>\n",
       "    <tr>\n",
       "      <th>0</th>\n",
       "      <td>2539329</td>\n",
       "      <td>1</td>\n",
       "      <td>1</td>\n",
       "      <td>2</td>\n",
       "      <td>8</td>\n",
       "      <td>0.0</td>\n",
       "      <td>196</td>\n",
       "      <td>1</td>\n",
       "      <td>0</td>\n",
       "      <td>Soda</td>\n",
       "      <td>77</td>\n",
       "      <td>7</td>\n",
       "      <td>9.0</td>\n",
       "      <td>Mid-range product</td>\n",
       "      <td>Regular days</td>\n",
       "      <td>Average orders</td>\n",
       "      <td>10</td>\n",
       "      <td>New customer</td>\n",
       "      <td>6.367797</td>\n",
       "      <td>Low spender</td>\n",
       "      <td>20.0</td>\n",
       "      <td>Regular customer</td>\n",
       "      <td>Female</td>\n",
       "      <td>Alabama</td>\n",
       "      <td>31</td>\n",
       "      <td>2/17/2019</td>\n",
       "      <td>3</td>\n",
       "      <td>married</td>\n",
       "      <td>40423</td>\n",
       "      <td>both</td>\n",
       "      <td>South</td>\n",
       "      <td>Regular customer</td>\n",
       "      <td>31-40</td>\n",
       "      <td>&lt;50000</td>\n",
       "      <td>Parent</td>\n",
       "      <td>Young parent</td>\n",
       "    </tr>\n",
       "    <tr>\n",
       "      <th>1</th>\n",
       "      <td>2398795</td>\n",
       "      <td>1</td>\n",
       "      <td>2</td>\n",
       "      <td>3</td>\n",
       "      <td>7</td>\n",
       "      <td>15.0</td>\n",
       "      <td>196</td>\n",
       "      <td>1</td>\n",
       "      <td>1</td>\n",
       "      <td>Soda</td>\n",
       "      <td>77</td>\n",
       "      <td>7</td>\n",
       "      <td>9.0</td>\n",
       "      <td>Mid-range product</td>\n",
       "      <td>Slowest days</td>\n",
       "      <td>Average orders</td>\n",
       "      <td>10</td>\n",
       "      <td>New customer</td>\n",
       "      <td>6.367797</td>\n",
       "      <td>Low spender</td>\n",
       "      <td>20.0</td>\n",
       "      <td>Regular customer</td>\n",
       "      <td>Female</td>\n",
       "      <td>Alabama</td>\n",
       "      <td>31</td>\n",
       "      <td>2/17/2019</td>\n",
       "      <td>3</td>\n",
       "      <td>married</td>\n",
       "      <td>40423</td>\n",
       "      <td>both</td>\n",
       "      <td>South</td>\n",
       "      <td>Regular customer</td>\n",
       "      <td>31-40</td>\n",
       "      <td>&lt;50000</td>\n",
       "      <td>Parent</td>\n",
       "      <td>Young parent</td>\n",
       "    </tr>\n",
       "    <tr>\n",
       "      <th>2</th>\n",
       "      <td>473747</td>\n",
       "      <td>1</td>\n",
       "      <td>3</td>\n",
       "      <td>3</td>\n",
       "      <td>12</td>\n",
       "      <td>21.0</td>\n",
       "      <td>196</td>\n",
       "      <td>1</td>\n",
       "      <td>1</td>\n",
       "      <td>Soda</td>\n",
       "      <td>77</td>\n",
       "      <td>7</td>\n",
       "      <td>9.0</td>\n",
       "      <td>Mid-range product</td>\n",
       "      <td>Slowest days</td>\n",
       "      <td>Most orders</td>\n",
       "      <td>10</td>\n",
       "      <td>New customer</td>\n",
       "      <td>6.367797</td>\n",
       "      <td>Low spender</td>\n",
       "      <td>20.0</td>\n",
       "      <td>Regular customer</td>\n",
       "      <td>Female</td>\n",
       "      <td>Alabama</td>\n",
       "      <td>31</td>\n",
       "      <td>2/17/2019</td>\n",
       "      <td>3</td>\n",
       "      <td>married</td>\n",
       "      <td>40423</td>\n",
       "      <td>both</td>\n",
       "      <td>South</td>\n",
       "      <td>Regular customer</td>\n",
       "      <td>31-40</td>\n",
       "      <td>&lt;50000</td>\n",
       "      <td>Parent</td>\n",
       "      <td>Young parent</td>\n",
       "    </tr>\n",
       "    <tr>\n",
       "      <th>3</th>\n",
       "      <td>2254736</td>\n",
       "      <td>1</td>\n",
       "      <td>4</td>\n",
       "      <td>4</td>\n",
       "      <td>7</td>\n",
       "      <td>29.0</td>\n",
       "      <td>196</td>\n",
       "      <td>1</td>\n",
       "      <td>1</td>\n",
       "      <td>Soda</td>\n",
       "      <td>77</td>\n",
       "      <td>7</td>\n",
       "      <td>9.0</td>\n",
       "      <td>Mid-range product</td>\n",
       "      <td>Slowest days</td>\n",
       "      <td>Average orders</td>\n",
       "      <td>10</td>\n",
       "      <td>New customer</td>\n",
       "      <td>6.367797</td>\n",
       "      <td>Low spender</td>\n",
       "      <td>20.0</td>\n",
       "      <td>Regular customer</td>\n",
       "      <td>Female</td>\n",
       "      <td>Alabama</td>\n",
       "      <td>31</td>\n",
       "      <td>2/17/2019</td>\n",
       "      <td>3</td>\n",
       "      <td>married</td>\n",
       "      <td>40423</td>\n",
       "      <td>both</td>\n",
       "      <td>South</td>\n",
       "      <td>Regular customer</td>\n",
       "      <td>31-40</td>\n",
       "      <td>&lt;50000</td>\n",
       "      <td>Parent</td>\n",
       "      <td>Young parent</td>\n",
       "    </tr>\n",
       "    <tr>\n",
       "      <th>4</th>\n",
       "      <td>431534</td>\n",
       "      <td>1</td>\n",
       "      <td>5</td>\n",
       "      <td>4</td>\n",
       "      <td>15</td>\n",
       "      <td>28.0</td>\n",
       "      <td>196</td>\n",
       "      <td>1</td>\n",
       "      <td>1</td>\n",
       "      <td>Soda</td>\n",
       "      <td>77</td>\n",
       "      <td>7</td>\n",
       "      <td>9.0</td>\n",
       "      <td>Mid-range product</td>\n",
       "      <td>Slowest days</td>\n",
       "      <td>Most orders</td>\n",
       "      <td>10</td>\n",
       "      <td>New customer</td>\n",
       "      <td>6.367797</td>\n",
       "      <td>Low spender</td>\n",
       "      <td>20.0</td>\n",
       "      <td>Regular customer</td>\n",
       "      <td>Female</td>\n",
       "      <td>Alabama</td>\n",
       "      <td>31</td>\n",
       "      <td>2/17/2019</td>\n",
       "      <td>3</td>\n",
       "      <td>married</td>\n",
       "      <td>40423</td>\n",
       "      <td>both</td>\n",
       "      <td>South</td>\n",
       "      <td>Regular customer</td>\n",
       "      <td>31-40</td>\n",
       "      <td>&lt;50000</td>\n",
       "      <td>Parent</td>\n",
       "      <td>Young parent</td>\n",
       "    </tr>\n",
       "  </tbody>\n",
       "</table>\n",
       "</div>"
      ],
      "text/plain": [
       "   order_id  user_id  order_number  order_dow  order_hour_of_day  \\\n",
       "0   2539329        1             1          2                  8   \n",
       "1   2398795        1             2          3                  7   \n",
       "2    473747        1             3          3                 12   \n",
       "3   2254736        1             4          4                  7   \n",
       "4    431534        1             5          4                 15   \n",
       "\n",
       "   days_since_prior_order  product_id  add_to_cart_order  reordered  \\\n",
       "0                     0.0         196                  1          0   \n",
       "1                    15.0         196                  1          1   \n",
       "2                    21.0         196                  1          1   \n",
       "3                    29.0         196                  1          1   \n",
       "4                    28.0         196                  1          1   \n",
       "\n",
       "  product_name  aisle_id  department_id  prices    price_range_loc  \\\n",
       "0         Soda        77              7     9.0  Mid-range product   \n",
       "1         Soda        77              7     9.0  Mid-range product   \n",
       "2         Soda        77              7     9.0  Mid-range product   \n",
       "3         Soda        77              7     9.0  Mid-range product   \n",
       "4         Soda        77              7     9.0  Mid-range product   \n",
       "\n",
       "       activity busiest_period_of_day  max_order  loyalty_flag  avg_order  \\\n",
       "0  Regular days        Average orders         10  New customer   6.367797   \n",
       "1  Slowest days        Average orders         10  New customer   6.367797   \n",
       "2  Slowest days           Most orders         10  New customer   6.367797   \n",
       "3  Slowest days        Average orders         10  New customer   6.367797   \n",
       "4  Slowest days           Most orders         10  New customer   6.367797   \n",
       "\n",
       "  spending_flag  ord_med_freq   order_freq_flag  gender    state  age  \\\n",
       "0   Low spender          20.0  Regular customer  Female  Alabama   31   \n",
       "1   Low spender          20.0  Regular customer  Female  Alabama   31   \n",
       "2   Low spender          20.0  Regular customer  Female  Alabama   31   \n",
       "3   Low spender          20.0  Regular customer  Female  Alabama   31   \n",
       "4   Low spender          20.0  Regular customer  Female  Alabama   31   \n",
       "\n",
       "  date_joined  dependents fam_status  income _merge region    exclusion_flag  \\\n",
       "0   2/17/2019           3    married   40423   both  South  Regular customer   \n",
       "1   2/17/2019           3    married   40423   both  South  Regular customer   \n",
       "2   2/17/2019           3    married   40423   both  South  Regular customer   \n",
       "3   2/17/2019           3    married   40423   both  South  Regular customer   \n",
       "4   2/17/2019           3    married   40423   both  South  Regular customer   \n",
       "\n",
       "  age_range income_bracket parental_status customer_profile  \n",
       "0     31-40         <50000          Parent     Young parent  \n",
       "1     31-40         <50000          Parent     Young parent  \n",
       "2     31-40         <50000          Parent     Young parent  \n",
       "3     31-40         <50000          Parent     Young parent  \n",
       "4     31-40         <50000          Parent     Young parent  "
      ]
     },
     "execution_count": 10,
     "metadata": {},
     "output_type": "execute_result"
    }
   ],
   "source": [
    "df_final.head()"
   ]
  },
  {
   "cell_type": "code",
   "execution_count": 7,
   "id": "189c35ec",
   "metadata": {},
   "outputs": [
    {
     "data": {
      "text/plain": [
       "(30964564, 36)"
      ]
     },
     "execution_count": 7,
     "metadata": {},
     "output_type": "execute_result"
    }
   ],
   "source": [
    "df_final.shape"
   ]
  },
  {
   "cell_type": "markdown",
   "id": "3ca4349e",
   "metadata": {},
   "source": [
    "# 3. Data insights and charts"
   ]
  },
  {
   "cell_type": "markdown",
   "id": "6b245943",
   "metadata": {},
   "source": [
    "   # 3.a Customer profile by region"
   ]
  },
  {
   "cell_type": "code",
   "execution_count": 5,
   "id": "92cdde37",
   "metadata": {},
   "outputs": [],
   "source": [
    "# Crosstab customer_profile and region\n",
    "\n",
    "xcustomer_region = pd.crosstab(df_final['customer_profile'], df_final['region'], dropna = False)"
   ]
  },
  {
   "cell_type": "code",
   "execution_count": 11,
   "id": "11ff662e",
   "metadata": {},
   "outputs": [
    {
     "data": {
      "text/html": [
       "<div>\n",
       "<style scoped>\n",
       "    .dataframe tbody tr th:only-of-type {\n",
       "        vertical-align: middle;\n",
       "    }\n",
       "\n",
       "    .dataframe tbody tr th {\n",
       "        vertical-align: top;\n",
       "    }\n",
       "\n",
       "    .dataframe thead th {\n",
       "        text-align: right;\n",
       "    }\n",
       "</style>\n",
       "<table border=\"1\" class=\"dataframe\">\n",
       "  <thead>\n",
       "    <tr style=\"text-align: right;\">\n",
       "      <th>region</th>\n",
       "      <th>Midwest</th>\n",
       "      <th>Northeast</th>\n",
       "      <th>South</th>\n",
       "      <th>West</th>\n",
       "    </tr>\n",
       "    <tr>\n",
       "      <th>customer_profile</th>\n",
       "      <th></th>\n",
       "      <th></th>\n",
       "      <th></th>\n",
       "      <th></th>\n",
       "    </tr>\n",
       "  </thead>\n",
       "  <tbody>\n",
       "    <tr>\n",
       "      <th>Old parent</th>\n",
       "      <td>989030</td>\n",
       "      <td>743841</td>\n",
       "      <td>1357434</td>\n",
       "      <td>1047798</td>\n",
       "    </tr>\n",
       "    <tr>\n",
       "      <th>Other</th>\n",
       "      <td>3789235</td>\n",
       "      <td>2843025</td>\n",
       "      <td>5372549</td>\n",
       "      <td>4138500</td>\n",
       "    </tr>\n",
       "    <tr>\n",
       "      <th>Senior Shopper</th>\n",
       "      <td>986600</td>\n",
       "      <td>762516</td>\n",
       "      <td>1416691</td>\n",
       "      <td>1102933</td>\n",
       "    </tr>\n",
       "    <tr>\n",
       "      <th>Single shopper</th>\n",
       "      <td>485695</td>\n",
       "      <td>344228</td>\n",
       "      <td>684034</td>\n",
       "      <td>521345</td>\n",
       "    </tr>\n",
       "    <tr>\n",
       "      <th>Young parent</th>\n",
       "      <td>1010953</td>\n",
       "      <td>771075</td>\n",
       "      <td>1480431</td>\n",
       "      <td>1116651</td>\n",
       "    </tr>\n",
       "  </tbody>\n",
       "</table>\n",
       "</div>"
      ],
      "text/plain": [
       "region            Midwest  Northeast    South     West\n",
       "customer_profile                                      \n",
       "Old parent         989030     743841  1357434  1047798\n",
       "Other             3789235    2843025  5372549  4138500\n",
       "Senior Shopper     986600     762516  1416691  1102933\n",
       "Single shopper     485695     344228   684034   521345\n",
       "Young parent      1010953     771075  1480431  1116651"
      ]
     },
     "execution_count": 11,
     "metadata": {},
     "output_type": "execute_result"
    }
   ],
   "source": [
    "xcustomer_region"
   ]
  },
  {
   "cell_type": "code",
   "execution_count": 7,
   "id": "1144b56b",
   "metadata": {},
   "outputs": [
    {
     "data": {
      "text/plain": [
       "Text(0, 0.5, 'Customers(millions)')"
      ]
     },
     "execution_count": 7,
     "metadata": {},
     "output_type": "execute_result"
    },
    {
     "data": {
      "image/png": "[encoded data removed]",
      "text/plain": [
       "<Figure size 432x288 with 1 Axes>"
      ]
     },
     "metadata": {
      "needs_background": "light"
     },
     "output_type": "display_data"
    }
   ],
   "source": [
    "# Create bar chart for xcustomer_region\n",
    "\n",
    "bar_cust_region = xcustomer_region.plot.bar(title = 'Customer Profile by Region')\n",
    "\n",
    "plt.xlabel('Customer Profile')\n",
    "plt.ylabel('Customers(millions)')\n"
   ]
  },
  {
   "cell_type": "code",
   "execution_count": 8,
   "id": "eba57484",
   "metadata": {},
   "outputs": [],
   "source": [
    "# To export bar_cust_region image file\n",
    "\n",
    "bar_cust_region.figure.savefig(os.path.join(path, '04 Analysis','Visualizations', 'bar_cust_region.png'), bbox_inches = 'tight')"
   ]
  },
  {
   "cell_type": "markdown",
   "id": "ebd0b4d9",
   "metadata": {},
   "source": [
    "# 3b. Customer Spending by frequency of orders"
   ]
  },
  {
   "cell_type": "code",
   "execution_count": 56,
   "id": "7ef5f858",
   "metadata": {},
   "outputs": [],
   "source": [
    "# Crosstab spending_flag and order_freq_flag\n",
    "\n",
    "xspend_freq = pd.crosstab(df_final['spending_flag'], df_final['order_freq_flag'], dropna = False)"
   ]
  },
  {
   "cell_type": "code",
   "execution_count": 39,
   "id": "7da28c77",
   "metadata": {},
   "outputs": [
    {
     "data": {
      "text/html": [
       "<div>\n",
       "<style scoped>\n",
       "    .dataframe tbody tr th:only-of-type {\n",
       "        vertical-align: middle;\n",
       "    }\n",
       "\n",
       "    .dataframe tbody tr th {\n",
       "        vertical-align: top;\n",
       "    }\n",
       "\n",
       "    .dataframe thead th {\n",
       "        text-align: right;\n",
       "    }\n",
       "</style>\n",
       "<table border=\"1\" class=\"dataframe\">\n",
       "  <thead>\n",
       "    <tr style=\"text-align: right;\">\n",
       "      <th>order_freq_flag</th>\n",
       "      <th>Frequent customer</th>\n",
       "      <th>Non-frequent customer</th>\n",
       "      <th>Regular customer</th>\n",
       "    </tr>\n",
       "    <tr>\n",
       "      <th>spending_flag</th>\n",
       "      <th></th>\n",
       "      <th></th>\n",
       "      <th></th>\n",
       "    </tr>\n",
       "  </thead>\n",
       "  <tbody>\n",
       "    <tr>\n",
       "      <th>High spender</th>\n",
       "      <td>438053</td>\n",
       "      <td>40227</td>\n",
       "      <td>125145</td>\n",
       "    </tr>\n",
       "    <tr>\n",
       "      <th>Low spender</th>\n",
       "      <td>21770841</td>\n",
       "      <td>2147190</td>\n",
       "      <td>6443108</td>\n",
       "    </tr>\n",
       "  </tbody>\n",
       "</table>\n",
       "</div>"
      ],
      "text/plain": [
       "order_freq_flag  Frequent customer  Non-frequent customer  Regular customer\n",
       "spending_flag                                                              \n",
       "High spender                438053                  40227            125145\n",
       "Low spender               21770841                2147190           6443108"
      ]
     },
     "execution_count": 39,
     "metadata": {},
     "output_type": "execute_result"
    }
   ],
   "source": [
    "xspend_freq"
   ]
  },
  {
   "cell_type": "code",
   "execution_count": 57,
   "id": "f8a5387c",
   "metadata": {},
   "outputs": [
    {
     "name": "stderr",
     "output_type": "stream",
     "text": [
      "/var/folders/hp/8pw7bj8j4cn95z6t9ph44m480000gn/T/ipykernel_1559/3517090145.py:10: UserWarning: FixedFormatter should only be used together with FixedLocator\n",
      "  plt.gca().set_yticklabels(['{:,.0f}'.format(x) for x in current_values])\n"
     ]
    },
    {
     "data": {
      "text/plain": [
       "[Text(0, 0.0, '0'),\n",
       " Text(0, 5000000.0, '5,000,000'),\n",
       " Text(0, 10000000.0, '10,000,000'),\n",
       " Text(0, 15000000.0, '15,000,000'),\n",
       " Text(0, 20000000.0, '20,000,000'),\n",
       " Text(0, 25000000.0, '25,000,000')]"
      ]
     },
     "execution_count": 57,
     "metadata": {},
     "output_type": "execute_result"
    },
    {
     "data": {
      "image/png": "[encoded data removed]",
      "text/plain": [
       "<Figure size 432x288 with 1 Axes>"
      ]
     },
     "metadata": {
      "needs_background": "light"
     },
     "output_type": "display_data"
    }
   ],
   "source": [
    "# Creat bar chart for xspend_freq\n",
    "\n",
    "bar_xspend_freq = xspend_freq.plot.bar(title = 'Customer Use and Money Spent on Platform')\n",
    "\n",
    "plt.xlabel('Spending Type')\n",
    "plt.ylabel('Customers')\n",
    "\n",
    "# after plotting the data, format the labels\n",
    "current_values = plt.gca().get_yticks()\n",
    "plt.gca().set_yticklabels(['{:,.0f}'.format(x) for x in current_values])"
   ]
  },
  {
   "cell_type": "code",
   "execution_count": 58,
   "id": "c87b345b",
   "metadata": {},
   "outputs": [],
   "source": [
    "# To export bar_xspend_freq image file\n",
    "\n",
    "bar_xspend_freq.figure.savefig(os.path.join(path, '04 Analysis','Visualizations', 'bar_xspend_freq.png'),bbox_inches = 'tight')"
   ]
  },
  {
   "cell_type": "markdown",
   "id": "30472971",
   "metadata": {},
   "source": [
    "# 3c. Demand for each department by region"
   ]
  },
  {
   "cell_type": "code",
   "execution_count": 5,
   "id": "a3770649",
   "metadata": {},
   "outputs": [],
   "source": [
    "# Crosstab department_id and region\n",
    "\n",
    "xdeptid_region = pd.crosstab(df_final['department_id'], df_final['region'], dropna = False)"
   ]
  },
  {
   "cell_type": "code",
   "execution_count": 19,
   "id": "a75aae4a",
   "metadata": {},
   "outputs": [
    {
     "data": {
      "text/html": [
       "<div>\n",
       "<style scoped>\n",
       "    .dataframe tbody tr th:only-of-type {\n",
       "        vertical-align: middle;\n",
       "    }\n",
       "\n",
       "    .dataframe tbody tr th {\n",
       "        vertical-align: top;\n",
       "    }\n",
       "\n",
       "    .dataframe thead th {\n",
       "        text-align: right;\n",
       "    }\n",
       "</style>\n",
       "<table border=\"1\" class=\"dataframe\">\n",
       "  <thead>\n",
       "    <tr style=\"text-align: right;\">\n",
       "      <th>region</th>\n",
       "      <th>Midwest</th>\n",
       "      <th>Northeast</th>\n",
       "      <th>South</th>\n",
       "      <th>West</th>\n",
       "    </tr>\n",
       "    <tr>\n",
       "      <th>department_id</th>\n",
       "      <th></th>\n",
       "      <th></th>\n",
       "      <th></th>\n",
       "      <th></th>\n",
       "    </tr>\n",
       "  </thead>\n",
       "  <tbody>\n",
       "    <tr>\n",
       "      <th>1</th>\n",
       "      <td>498225</td>\n",
       "      <td>370436</td>\n",
       "      <td>709906</td>\n",
       "      <td>543164</td>\n",
       "    </tr>\n",
       "    <tr>\n",
       "      <th>2</th>\n",
       "      <td>7983</td>\n",
       "      <td>6268</td>\n",
       "      <td>11579</td>\n",
       "      <td>8581</td>\n",
       "    </tr>\n",
       "    <tr>\n",
       "      <th>3</th>\n",
       "      <td>261753</td>\n",
       "      <td>199300</td>\n",
       "      <td>371620</td>\n",
       "      <td>288155</td>\n",
       "    </tr>\n",
       "    <tr>\n",
       "      <th>4</th>\n",
       "      <td>2134115</td>\n",
       "      <td>1593004</td>\n",
       "      <td>3027476</td>\n",
       "      <td>2324678</td>\n",
       "    </tr>\n",
       "    <tr>\n",
       "      <th>5</th>\n",
       "      <td>34043</td>\n",
       "      <td>25017</td>\n",
       "      <td>48813</td>\n",
       "      <td>36754</td>\n",
       "    </tr>\n",
       "    <tr>\n",
       "      <th>6</th>\n",
       "      <td>60666</td>\n",
       "      <td>44678</td>\n",
       "      <td>84649</td>\n",
       "      <td>65998</td>\n",
       "    </tr>\n",
       "    <tr>\n",
       "      <th>7</th>\n",
       "      <td>598979</td>\n",
       "      <td>462929</td>\n",
       "      <td>859419</td>\n",
       "      <td>650574</td>\n",
       "    </tr>\n",
       "    <tr>\n",
       "      <th>8</th>\n",
       "      <td>21358</td>\n",
       "      <td>17734</td>\n",
       "      <td>29909</td>\n",
       "      <td>24059</td>\n",
       "    </tr>\n",
       "    <tr>\n",
       "      <th>9</th>\n",
       "      <td>193463</td>\n",
       "      <td>143817</td>\n",
       "      <td>272813</td>\n",
       "      <td>212043</td>\n",
       "    </tr>\n",
       "    <tr>\n",
       "      <th>10</th>\n",
       "      <td>7929</td>\n",
       "      <td>5599</td>\n",
       "      <td>11180</td>\n",
       "      <td>8743</td>\n",
       "    </tr>\n",
       "    <tr>\n",
       "      <th>11</th>\n",
       "      <td>100398</td>\n",
       "      <td>74765</td>\n",
       "      <td>142496</td>\n",
       "      <td>106647</td>\n",
       "    </tr>\n",
       "    <tr>\n",
       "      <th>12</th>\n",
       "      <td>158260</td>\n",
       "      <td>118571</td>\n",
       "      <td>224120</td>\n",
       "      <td>173830</td>\n",
       "    </tr>\n",
       "    <tr>\n",
       "      <th>13</th>\n",
       "      <td>420334</td>\n",
       "      <td>312731</td>\n",
       "      <td>591754</td>\n",
       "      <td>457886</td>\n",
       "    </tr>\n",
       "    <tr>\n",
       "      <th>14</th>\n",
       "      <td>156155</td>\n",
       "      <td>117904</td>\n",
       "      <td>223172</td>\n",
       "      <td>173619</td>\n",
       "    </tr>\n",
       "    <tr>\n",
       "      <th>15</th>\n",
       "      <td>237459</td>\n",
       "      <td>176936</td>\n",
       "      <td>337458</td>\n",
       "      <td>260221</td>\n",
       "    </tr>\n",
       "    <tr>\n",
       "      <th>16</th>\n",
       "      <td>1212490</td>\n",
       "      <td>914616</td>\n",
       "      <td>1723016</td>\n",
       "      <td>1327060</td>\n",
       "    </tr>\n",
       "    <tr>\n",
       "      <th>17</th>\n",
       "      <td>166992</td>\n",
       "      <td>124604</td>\n",
       "      <td>230061</td>\n",
       "      <td>178200</td>\n",
       "    </tr>\n",
       "    <tr>\n",
       "      <th>18</th>\n",
       "      <td>95741</td>\n",
       "      <td>72712</td>\n",
       "      <td>139511</td>\n",
       "      <td>102428</td>\n",
       "    </tr>\n",
       "    <tr>\n",
       "      <th>19</th>\n",
       "      <td>645143</td>\n",
       "      <td>493154</td>\n",
       "      <td>916780</td>\n",
       "      <td>711329</td>\n",
       "    </tr>\n",
       "    <tr>\n",
       "      <th>20</th>\n",
       "      <td>234464</td>\n",
       "      <td>178398</td>\n",
       "      <td>333620</td>\n",
       "      <td>257352</td>\n",
       "    </tr>\n",
       "    <tr>\n",
       "      <th>21</th>\n",
       "      <td>15563</td>\n",
       "      <td>11512</td>\n",
       "      <td>21787</td>\n",
       "      <td>15906</td>\n",
       "    </tr>\n",
       "  </tbody>\n",
       "</table>\n",
       "</div>"
      ],
      "text/plain": [
       "region         Midwest  Northeast    South     West\n",
       "department_id                                      \n",
       "1               498225     370436   709906   543164\n",
       "2                 7983       6268    11579     8581\n",
       "3               261753     199300   371620   288155\n",
       "4              2134115    1593004  3027476  2324678\n",
       "5                34043      25017    48813    36754\n",
       "6                60666      44678    84649    65998\n",
       "7               598979     462929   859419   650574\n",
       "8                21358      17734    29909    24059\n",
       "9               193463     143817   272813   212043\n",
       "10                7929       5599    11180     8743\n",
       "11              100398      74765   142496   106647\n",
       "12              158260     118571   224120   173830\n",
       "13              420334     312731   591754   457886\n",
       "14              156155     117904   223172   173619\n",
       "15              237459     176936   337458   260221\n",
       "16             1212490     914616  1723016  1327060\n",
       "17              166992     124604   230061   178200\n",
       "18               95741      72712   139511   102428\n",
       "19              645143     493154   916780   711329\n",
       "20              234464     178398   333620   257352\n",
       "21               15563      11512    21787    15906"
      ]
     },
     "execution_count": 19,
     "metadata": {},
     "output_type": "execute_result"
    }
   ],
   "source": [
    "xdeptid_region"
   ]
  },
  {
   "cell_type": "code",
   "execution_count": 6,
   "id": "dba767ee",
   "metadata": {},
   "outputs": [
    {
     "name": "stderr",
     "output_type": "stream",
     "text": [
      "/var/folders/hp/8pw7bj8j4cn95z6t9ph44m480000gn/T/ipykernel_1013/4091388965.py:13: UserWarning: FixedFormatter should only be used together with FixedLocator\n",
      "  plt.gca().set_yticklabels(['{:,.0f}'.format(x) for x in current_values])\n"
     ]
    },
    {
     "data": {
      "text/plain": [
       "[Text(0, 0.0, '0'),\n",
       " Text(0, 500000.0, '500,000'),\n",
       " Text(0, 1000000.0, '1,000,000'),\n",
       " Text(0, 1500000.0, '1,500,000'),\n",
       " Text(0, 2000000.0, '2,000,000'),\n",
       " Text(0, 2500000.0, '2,500,000'),\n",
       " Text(0, 3000000.0, '3,000,000'),\n",
       " Text(0, 3500000.0, '3,500,000')]"
      ]
     },
     "execution_count": 6,
     "metadata": {},
     "output_type": "execute_result"
    },
    {
     "data": {
      "image/png": "[encoded data removed]",
      "text/plain": [
       "<Figure size 432x288 with 1 Axes>"
      ]
     },
     "metadata": {
      "needs_background": "light"
     },
     "output_type": "display_data"
    }
   ],
   "source": [
    "# Create line chart for xdepid_region\n",
    "\n",
    "bar_xdeptid_region = xdeptid_region.plot.bar(title = 'Demand per Department ID by Region')\n",
    "\n",
    "plt.xlabel('Department ID')\n",
    "plt.ylabel('Customers')\n",
    "\n",
    "\n",
    "plt.xticks(range(0,21), ['Frozen','Other','Bakery','Produce','Alcohol','Intl','Beverages','Pets','Dry Goods','Bulk','Personal Care','Meat Seafood','Pantry','Breakfast','Canned Goods','Dairy Eggs','Household','Babies','Snacks','Deli','Missing'])\n",
    "\n",
    "# after plotting the data, format the labels\n",
    "current_values = plt.gca().get_yticks()\n",
    "plt.gca().set_yticklabels(['{:,.0f}'.format(x) for x in current_values])\n"
   ]
  },
  {
   "cell_type": "code",
   "execution_count": 7,
   "id": "e1c40c21",
   "metadata": {},
   "outputs": [],
   "source": [
    "# To export bar_xdeptid_region image file\n",
    "\n",
    "bar_xdeptid_region.figure.savefig(os.path.join(path, '04 Analysis','Visualizations', 'bar_xdeptid_region.png'),bbox_inches = 'tight', dpi = 100)"
   ]
  },
  {
   "cell_type": "code",
   "execution_count": 17,
   "id": "69b3fa36",
   "metadata": {},
   "outputs": [],
   "source": [
    "# Crosstab 'region' and order_freq_flag\n",
    "\n",
    "xregion_freq = pd.crosstab(df_final['region'], df_final['order_freq_flag'], dropna = False)"
   ]
  },
  {
   "cell_type": "code",
   "execution_count": 7,
   "id": "d6180df1",
   "metadata": {},
   "outputs": [
    {
     "data": {
      "text/html": [
       "<div>\n",
       "<style scoped>\n",
       "    .dataframe tbody tr th:only-of-type {\n",
       "        vertical-align: middle;\n",
       "    }\n",
       "\n",
       "    .dataframe tbody tr th {\n",
       "        vertical-align: top;\n",
       "    }\n",
       "\n",
       "    .dataframe thead th {\n",
       "        text-align: right;\n",
       "    }\n",
       "</style>\n",
       "<table border=\"1\" class=\"dataframe\">\n",
       "  <thead>\n",
       "    <tr style=\"text-align: right;\">\n",
       "      <th>order_freq_flag</th>\n",
       "      <th>Frequent customer</th>\n",
       "      <th>Non-frequent customer</th>\n",
       "      <th>Regular customer</th>\n",
       "    </tr>\n",
       "    <tr>\n",
       "      <th>region</th>\n",
       "      <th></th>\n",
       "      <th></th>\n",
       "      <th></th>\n",
       "    </tr>\n",
       "  </thead>\n",
       "  <tbody>\n",
       "    <tr>\n",
       "      <th>Midwest</th>\n",
       "      <td>5166753</td>\n",
       "      <td>523619</td>\n",
       "      <td>1571141</td>\n",
       "    </tr>\n",
       "    <tr>\n",
       "      <th>Northeast</th>\n",
       "      <td>3919693</td>\n",
       "      <td>379091</td>\n",
       "      <td>1165901</td>\n",
       "    </tr>\n",
       "    <tr>\n",
       "      <th>South</th>\n",
       "      <td>7407676</td>\n",
       "      <td>732373</td>\n",
       "      <td>2171090</td>\n",
       "    </tr>\n",
       "    <tr>\n",
       "      <th>West</th>\n",
       "      <td>5714772</td>\n",
       "      <td>552334</td>\n",
       "      <td>1660121</td>\n",
       "    </tr>\n",
       "  </tbody>\n",
       "</table>\n",
       "</div>"
      ],
      "text/plain": [
       "order_freq_flag  Frequent customer  Non-frequent customer  Regular customer\n",
       "region                                                                     \n",
       "Midwest                    5166753                 523619           1571141\n",
       "Northeast                  3919693                 379091           1165901\n",
       "South                      7407676                 732373           2171090\n",
       "West                       5714772                 552334           1660121"
      ]
     },
     "execution_count": 7,
     "metadata": {},
     "output_type": "execute_result"
    }
   ],
   "source": [
    "xregion_freq"
   ]
  },
  {
   "cell_type": "code",
   "execution_count": 18,
   "id": "857f64f4",
   "metadata": {},
   "outputs": [
    {
     "name": "stderr",
     "output_type": "stream",
     "text": [
      "/var/folders/hp/8pw7bj8j4cn95z6t9ph44m480000gn/T/ipykernel_1013/3899894600.py:10: UserWarning: FixedFormatter should only be used together with FixedLocator\n",
      "  plt.gca().set_yticklabels(['{:,.0f}'.format(x) for x in current_values])\n"
     ]
    },
    {
     "data": {
      "text/plain": [
       "[Text(0, 0.0, '0'),\n",
       " Text(0, 1000000.0, '1,000,000'),\n",
       " Text(0, 2000000.0, '2,000,000'),\n",
       " Text(0, 3000000.0, '3,000,000'),\n",
       " Text(0, 4000000.0, '4,000,000'),\n",
       " Text(0, 5000000.0, '5,000,000'),\n",
       " Text(0, 6000000.0, '6,000,000'),\n",
       " Text(0, 7000000.0, '7,000,000'),\n",
       " Text(0, 8000000.0, '8,000,000')]"
      ]
     },
     "execution_count": 18,
     "metadata": {},
     "output_type": "execute_result"
    },
    {
     "data": {
      "image/png": "[encoded data removed]",
      "text/plain": [
       "<Figure size 432x288 with 1 Axes>"
      ]
     },
     "metadata": {
      "needs_background": "light"
     },
     "output_type": "display_data"
    }
   ],
   "source": [
    "# Create bar chart for xregion_freq\n",
    "\n",
    "bar_xregion_freq = xregion_freq.plot.bar(title = 'Frequency of Orders by Region')\n",
    "\n",
    "plt.xlabel('Region')\n",
    "plt.ylabel('Orders')\n",
    "\n",
    "# after plotting the data, format the labels\n",
    "current_values = plt.gca().get_yticks()\n",
    "plt.gca().set_yticklabels(['{:,.0f}'.format(x) for x in current_values])"
   ]
  },
  {
   "cell_type": "code",
   "execution_count": 19,
   "id": "6fb273cb",
   "metadata": {},
   "outputs": [],
   "source": [
    "# To export bar_xregion_freq image file\n",
    "\n",
    "bar_xregion_freq.figure.savefig(os.path.join(path, '04 Analysis','Visualizations', 'bar_xregion_freq.png'),bbox_inches = 'tight')"
   ]
  },
  {
   "cell_type": "code",
   "execution_count": 8,
   "id": "412091c6",
   "metadata": {},
   "outputs": [],
   "source": [
    "# Crosstab department_id and order_freq_flag\n",
    "\n",
    "xdeptid_freq = pd.crosstab(df_final['department_id'], df_final['order_freq_flag'], dropna = False)"
   ]
  },
  {
   "cell_type": "code",
   "execution_count": 25,
   "id": "6d6a25c6",
   "metadata": {},
   "outputs": [
    {
     "data": {
      "text/html": [
       "<div>\n",
       "<style scoped>\n",
       "    .dataframe tbody tr th:only-of-type {\n",
       "        vertical-align: middle;\n",
       "    }\n",
       "\n",
       "    .dataframe tbody tr th {\n",
       "        vertical-align: top;\n",
       "    }\n",
       "\n",
       "    .dataframe thead th {\n",
       "        text-align: right;\n",
       "    }\n",
       "</style>\n",
       "<table border=\"1\" class=\"dataframe\">\n",
       "  <thead>\n",
       "    <tr style=\"text-align: right;\">\n",
       "      <th>order_freq_flag</th>\n",
       "      <th>Frequent customer</th>\n",
       "      <th>Non-frequent customer</th>\n",
       "      <th>Regular customer</th>\n",
       "    </tr>\n",
       "    <tr>\n",
       "      <th>department_id</th>\n",
       "      <th></th>\n",
       "      <th></th>\n",
       "      <th></th>\n",
       "    </tr>\n",
       "  </thead>\n",
       "  <tbody>\n",
       "    <tr>\n",
       "      <th>1</th>\n",
       "      <td>1442717</td>\n",
       "      <td>173184</td>\n",
       "      <td>505830</td>\n",
       "    </tr>\n",
       "    <tr>\n",
       "      <th>2</th>\n",
       "      <td>24708</td>\n",
       "      <td>2514</td>\n",
       "      <td>7189</td>\n",
       "    </tr>\n",
       "    <tr>\n",
       "      <th>3</th>\n",
       "      <td>807009</td>\n",
       "      <td>77236</td>\n",
       "      <td>236583</td>\n",
       "    </tr>\n",
       "    <tr>\n",
       "      <th>4</th>\n",
       "      <td>6652890</td>\n",
       "      <td>590675</td>\n",
       "      <td>1835708</td>\n",
       "    </tr>\n",
       "    <tr>\n",
       "      <th>5</th>\n",
       "      <td>105534</td>\n",
       "      <td>9751</td>\n",
       "      <td>29342</td>\n",
       "    </tr>\n",
       "    <tr>\n",
       "      <th>6</th>\n",
       "      <td>179643</td>\n",
       "      <td>19639</td>\n",
       "      <td>56709</td>\n",
       "    </tr>\n",
       "    <tr>\n",
       "      <th>7</th>\n",
       "      <td>1837479</td>\n",
       "      <td>186820</td>\n",
       "      <td>547602</td>\n",
       "    </tr>\n",
       "    <tr>\n",
       "      <th>8</th>\n",
       "      <td>62138</td>\n",
       "      <td>7407</td>\n",
       "      <td>23515</td>\n",
       "    </tr>\n",
       "    <tr>\n",
       "      <th>9</th>\n",
       "      <td>562483</td>\n",
       "      <td>66331</td>\n",
       "      <td>193322</td>\n",
       "    </tr>\n",
       "    <tr>\n",
       "      <th>10</th>\n",
       "      <td>25834</td>\n",
       "      <td>1829</td>\n",
       "      <td>5788</td>\n",
       "    </tr>\n",
       "    <tr>\n",
       "      <th>11</th>\n",
       "      <td>289387</td>\n",
       "      <td>35712</td>\n",
       "      <td>99207</td>\n",
       "    </tr>\n",
       "    <tr>\n",
       "      <th>12</th>\n",
       "      <td>473544</td>\n",
       "      <td>50453</td>\n",
       "      <td>150784</td>\n",
       "    </tr>\n",
       "    <tr>\n",
       "      <th>13</th>\n",
       "      <td>1254863</td>\n",
       "      <td>137456</td>\n",
       "      <td>390386</td>\n",
       "    </tr>\n",
       "    <tr>\n",
       "      <th>14</th>\n",
       "      <td>477092</td>\n",
       "      <td>48776</td>\n",
       "      <td>144982</td>\n",
       "    </tr>\n",
       "    <tr>\n",
       "      <th>15</th>\n",
       "      <td>694985</td>\n",
       "      <td>82079</td>\n",
       "      <td>235010</td>\n",
       "    </tr>\n",
       "    <tr>\n",
       "      <th>16</th>\n",
       "      <td>3785080</td>\n",
       "      <td>340786</td>\n",
       "      <td>1051316</td>\n",
       "    </tr>\n",
       "    <tr>\n",
       "      <th>17</th>\n",
       "      <td>461811</td>\n",
       "      <td>65489</td>\n",
       "      <td>172557</td>\n",
       "    </tr>\n",
       "    <tr>\n",
       "      <th>18</th>\n",
       "      <td>327033</td>\n",
       "      <td>18189</td>\n",
       "      <td>65170</td>\n",
       "    </tr>\n",
       "    <tr>\n",
       "      <th>19</th>\n",
       "      <td>1986268</td>\n",
       "      <td>195620</td>\n",
       "      <td>584518</td>\n",
       "    </tr>\n",
       "    <tr>\n",
       "      <th>20</th>\n",
       "      <td>708148</td>\n",
       "      <td>74288</td>\n",
       "      <td>221398</td>\n",
       "    </tr>\n",
       "    <tr>\n",
       "      <th>21</th>\n",
       "      <td>50248</td>\n",
       "      <td>3183</td>\n",
       "      <td>11337</td>\n",
       "    </tr>\n",
       "  </tbody>\n",
       "</table>\n",
       "</div>"
      ],
      "text/plain": [
       "order_freq_flag  Frequent customer  Non-frequent customer  Regular customer\n",
       "department_id                                                              \n",
       "1                          1442717                 173184            505830\n",
       "2                            24708                   2514              7189\n",
       "3                           807009                  77236            236583\n",
       "4                          6652890                 590675           1835708\n",
       "5                           105534                   9751             29342\n",
       "6                           179643                  19639             56709\n",
       "7                          1837479                 186820            547602\n",
       "8                            62138                   7407             23515\n",
       "9                           562483                  66331            193322\n",
       "10                           25834                   1829              5788\n",
       "11                          289387                  35712             99207\n",
       "12                          473544                  50453            150784\n",
       "13                         1254863                 137456            390386\n",
       "14                          477092                  48776            144982\n",
       "15                          694985                  82079            235010\n",
       "16                         3785080                 340786           1051316\n",
       "17                          461811                  65489            172557\n",
       "18                          327033                  18189             65170\n",
       "19                         1986268                 195620            584518\n",
       "20                          708148                  74288            221398\n",
       "21                           50248                   3183             11337"
      ]
     },
     "execution_count": 25,
     "metadata": {},
     "output_type": "execute_result"
    }
   ],
   "source": [
    "xdeptid_freq"
   ]
  },
  {
   "cell_type": "code",
   "execution_count": 9,
   "id": "9e438673",
   "metadata": {
    "scrolled": true
   },
   "outputs": [
    {
     "name": "stderr",
     "output_type": "stream",
     "text": [
      "/var/folders/hp/8pw7bj8j4cn95z6t9ph44m480000gn/T/ipykernel_1013/4015784726.py:11: UserWarning: FixedFormatter should only be used together with FixedLocator\n",
      "  plt.gca().set_yticklabels(['{:,.0f}'.format(x) for x in current_values])\n"
     ]
    },
    {
     "data": {
      "text/plain": [
       "[Text(0, 0.0, '0'),\n",
       " Text(0, 1000000.0, '1,000,000'),\n",
       " Text(0, 2000000.0, '2,000,000'),\n",
       " Text(0, 3000000.0, '3,000,000'),\n",
       " Text(0, 4000000.0, '4,000,000'),\n",
       " Text(0, 5000000.0, '5,000,000'),\n",
       " Text(0, 6000000.0, '6,000,000'),\n",
       " Text(0, 7000000.0, '7,000,000')]"
      ]
     },
     "execution_count": 9,
     "metadata": {},
     "output_type": "execute_result"
    },
    {
     "data": {
      "image/png": "[encoded data removed]",
      "text/plain": [
       "<Figure size 432x288 with 1 Axes>"
      ]
     },
     "metadata": {
      "needs_background": "light"
     },
     "output_type": "display_data"
    }
   ],
   "source": [
    "# Create bar chart for xdeptid_freq\n",
    "\n",
    "bar_xdeptid_freq = xdeptid_freq.plot.bar(title = 'Customer Preferrence by Department')\n",
    "\n",
    "plt.xlabel('Department ID')\n",
    "plt.ylabel('Customers')\n",
    "plt.xticks(range(0,21), ['Frozen','Other','Bakery','Produce','Alcohol','Intl','Beverages','Pets','Dry Goods','Bulk','Personal Care','Meat Seafood','Pantry','Breakfast','Canned Goods','Dairy Eggs','Household','Babies','Snacks','Deli','Missing'])\n",
    "\n",
    "# after plotting the data, format the labels\n",
    "current_values = plt.gca().get_yticks()\n",
    "plt.gca().set_yticklabels(['{:,.0f}'.format(x) for x in current_values])\n",
    "\n"
   ]
  },
  {
   "cell_type": "code",
   "execution_count": 10,
   "id": "a1de98ad",
   "metadata": {},
   "outputs": [],
   "source": [
    "# To export bar_xdeptid_freq image file\n",
    "\n",
    "bar_xdeptid_freq.figure.savefig(os.path.join(path, '04 Analysis','Visualizations', 'bar_xdeptid_freq.png'),bbox_inches = 'tight')"
   ]
  },
  {
   "cell_type": "code",
   "execution_count": 24,
   "id": "1ecaf27a",
   "metadata": {},
   "outputs": [],
   "source": [
    "# Find count of orders made per department\n",
    "\n",
    "dep_count = df_final.groupby('department_id').agg({'order_number': ['count']})"
   ]
  },
  {
   "cell_type": "code",
   "execution_count": 49,
   "id": "76a5c42b",
   "metadata": {
    "scrolled": false
   },
   "outputs": [
    {
     "data": {
      "text/html": [
       "<div>\n",
       "<style scoped>\n",
       "    .dataframe tbody tr th:only-of-type {\n",
       "        vertical-align: middle;\n",
       "    }\n",
       "\n",
       "    .dataframe tbody tr th {\n",
       "        vertical-align: top;\n",
       "    }\n",
       "\n",
       "    .dataframe thead tr th {\n",
       "        text-align: left;\n",
       "    }\n",
       "\n",
       "    .dataframe thead tr:last-of-type th {\n",
       "        text-align: right;\n",
       "    }\n",
       "</style>\n",
       "<table border=\"1\" class=\"dataframe\">\n",
       "  <thead>\n",
       "    <tr>\n",
       "      <th></th>\n",
       "      <th>order_number</th>\n",
       "    </tr>\n",
       "    <tr>\n",
       "      <th></th>\n",
       "      <th>count</th>\n",
       "    </tr>\n",
       "    <tr>\n",
       "      <th>department_id</th>\n",
       "      <th></th>\n",
       "    </tr>\n",
       "  </thead>\n",
       "  <tbody>\n",
       "    <tr>\n",
       "      <th>1</th>\n",
       "      <td>2121731</td>\n",
       "    </tr>\n",
       "    <tr>\n",
       "      <th>2</th>\n",
       "      <td>34411</td>\n",
       "    </tr>\n",
       "    <tr>\n",
       "      <th>3</th>\n",
       "      <td>1120828</td>\n",
       "    </tr>\n",
       "    <tr>\n",
       "      <th>4</th>\n",
       "      <td>9079273</td>\n",
       "    </tr>\n",
       "    <tr>\n",
       "      <th>5</th>\n",
       "      <td>144627</td>\n",
       "    </tr>\n",
       "    <tr>\n",
       "      <th>6</th>\n",
       "      <td>255991</td>\n",
       "    </tr>\n",
       "    <tr>\n",
       "      <th>7</th>\n",
       "      <td>2571901</td>\n",
       "    </tr>\n",
       "    <tr>\n",
       "      <th>8</th>\n",
       "      <td>93060</td>\n",
       "    </tr>\n",
       "    <tr>\n",
       "      <th>9</th>\n",
       "      <td>822136</td>\n",
       "    </tr>\n",
       "    <tr>\n",
       "      <th>10</th>\n",
       "      <td>33451</td>\n",
       "    </tr>\n",
       "    <tr>\n",
       "      <th>11</th>\n",
       "      <td>424306</td>\n",
       "    </tr>\n",
       "    <tr>\n",
       "      <th>12</th>\n",
       "      <td>674781</td>\n",
       "    </tr>\n",
       "    <tr>\n",
       "      <th>13</th>\n",
       "      <td>1782705</td>\n",
       "    </tr>\n",
       "    <tr>\n",
       "      <th>14</th>\n",
       "      <td>670850</td>\n",
       "    </tr>\n",
       "    <tr>\n",
       "      <th>15</th>\n",
       "      <td>1012074</td>\n",
       "    </tr>\n",
       "    <tr>\n",
       "      <th>16</th>\n",
       "      <td>5177182</td>\n",
       "    </tr>\n",
       "    <tr>\n",
       "      <th>17</th>\n",
       "      <td>699857</td>\n",
       "    </tr>\n",
       "    <tr>\n",
       "      <th>18</th>\n",
       "      <td>410392</td>\n",
       "    </tr>\n",
       "    <tr>\n",
       "      <th>19</th>\n",
       "      <td>2766406</td>\n",
       "    </tr>\n",
       "    <tr>\n",
       "      <th>20</th>\n",
       "      <td>1003834</td>\n",
       "    </tr>\n",
       "    <tr>\n",
       "      <th>21</th>\n",
       "      <td>64768</td>\n",
       "    </tr>\n",
       "  </tbody>\n",
       "</table>\n",
       "</div>"
      ],
      "text/plain": [
       "              order_number\n",
       "                     count\n",
       "department_id             \n",
       "1                  2121731\n",
       "2                    34411\n",
       "3                  1120828\n",
       "4                  9079273\n",
       "5                   144627\n",
       "6                   255991\n",
       "7                  2571901\n",
       "8                    93060\n",
       "9                   822136\n",
       "10                   33451\n",
       "11                  424306\n",
       "12                  674781\n",
       "13                 1782705\n",
       "14                  670850\n",
       "15                 1012074\n",
       "16                 5177182\n",
       "17                  699857\n",
       "18                  410392\n",
       "19                 2766406\n",
       "20                 1003834\n",
       "21                   64768"
      ]
     },
     "execution_count": 49,
     "metadata": {},
     "output_type": "execute_result"
    }
   ],
   "source": [
    "dep_count"
   ]
  },
  {
   "cell_type": "code",
   "execution_count": 42,
   "id": "1f4491c5",
   "metadata": {},
   "outputs": [
    {
     "data": {
      "image/png": "[encoded data removed]",
      "text/plain": [
       "<Figure size 432x288 with 1 Axes>"
      ]
     },
     "metadata": {
      "needs_background": "light"
     },
     "output_type": "display_data"
    }
   ],
   "source": [
    "# Create line chart for line_dep_count\n",
    "\n",
    "line_dep_count = dep_count.plot.line(title = 'Department Freq Orders')"
   ]
  },
  {
   "cell_type": "markdown",
   "id": "a2271253",
   "metadata": {},
   "source": [
    "# 3d. Department by price range"
   ]
  },
  {
   "cell_type": "code",
   "execution_count": 11,
   "id": "e544473d",
   "metadata": {},
   "outputs": [],
   "source": [
    "# Crosstab department_id and price_range_loc\n",
    "\n",
    "xdeptid_price = pd.crosstab(df_final['department_id'], df_final['price_range_loc'], dropna = False)\n"
   ]
  },
  {
   "cell_type": "code",
   "execution_count": 48,
   "id": "a17b499f",
   "metadata": {},
   "outputs": [
    {
     "data": {
      "text/html": [
       "<div>\n",
       "<style scoped>\n",
       "    .dataframe tbody tr th:only-of-type {\n",
       "        vertical-align: middle;\n",
       "    }\n",
       "\n",
       "    .dataframe tbody tr th {\n",
       "        vertical-align: top;\n",
       "    }\n",
       "\n",
       "    .dataframe thead th {\n",
       "        text-align: right;\n",
       "    }\n",
       "</style>\n",
       "<table border=\"1\" class=\"dataframe\">\n",
       "  <thead>\n",
       "    <tr style=\"text-align: right;\">\n",
       "      <th>price_range_loc</th>\n",
       "      <th>High-range product</th>\n",
       "      <th>Low-range product</th>\n",
       "      <th>Mid-range product</th>\n",
       "    </tr>\n",
       "    <tr>\n",
       "      <th>department_id</th>\n",
       "      <th></th>\n",
       "      <th></th>\n",
       "      <th></th>\n",
       "    </tr>\n",
       "  </thead>\n",
       "  <tbody>\n",
       "    <tr>\n",
       "      <th>1</th>\n",
       "      <td>0</td>\n",
       "      <td>647617</td>\n",
       "      <td>1474114</td>\n",
       "    </tr>\n",
       "    <tr>\n",
       "      <th>2</th>\n",
       "      <td>0</td>\n",
       "      <td>15259</td>\n",
       "      <td>19152</td>\n",
       "    </tr>\n",
       "    <tr>\n",
       "      <th>3</th>\n",
       "      <td>0</td>\n",
       "      <td>274986</td>\n",
       "      <td>845842</td>\n",
       "    </tr>\n",
       "    <tr>\n",
       "      <th>4</th>\n",
       "      <td>0</td>\n",
       "      <td>2585708</td>\n",
       "      <td>6493565</td>\n",
       "    </tr>\n",
       "    <tr>\n",
       "      <th>5</th>\n",
       "      <td>0</td>\n",
       "      <td>33046</td>\n",
       "      <td>111581</td>\n",
       "    </tr>\n",
       "    <tr>\n",
       "      <th>6</th>\n",
       "      <td>0</td>\n",
       "      <td>73203</td>\n",
       "      <td>182788</td>\n",
       "    </tr>\n",
       "    <tr>\n",
       "      <th>7</th>\n",
       "      <td>0</td>\n",
       "      <td>814697</td>\n",
       "      <td>1757204</td>\n",
       "    </tr>\n",
       "    <tr>\n",
       "      <th>8</th>\n",
       "      <td>0</td>\n",
       "      <td>28165</td>\n",
       "      <td>64895</td>\n",
       "    </tr>\n",
       "    <tr>\n",
       "      <th>9</th>\n",
       "      <td>0</td>\n",
       "      <td>284346</td>\n",
       "      <td>537790</td>\n",
       "    </tr>\n",
       "    <tr>\n",
       "      <th>10</th>\n",
       "      <td>0</td>\n",
       "      <td>1181</td>\n",
       "      <td>32270</td>\n",
       "    </tr>\n",
       "    <tr>\n",
       "      <th>11</th>\n",
       "      <td>0</td>\n",
       "      <td>123874</td>\n",
       "      <td>300432</td>\n",
       "    </tr>\n",
       "    <tr>\n",
       "      <th>12</th>\n",
       "      <td>392855</td>\n",
       "      <td>0</td>\n",
       "      <td>281926</td>\n",
       "    </tr>\n",
       "    <tr>\n",
       "      <th>13</th>\n",
       "      <td>221</td>\n",
       "      <td>504521</td>\n",
       "      <td>1277963</td>\n",
       "    </tr>\n",
       "    <tr>\n",
       "      <th>14</th>\n",
       "      <td>0</td>\n",
       "      <td>209185</td>\n",
       "      <td>461665</td>\n",
       "    </tr>\n",
       "    <tr>\n",
       "      <th>15</th>\n",
       "      <td>0</td>\n",
       "      <td>281711</td>\n",
       "      <td>730363</td>\n",
       "    </tr>\n",
       "    <tr>\n",
       "      <th>16</th>\n",
       "      <td>4877</td>\n",
       "      <td>1370908</td>\n",
       "      <td>3801397</td>\n",
       "    </tr>\n",
       "    <tr>\n",
       "      <th>17</th>\n",
       "      <td>0</td>\n",
       "      <td>245070</td>\n",
       "      <td>454787</td>\n",
       "    </tr>\n",
       "    <tr>\n",
       "      <th>18</th>\n",
       "      <td>0</td>\n",
       "      <td>121484</td>\n",
       "      <td>288908</td>\n",
       "    </tr>\n",
       "    <tr>\n",
       "      <th>19</th>\n",
       "      <td>0</td>\n",
       "      <td>1742143</td>\n",
       "      <td>1024263</td>\n",
       "    </tr>\n",
       "    <tr>\n",
       "      <th>20</th>\n",
       "      <td>0</td>\n",
       "      <td>299220</td>\n",
       "      <td>704614</td>\n",
       "    </tr>\n",
       "    <tr>\n",
       "      <th>21</th>\n",
       "      <td>0</td>\n",
       "      <td>18516</td>\n",
       "      <td>46252</td>\n",
       "    </tr>\n",
       "  </tbody>\n",
       "</table>\n",
       "</div>"
      ],
      "text/plain": [
       "price_range_loc  High-range product  Low-range product  Mid-range product\n",
       "department_id                                                            \n",
       "1                                 0             647617            1474114\n",
       "2                                 0              15259              19152\n",
       "3                                 0             274986             845842\n",
       "4                                 0            2585708            6493565\n",
       "5                                 0              33046             111581\n",
       "6                                 0              73203             182788\n",
       "7                                 0             814697            1757204\n",
       "8                                 0              28165              64895\n",
       "9                                 0             284346             537790\n",
       "10                                0               1181              32270\n",
       "11                                0             123874             300432\n",
       "12                           392855                  0             281926\n",
       "13                              221             504521            1277963\n",
       "14                                0             209185             461665\n",
       "15                                0             281711             730363\n",
       "16                             4877            1370908            3801397\n",
       "17                                0             245070             454787\n",
       "18                                0             121484             288908\n",
       "19                                0            1742143            1024263\n",
       "20                                0             299220             704614\n",
       "21                                0              18516              46252"
      ]
     },
     "execution_count": 48,
     "metadata": {},
     "output_type": "execute_result"
    }
   ],
   "source": [
    "xdeptid_price"
   ]
  },
  {
   "cell_type": "code",
   "execution_count": 12,
   "id": "4b88997e",
   "metadata": {
    "scrolled": true
   },
   "outputs": [
    {
     "name": "stderr",
     "output_type": "stream",
     "text": [
      "/var/folders/hp/8pw7bj8j4cn95z6t9ph44m480000gn/T/ipykernel_1013/3637084873.py:12: UserWarning: FixedFormatter should only be used together with FixedLocator\n",
      "  plt.gca().set_yticklabels(['{:,.0f}'.format(x) for x in current_values])\n"
     ]
    },
    {
     "data": {
      "text/plain": [
       "[Text(0, 0.0, '0'),\n",
       " Text(0, 1000000.0, '1,000,000'),\n",
       " Text(0, 2000000.0, '2,000,000'),\n",
       " Text(0, 3000000.0, '3,000,000'),\n",
       " Text(0, 4000000.0, '4,000,000'),\n",
       " Text(0, 5000000.0, '5,000,000'),\n",
       " Text(0, 6000000.0, '6,000,000'),\n",
       " Text(0, 7000000.0, '7,000,000')]"
      ]
     },
     "execution_count": 12,
     "metadata": {},
     "output_type": "execute_result"
    },
    {
     "data": {
      "image/png": "[encoded data removed]",
      "text/plain": [
       "<Figure size 432x288 with 1 Axes>"
      ]
     },
     "metadata": {
      "needs_background": "light"
     },
     "output_type": "display_data"
    }
   ],
   "source": [
    "# Create bar chart for xdepid_price\n",
    "\n",
    "bar_xdeptid_price = xdeptid_price.plot.bar(title = 'Price range by Department')\n",
    "\n",
    "\n",
    "plt.xlabel('Department ID')\n",
    "plt.ylabel('Number of Products')\n",
    "plt.xticks(range(0,21), ['Frozen','Other','Bakery','Produce','Alcohol','Intl','Beverages','Pets','Dry Goods','Bulk','Personal Care','Meat Seafood','Pantry','Breakfast','Canned Goods','Dairy Eggs','Household','Babies','Snacks','Deli','Missing'])\n",
    "\n",
    "# after plotting the data, format the labels\n",
    "current_values = plt.gca().get_yticks()\n",
    "plt.gca().set_yticklabels(['{:,.0f}'.format(x) for x in current_values])\n",
    "\n"
   ]
  },
  {
   "cell_type": "code",
   "execution_count": 13,
   "id": "3cf01c21",
   "metadata": {},
   "outputs": [],
   "source": [
    "# To export bar_xdeptid_price image file\n",
    "\n",
    "bar_xdeptid_price.figure.savefig(os.path.join(path, '04 Analysis','Visualizations', 'bar_xdeptid_price.png'),bbox_inches = 'tight')"
   ]
  },
  {
   "cell_type": "markdown",
   "id": "8dafbe6e",
   "metadata": {},
   "source": [
    "# 3e. Customer loyalty by price range of products"
   ]
  },
  {
   "cell_type": "code",
   "execution_count": 49,
   "id": "ae977967",
   "metadata": {},
   "outputs": [],
   "source": [
    "# Crosstab loyalty_flag and price_range_loc\n",
    "\n",
    "xloyal_price = pd.crosstab(df_final['loyalty_flag'], df_final['price_range_loc'], dropna = False)"
   ]
  },
  {
   "cell_type": "code",
   "execution_count": 50,
   "id": "aa57cc90",
   "metadata": {},
   "outputs": [
    {
     "data": {
      "text/html": [
       "<div>\n",
       "<style scoped>\n",
       "    .dataframe tbody tr th:only-of-type {\n",
       "        vertical-align: middle;\n",
       "    }\n",
       "\n",
       "    .dataframe tbody tr th {\n",
       "        vertical-align: top;\n",
       "    }\n",
       "\n",
       "    .dataframe thead th {\n",
       "        text-align: right;\n",
       "    }\n",
       "</style>\n",
       "<table border=\"1\" class=\"dataframe\">\n",
       "  <thead>\n",
       "    <tr style=\"text-align: right;\">\n",
       "      <th>price_range_loc</th>\n",
       "      <th>High-range product</th>\n",
       "      <th>Low-range product</th>\n",
       "      <th>Mid-range product</th>\n",
       "    </tr>\n",
       "    <tr>\n",
       "      <th>loyalty_flag</th>\n",
       "      <th></th>\n",
       "      <th></th>\n",
       "      <th></th>\n",
       "    </tr>\n",
       "  </thead>\n",
       "  <tbody>\n",
       "    <tr>\n",
       "      <th>Loyal customer</th>\n",
       "      <td>119936</td>\n",
       "      <td>3214690</td>\n",
       "      <td>6949467</td>\n",
       "    </tr>\n",
       "    <tr>\n",
       "      <th>New customer</th>\n",
       "      <td>65927</td>\n",
       "      <td>1501288</td>\n",
       "      <td>3236480</td>\n",
       "    </tr>\n",
       "    <tr>\n",
       "      <th>Regular customer</th>\n",
       "      <td>212090</td>\n",
       "      <td>4958862</td>\n",
       "      <td>10705824</td>\n",
       "    </tr>\n",
       "  </tbody>\n",
       "</table>\n",
       "</div>"
      ],
      "text/plain": [
       "price_range_loc   High-range product  Low-range product  Mid-range product\n",
       "loyalty_flag                                                              \n",
       "Loyal customer                119936            3214690            6949467\n",
       "New customer                   65927            1501288            3236480\n",
       "Regular customer              212090            4958862           10705824"
      ]
     },
     "execution_count": 50,
     "metadata": {},
     "output_type": "execute_result"
    }
   ],
   "source": [
    "xloyal_price"
   ]
  },
  {
   "cell_type": "code",
   "execution_count": 72,
   "id": "db20e45c",
   "metadata": {},
   "outputs": [
    {
     "data": {
      "image/png": "[encoded data removed]",
      "text/plain": [
       "<Figure size 432x288 with 1 Axes>"
      ]
     },
     "metadata": {
      "needs_background": "light"
     },
     "output_type": "display_data"
    }
   ],
   "source": [
    "# Create bar chart for xloyal_price\n",
    "\n",
    "bar_xloyal_price = xloyal_price.plot.bar(title = 'Customer loyalty by price range of products')"
   ]
  },
  {
   "cell_type": "code",
   "execution_count": 73,
   "id": "ad46b18c",
   "metadata": {},
   "outputs": [],
   "source": [
    "# To export line_xdeptid_price image file\n",
    "\n",
    "bar_xloyal_price.figure.savefig(os.path.join(path, '04 Analysis','Visualizations', 'bar_xloyal_price.png'))"
   ]
  },
  {
   "cell_type": "markdown",
   "id": "64dc8c83",
   "metadata": {},
   "source": [
    "# 4. Additional insights"
   ]
  },
  {
   "cell_type": "code",
   "execution_count": 49,
   "id": "d752615a",
   "metadata": {},
   "outputs": [],
   "source": [
    "# Crosstab 'customer_profile' and order_freq_flag\n",
    "\n",
    "xcust_freq = pd.crosstab(df_final['customer_profile'], df_final['order_freq_flag'], dropna = False)"
   ]
  },
  {
   "cell_type": "code",
   "execution_count": 19,
   "id": "58505d83",
   "metadata": {},
   "outputs": [
    {
     "data": {
      "text/html": [
       "<div>\n",
       "<style scoped>\n",
       "    .dataframe tbody tr th:only-of-type {\n",
       "        vertical-align: middle;\n",
       "    }\n",
       "\n",
       "    .dataframe tbody tr th {\n",
       "        vertical-align: top;\n",
       "    }\n",
       "\n",
       "    .dataframe thead th {\n",
       "        text-align: right;\n",
       "    }\n",
       "</style>\n",
       "<table border=\"1\" class=\"dataframe\">\n",
       "  <thead>\n",
       "    <tr style=\"text-align: right;\">\n",
       "      <th>order_freq_flag</th>\n",
       "      <th>Frequent customer</th>\n",
       "      <th>Non-frequent customer</th>\n",
       "      <th>Regular customer</th>\n",
       "    </tr>\n",
       "    <tr>\n",
       "      <th>customer_profile</th>\n",
       "      <th></th>\n",
       "      <th></th>\n",
       "      <th></th>\n",
       "    </tr>\n",
       "  </thead>\n",
       "  <tbody>\n",
       "    <tr>\n",
       "      <th>Old parent</th>\n",
       "      <td>3220968</td>\n",
       "      <td>0</td>\n",
       "      <td>917135</td>\n",
       "    </tr>\n",
       "    <tr>\n",
       "      <th>Other</th>\n",
       "      <td>10699615</td>\n",
       "      <td>2187417</td>\n",
       "      <td>3256277</td>\n",
       "    </tr>\n",
       "    <tr>\n",
       "      <th>Senior Shopper</th>\n",
       "      <td>3320802</td>\n",
       "      <td>0</td>\n",
       "      <td>947938</td>\n",
       "    </tr>\n",
       "    <tr>\n",
       "      <th>Single shopper</th>\n",
       "      <td>1576657</td>\n",
       "      <td>0</td>\n",
       "      <td>458645</td>\n",
       "    </tr>\n",
       "    <tr>\n",
       "      <th>Young parent</th>\n",
       "      <td>3390852</td>\n",
       "      <td>0</td>\n",
       "      <td>988258</td>\n",
       "    </tr>\n",
       "  </tbody>\n",
       "</table>\n",
       "</div>"
      ],
      "text/plain": [
       "order_freq_flag   Frequent customer  Non-frequent customer  Regular customer\n",
       "customer_profile                                                            \n",
       "Old parent                  3220968                      0            917135\n",
       "Other                      10699615                2187417           3256277\n",
       "Senior Shopper              3320802                      0            947938\n",
       "Single shopper              1576657                      0            458645\n",
       "Young parent                3390852                      0            988258"
      ]
     },
     "execution_count": 19,
     "metadata": {},
     "output_type": "execute_result"
    }
   ],
   "source": [
    "xcust_freq"
   ]
  },
  {
   "cell_type": "code",
   "execution_count": 55,
   "id": "8b518fec",
   "metadata": {
    "scrolled": true
   },
   "outputs": [
    {
     "name": "stderr",
     "output_type": "stream",
     "text": [
      "/var/folders/hp/8pw7bj8j4cn95z6t9ph44m480000gn/T/ipykernel_1013/2068156974.py:12: UserWarning: FixedFormatter should only be used together with FixedLocator\n",
      "  plt.gca().set_yticklabels(['{:,.0f}'.format(x) for x in current_values])\n"
     ]
    },
    {
     "data": {
      "text/plain": [
       "[Text(0, 0.0, '0'),\n",
       " Text(0, 2000000.0, '2,000,000'),\n",
       " Text(0, 4000000.0, '4,000,000'),\n",
       " Text(0, 6000000.0, '6,000,000'),\n",
       " Text(0, 8000000.0, '8,000,000'),\n",
       " Text(0, 10000000.0, '10,000,000'),\n",
       " Text(0, 12000000.0, '12,000,000')]"
      ]
     },
     "execution_count": 55,
     "metadata": {},
     "output_type": "execute_result"
    },
    {
     "data": {
      "image/png": "[encoded data removed]",
      "text/plain": [
       "<Figure size 576x288 with 1 Axes>"
      ]
     },
     "metadata": {
      "needs_background": "light"
     },
     "output_type": "display_data"
    }
   ],
   "source": [
    "# Create bar chart for xcust_freq\n",
    "\n",
    "plt.rcParams[\"figure.figsize\"] = (8,4)\n",
    "\n",
    "bar_xcust_freq = xcust_freq.plot.bar(title = 'Platform Activity by Profile')\n",
    "\n",
    "plt.xlabel('Customer Profile')\n",
    "plt.ylabel('Customers')\n",
    "\n",
    "# after plotting the data, format the labels\n",
    "current_values = plt.gca().get_yticks()\n",
    "plt.gca().set_yticklabels(['{:,.0f}'.format(x) for x in current_values])"
   ]
  },
  {
   "cell_type": "code",
   "execution_count": 56,
   "id": "56701713",
   "metadata": {},
   "outputs": [],
   "source": [
    "# To export bar_xcust_freq image file\n",
    "\n",
    "bar_xcust_freq.figure.savefig(os.path.join(path, '04 Analysis','Visualizations', 'bar_xcust_freq.png'),bbox_inches = 'tight')"
   ]
  },
  {
   "cell_type": "code",
   "execution_count": 27,
   "id": "fa781c32",
   "metadata": {},
   "outputs": [],
   "source": [
    "# Crosstab customer_profile and income_bracket\n",
    "\n",
    "xcust_income = pd.crosstab(df_final['customer_profile'], df_final['income_bracket'], dropna = False)"
   ]
  },
  {
   "cell_type": "code",
   "execution_count": 15,
   "id": "3edaab73",
   "metadata": {},
   "outputs": [
    {
     "data": {
      "text/html": [
       "<div>\n",
       "<style scoped>\n",
       "    .dataframe tbody tr th:only-of-type {\n",
       "        vertical-align: middle;\n",
       "    }\n",
       "\n",
       "    .dataframe tbody tr th {\n",
       "        vertical-align: top;\n",
       "    }\n",
       "\n",
       "    .dataframe thead th {\n",
       "        text-align: right;\n",
       "    }\n",
       "</style>\n",
       "<table border=\"1\" class=\"dataframe\">\n",
       "  <thead>\n",
       "    <tr style=\"text-align: right;\">\n",
       "      <th>income_bracket</th>\n",
       "      <th>100000-200000</th>\n",
       "      <th>200001-300000</th>\n",
       "      <th>50000-99999</th>\n",
       "      <th>&lt;50000</th>\n",
       "    </tr>\n",
       "    <tr>\n",
       "      <th>customer_profile</th>\n",
       "      <th></th>\n",
       "      <th></th>\n",
       "      <th></th>\n",
       "      <th></th>\n",
       "    </tr>\n",
       "  </thead>\n",
       "  <tbody>\n",
       "    <tr>\n",
       "      <th>Old parent</th>\n",
       "      <td>3141231</td>\n",
       "      <td>0</td>\n",
       "      <td>996872</td>\n",
       "      <td>0</td>\n",
       "    </tr>\n",
       "    <tr>\n",
       "      <th>Other</th>\n",
       "      <td>6985809</td>\n",
       "      <td>254142</td>\n",
       "      <td>6180158</td>\n",
       "      <td>2723200</td>\n",
       "    </tr>\n",
       "    <tr>\n",
       "      <th>Senior Shopper</th>\n",
       "      <td>3248002</td>\n",
       "      <td>0</td>\n",
       "      <td>1020738</td>\n",
       "      <td>0</td>\n",
       "    </tr>\n",
       "    <tr>\n",
       "      <th>Single shopper</th>\n",
       "      <td>578218</td>\n",
       "      <td>0</td>\n",
       "      <td>1457084</td>\n",
       "      <td>0</td>\n",
       "    </tr>\n",
       "    <tr>\n",
       "      <th>Young parent</th>\n",
       "      <td>0</td>\n",
       "      <td>0</td>\n",
       "      <td>3739756</td>\n",
       "      <td>639354</td>\n",
       "    </tr>\n",
       "  </tbody>\n",
       "</table>\n",
       "</div>"
      ],
      "text/plain": [
       "income_bracket    100000-200000  200001-300000  50000-99999   <50000\n",
       "customer_profile                                                    \n",
       "Old parent              3141231              0       996872        0\n",
       "Other                   6985809         254142      6180158  2723200\n",
       "Senior Shopper          3248002              0      1020738        0\n",
       "Single shopper           578218              0      1457084        0\n",
       "Young parent                  0              0      3739756   639354"
      ]
     },
     "execution_count": 15,
     "metadata": {},
     "output_type": "execute_result"
    }
   ],
   "source": [
    "xcust_income"
   ]
  },
  {
   "cell_type": "code",
   "execution_count": 30,
   "id": "97cb4f88",
   "metadata": {},
   "outputs": [
    {
     "name": "stderr",
     "output_type": "stream",
     "text": [
      "/var/folders/hp/8pw7bj8j4cn95z6t9ph44m480000gn/T/ipykernel_1013/4269308673.py:10: UserWarning: FixedFormatter should only be used together with FixedLocator\n",
      "  plt.gca().set_yticklabels(['{:,.0f}'.format(x) for x in current_values])\n"
     ]
    },
    {
     "data": {
      "text/plain": [
       "[Text(0, 0.0, '0'),\n",
       " Text(0, 1000000.0, '1,000,000'),\n",
       " Text(0, 2000000.0, '2,000,000'),\n",
       " Text(0, 3000000.0, '3,000,000'),\n",
       " Text(0, 4000000.0, '4,000,000'),\n",
       " Text(0, 5000000.0, '5,000,000'),\n",
       " Text(0, 6000000.0, '6,000,000'),\n",
       " Text(0, 7000000.0, '7,000,000'),\n",
       " Text(0, 8000000.0, '8,000,000')]"
      ]
     },
     "execution_count": 30,
     "metadata": {},
     "output_type": "execute_result"
    },
    {
     "data": {
      "image/png": "[encoded data removed]",
      "text/plain": [
       "<Figure size 432x288 with 1 Axes>"
      ]
     },
     "metadata": {
      "needs_background": "light"
     },
     "output_type": "display_data"
    }
   ],
   "source": [
    "# Create bar chart for xcust_income\n",
    "\n",
    "bar_xcust_income = xcust_income.plot.bar(title = 'User Profiles by Income Brackets')\n",
    "\n",
    "plt.xlabel('Customer Profile')\n",
    "plt.ylabel('Customers')\n",
    "\n",
    "# after plotting the data, format the labels\n",
    "current_values = plt.gca().get_yticks()\n",
    "plt.gca().set_yticklabels(['{:,.0f}'.format(x) for x in current_values])"
   ]
  },
  {
   "cell_type": "code",
   "execution_count": 31,
   "id": "a4accf39",
   "metadata": {},
   "outputs": [],
   "source": [
    "# To export bar_xcust_income image file\n",
    "\n",
    "bar_xcust_income.figure.savefig(os.path.join(path, '04 Analysis','Visualizations', 'bar_xcust_income.png'),bbox_inches = 'tight')"
   ]
  },
  {
   "cell_type": "code",
   "execution_count": 14,
   "id": "b1ca1520",
   "metadata": {},
   "outputs": [],
   "source": [
    "# Crosstab customer_profile and parental_status\n",
    "\n",
    "xcust_parent = pd.crosstab(df_final['customer_profile'], df_final['parental_status'], dropna = False)"
   ]
  },
  {
   "cell_type": "code",
   "execution_count": 15,
   "id": "a48097ca",
   "metadata": {},
   "outputs": [
    {
     "name": "stderr",
     "output_type": "stream",
     "text": [
      "/var/folders/hp/8pw7bj8j4cn95z6t9ph44m480000gn/T/ipykernel_1013/763969454.py:10: UserWarning: FixedFormatter should only be used together with FixedLocator\n",
      "  plt.gca().set_yticklabels(['{:,.0f}'.format(x) for x in current_values])\n"
     ]
    },
    {
     "data": {
      "text/plain": [
       "[Text(0, -2000000.0, '-2,000,000'),\n",
       " Text(0, 0.0, '0'),\n",
       " Text(0, 2000000.0, '2,000,000'),\n",
       " Text(0, 4000000.0, '4,000,000'),\n",
       " Text(0, 6000000.0, '6,000,000'),\n",
       " Text(0, 8000000.0, '8,000,000'),\n",
       " Text(0, 10000000.0, '10,000,000'),\n",
       " Text(0, 12000000.0, '12,000,000')]"
      ]
     },
     "execution_count": 15,
     "metadata": {},
     "output_type": "execute_result"
    },
    {
     "data": {
      "image/png": "[encoded data removed]",
      "text/plain": [
       "<Figure size 432x288 with 1 Axes>"
      ]
     },
     "metadata": {
      "needs_background": "light"
     },
     "output_type": "display_data"
    }
   ],
   "source": [
    "# Create line chart for xcust_parent\n",
    "\n",
    "line_xcust_parent = xcust_parent.plot.line(title = 'Parental Status of Customers')\n",
    "\n",
    "plt.xlabel('Customer Profile')\n",
    "plt.ylabel('Customers')\n",
    "\n",
    "# after plotting the data, format the labels\n",
    "current_values = plt.gca().get_yticks()\n",
    "plt.gca().set_yticklabels(['{:,.0f}'.format(x) for x in current_values])"
   ]
  },
  {
   "cell_type": "code",
   "execution_count": 16,
   "id": "1d9cb775",
   "metadata": {},
   "outputs": [],
   "source": [
    "# To export line_xcust_parent image file\n",
    "\n",
    "line_xcust_parent.figure.savefig(os.path.join(path, '04 Analysis','Visualizations', 'line_xcust_parent.png'),bbox_inches = 'tight')"
   ]
  },
  {
   "cell_type": "code",
   "execution_count": 33,
   "id": "93ddb0d3",
   "metadata": {},
   "outputs": [],
   "source": [
    "# Crosstab department_id and customer_profile\n",
    "\n",
    "xdepid_customer = pd.crosstab(df_final['department_id'], df_final['customer_profile'], dropna = False)"
   ]
  },
  {
   "cell_type": "code",
   "execution_count": 21,
   "id": "4c47ab74",
   "metadata": {},
   "outputs": [
    {
     "data": {
      "text/html": [
       "<div>\n",
       "<style scoped>\n",
       "    .dataframe tbody tr th:only-of-type {\n",
       "        vertical-align: middle;\n",
       "    }\n",
       "\n",
       "    .dataframe tbody tr th {\n",
       "        vertical-align: top;\n",
       "    }\n",
       "\n",
       "    .dataframe thead th {\n",
       "        text-align: right;\n",
       "    }\n",
       "</style>\n",
       "<table border=\"1\" class=\"dataframe\">\n",
       "  <thead>\n",
       "    <tr style=\"text-align: right;\">\n",
       "      <th>customer_profile</th>\n",
       "      <th>Old parent</th>\n",
       "      <th>Other</th>\n",
       "      <th>Senior Shopper</th>\n",
       "      <th>Single shopper</th>\n",
       "      <th>Young parent</th>\n",
       "    </tr>\n",
       "    <tr>\n",
       "      <th>department_id</th>\n",
       "      <th></th>\n",
       "      <th></th>\n",
       "      <th></th>\n",
       "      <th></th>\n",
       "      <th></th>\n",
       "    </tr>\n",
       "  </thead>\n",
       "  <tbody>\n",
       "    <tr>\n",
       "      <th>1</th>\n",
       "      <td>416841</td>\n",
       "      <td>652485</td>\n",
       "      <td>416403</td>\n",
       "      <td>196545</td>\n",
       "      <td>439457</td>\n",
       "    </tr>\n",
       "    <tr>\n",
       "      <th>2</th>\n",
       "      <td>0</td>\n",
       "      <td>34411</td>\n",
       "      <td>0</td>\n",
       "      <td>0</td>\n",
       "      <td>0</td>\n",
       "    </tr>\n",
       "    <tr>\n",
       "      <th>3</th>\n",
       "      <td>0</td>\n",
       "      <td>1120828</td>\n",
       "      <td>0</td>\n",
       "      <td>0</td>\n",
       "      <td>0</td>\n",
       "    </tr>\n",
       "    <tr>\n",
       "      <th>4</th>\n",
       "      <td>1833663</td>\n",
       "      <td>2588852</td>\n",
       "      <td>1837070</td>\n",
       "      <td>885823</td>\n",
       "      <td>1933865</td>\n",
       "    </tr>\n",
       "    <tr>\n",
       "      <th>5</th>\n",
       "      <td>0</td>\n",
       "      <td>144627</td>\n",
       "      <td>0</td>\n",
       "      <td>0</td>\n",
       "      <td>0</td>\n",
       "    </tr>\n",
       "    <tr>\n",
       "      <th>6</th>\n",
       "      <td>0</td>\n",
       "      <td>255991</td>\n",
       "      <td>0</td>\n",
       "      <td>0</td>\n",
       "      <td>0</td>\n",
       "    </tr>\n",
       "    <tr>\n",
       "      <th>7</th>\n",
       "      <td>492767</td>\n",
       "      <td>828870</td>\n",
       "      <td>486328</td>\n",
       "      <td>229441</td>\n",
       "      <td>534495</td>\n",
       "    </tr>\n",
       "    <tr>\n",
       "      <th>8</th>\n",
       "      <td>0</td>\n",
       "      <td>93060</td>\n",
       "      <td>0</td>\n",
       "      <td>0</td>\n",
       "      <td>0</td>\n",
       "    </tr>\n",
       "    <tr>\n",
       "      <th>9</th>\n",
       "      <td>0</td>\n",
       "      <td>822136</td>\n",
       "      <td>0</td>\n",
       "      <td>0</td>\n",
       "      <td>0</td>\n",
       "    </tr>\n",
       "    <tr>\n",
       "      <th>10</th>\n",
       "      <td>0</td>\n",
       "      <td>33451</td>\n",
       "      <td>0</td>\n",
       "      <td>0</td>\n",
       "      <td>0</td>\n",
       "    </tr>\n",
       "    <tr>\n",
       "      <th>11</th>\n",
       "      <td>0</td>\n",
       "      <td>424306</td>\n",
       "      <td>0</td>\n",
       "      <td>0</td>\n",
       "      <td>0</td>\n",
       "    </tr>\n",
       "    <tr>\n",
       "      <th>12</th>\n",
       "      <td>0</td>\n",
       "      <td>674781</td>\n",
       "      <td>0</td>\n",
       "      <td>0</td>\n",
       "      <td>0</td>\n",
       "    </tr>\n",
       "    <tr>\n",
       "      <th>13</th>\n",
       "      <td>357499</td>\n",
       "      <td>1054461</td>\n",
       "      <td>0</td>\n",
       "      <td>0</td>\n",
       "      <td>370745</td>\n",
       "    </tr>\n",
       "    <tr>\n",
       "      <th>14</th>\n",
       "      <td>0</td>\n",
       "      <td>670850</td>\n",
       "      <td>0</td>\n",
       "      <td>0</td>\n",
       "      <td>0</td>\n",
       "    </tr>\n",
       "    <tr>\n",
       "      <th>15</th>\n",
       "      <td>0</td>\n",
       "      <td>1012074</td>\n",
       "      <td>0</td>\n",
       "      <td>0</td>\n",
       "      <td>0</td>\n",
       "    </tr>\n",
       "    <tr>\n",
       "      <th>16</th>\n",
       "      <td>1037333</td>\n",
       "      <td>1510016</td>\n",
       "      <td>1034167</td>\n",
       "      <td>495118</td>\n",
       "      <td>1100548</td>\n",
       "    </tr>\n",
       "    <tr>\n",
       "      <th>17</th>\n",
       "      <td>0</td>\n",
       "      <td>699857</td>\n",
       "      <td>0</td>\n",
       "      <td>0</td>\n",
       "      <td>0</td>\n",
       "    </tr>\n",
       "    <tr>\n",
       "      <th>18</th>\n",
       "      <td>0</td>\n",
       "      <td>410392</td>\n",
       "      <td>0</td>\n",
       "      <td>0</td>\n",
       "      <td>0</td>\n",
       "    </tr>\n",
       "    <tr>\n",
       "      <th>19</th>\n",
       "      <td>0</td>\n",
       "      <td>2043259</td>\n",
       "      <td>494772</td>\n",
       "      <td>228375</td>\n",
       "      <td>0</td>\n",
       "    </tr>\n",
       "    <tr>\n",
       "      <th>20</th>\n",
       "      <td>0</td>\n",
       "      <td>1003834</td>\n",
       "      <td>0</td>\n",
       "      <td>0</td>\n",
       "      <td>0</td>\n",
       "    </tr>\n",
       "    <tr>\n",
       "      <th>21</th>\n",
       "      <td>0</td>\n",
       "      <td>64768</td>\n",
       "      <td>0</td>\n",
       "      <td>0</td>\n",
       "      <td>0</td>\n",
       "    </tr>\n",
       "  </tbody>\n",
       "</table>\n",
       "</div>"
      ],
      "text/plain": [
       "customer_profile  Old parent    Other  Senior Shopper  Single shopper  \\\n",
       "department_id                                                           \n",
       "1                     416841   652485          416403          196545   \n",
       "2                          0    34411               0               0   \n",
       "3                          0  1120828               0               0   \n",
       "4                    1833663  2588852         1837070          885823   \n",
       "5                          0   144627               0               0   \n",
       "6                          0   255991               0               0   \n",
       "7                     492767   828870          486328          229441   \n",
       "8                          0    93060               0               0   \n",
       "9                          0   822136               0               0   \n",
       "10                         0    33451               0               0   \n",
       "11                         0   424306               0               0   \n",
       "12                         0   674781               0               0   \n",
       "13                    357499  1054461               0               0   \n",
       "14                         0   670850               0               0   \n",
       "15                         0  1012074               0               0   \n",
       "16                   1037333  1510016         1034167          495118   \n",
       "17                         0   699857               0               0   \n",
       "18                         0   410392               0               0   \n",
       "19                         0  2043259          494772          228375   \n",
       "20                         0  1003834               0               0   \n",
       "21                         0    64768               0               0   \n",
       "\n",
       "customer_profile  Young parent  \n",
       "department_id                   \n",
       "1                       439457  \n",
       "2                            0  \n",
       "3                            0  \n",
       "4                      1933865  \n",
       "5                            0  \n",
       "6                            0  \n",
       "7                       534495  \n",
       "8                            0  \n",
       "9                            0  \n",
       "10                           0  \n",
       "11                           0  \n",
       "12                           0  \n",
       "13                      370745  \n",
       "14                           0  \n",
       "15                           0  \n",
       "16                     1100548  \n",
       "17                           0  \n",
       "18                           0  \n",
       "19                           0  \n",
       "20                           0  \n",
       "21                           0  "
      ]
     },
     "execution_count": 21,
     "metadata": {},
     "output_type": "execute_result"
    }
   ],
   "source": [
    "xdepid_customer"
   ]
  },
  {
   "cell_type": "code",
   "execution_count": 45,
   "id": "acb2e9a5",
   "metadata": {},
   "outputs": [
    {
     "name": "stderr",
     "output_type": "stream",
     "text": [
      "/var/folders/hp/8pw7bj8j4cn95z6t9ph44m480000gn/T/ipykernel_1013/2997677185.py:13: UserWarning: FixedFormatter should only be used together with FixedLocator\n",
      "  plt.gca().set_yticklabels(['{:,.0f}'.format(x) for x in current_values])\n"
     ]
    },
    {
     "data": {
      "text/plain": [
       "[Text(0, 0.0, '0'),\n",
       " Text(0, 500000.0, '500,000'),\n",
       " Text(0, 1000000.0, '1,000,000'),\n",
       " Text(0, 1500000.0, '1,500,000'),\n",
       " Text(0, 2000000.0, '2,000,000'),\n",
       " Text(0, 2500000.0, '2,500,000'),\n",
       " Text(0, 3000000.0, '3,000,000')]"
      ]
     },
     "execution_count": 45,
     "metadata": {},
     "output_type": "execute_result"
    },
    {
     "data": {
      "image/png": "[encoded data removed]",
      "text/plain": [
       "<Figure size 864x720 with 1 Axes>"
      ]
     },
     "metadata": {
      "needs_background": "light"
     },
     "output_type": "display_data"
    }
   ],
   "source": [
    "# Create bar chart for xdepid_customer\n",
    "\n",
    "plt.rcParams[\"figure.figsize\"] = (12,10)\n",
    "\n",
    "bar_xdepid_customer = xdepid_customer.plot.bar(title = 'Customer Profile Demand by Department ID')\n",
    "\n",
    "plt.xlabel('Customer Profile')\n",
    "plt.ylabel('Customers')\n",
    "plt.xticks(range(0,21), ['Frozen','Other','Bakery','Produce','Alcohol','Intl','Beverages','Pets','Dry Goods','Bulk','Personal Care','Meat Seafood','Pantry','Breakfast','Canned Goods','Dairy Eggs','Household','Babies','Snacks','Deli','Missing'])\n",
    "\n",
    "# after plotting the data, format the labels\n",
    "current_values = plt.gca().get_yticks()\n",
    "plt.gca().set_yticklabels(['{:,.0f}'.format(x) for x in current_values])\n"
   ]
  },
  {
   "cell_type": "code",
   "execution_count": 47,
   "id": "62a1e8cb",
   "metadata": {},
   "outputs": [],
   "source": [
    "# To export line_xdepid_customer image file\n",
    "\n",
    "bar_xdepid_customer.figure.savefig(os.path.join(path, '04 Analysis','Visualizations', 'bar_xdepid_customer.png'),bbox_inches = 'tight')"
   ]
  },
  {
   "cell_type": "code",
   "execution_count": 20,
   "id": "1b73b737",
   "metadata": {},
   "outputs": [],
   "source": [
    "# Crosstab age_range and order_freq_flag\n",
    "\n",
    "xage_freq = pd.crosstab(df_final['age_range'], df_final['order_freq_flag'], dropna = False)"
   ]
  },
  {
   "cell_type": "code",
   "execution_count": 26,
   "id": "2db9969a",
   "metadata": {},
   "outputs": [
    {
     "data": {
      "text/html": [
       "<div>\n",
       "<style scoped>\n",
       "    .dataframe tbody tr th:only-of-type {\n",
       "        vertical-align: middle;\n",
       "    }\n",
       "\n",
       "    .dataframe tbody tr th {\n",
       "        vertical-align: top;\n",
       "    }\n",
       "\n",
       "    .dataframe thead th {\n",
       "        text-align: right;\n",
       "    }\n",
       "</style>\n",
       "<table border=\"1\" class=\"dataframe\">\n",
       "  <thead>\n",
       "    <tr style=\"text-align: right;\">\n",
       "      <th>order_freq_flag</th>\n",
       "      <th>Frequent customer</th>\n",
       "      <th>Non-frequent customer</th>\n",
       "      <th>Regular customer</th>\n",
       "    </tr>\n",
       "    <tr>\n",
       "      <th>age_range</th>\n",
       "      <th></th>\n",
       "      <th></th>\n",
       "      <th></th>\n",
       "    </tr>\n",
       "  </thead>\n",
       "  <tbody>\n",
       "    <tr>\n",
       "      <th>20 &amp; under</th>\n",
       "      <td>1043018</td>\n",
       "      <td>104744</td>\n",
       "      <td>306966</td>\n",
       "    </tr>\n",
       "    <tr>\n",
       "      <th>21-30</th>\n",
       "      <td>3477441</td>\n",
       "      <td>341446</td>\n",
       "      <td>1030625</td>\n",
       "    </tr>\n",
       "    <tr>\n",
       "      <th>31-40</th>\n",
       "      <td>3460272</td>\n",
       "      <td>339387</td>\n",
       "      <td>1044534</td>\n",
       "    </tr>\n",
       "    <tr>\n",
       "      <th>41-50</th>\n",
       "      <td>3501870</td>\n",
       "      <td>348819</td>\n",
       "      <td>1017943</td>\n",
       "    </tr>\n",
       "    <tr>\n",
       "      <th>51-60</th>\n",
       "      <td>3461706</td>\n",
       "      <td>342368</td>\n",
       "      <td>1030818</td>\n",
       "    </tr>\n",
       "    <tr>\n",
       "      <th>61-70</th>\n",
       "      <td>3436722</td>\n",
       "      <td>336506</td>\n",
       "      <td>1006730</td>\n",
       "    </tr>\n",
       "    <tr>\n",
       "      <th>71-80</th>\n",
       "      <td>3483938</td>\n",
       "      <td>339753</td>\n",
       "      <td>1023111</td>\n",
       "    </tr>\n",
       "    <tr>\n",
       "      <th>81+</th>\n",
       "      <td>343927</td>\n",
       "      <td>34394</td>\n",
       "      <td>107526</td>\n",
       "    </tr>\n",
       "  </tbody>\n",
       "</table>\n",
       "</div>"
      ],
      "text/plain": [
       "order_freq_flag  Frequent customer  Non-frequent customer  Regular customer\n",
       "age_range                                                                  \n",
       "20 & under                 1043018                 104744            306966\n",
       "21-30                      3477441                 341446           1030625\n",
       "31-40                      3460272                 339387           1044534\n",
       "41-50                      3501870                 348819           1017943\n",
       "51-60                      3461706                 342368           1030818\n",
       "61-70                      3436722                 336506           1006730\n",
       "71-80                      3483938                 339753           1023111\n",
       "81+                         343927                  34394            107526"
      ]
     },
     "execution_count": 26,
     "metadata": {},
     "output_type": "execute_result"
    }
   ],
   "source": [
    "xage_freq"
   ]
  },
  {
   "cell_type": "code",
   "execution_count": 21,
   "id": "cab6f403",
   "metadata": {},
   "outputs": [
    {
     "name": "stderr",
     "output_type": "stream",
     "text": [
      "/var/folders/hp/8pw7bj8j4cn95z6t9ph44m480000gn/T/ipykernel_1013/1085744060.py:10: UserWarning: FixedFormatter should only be used together with FixedLocator\n",
      "  plt.gca().set_yticklabels(['{:,.0f}'.format(x) for x in current_values])\n"
     ]
    },
    {
     "data": {
      "text/plain": [
       "[Text(0, -500000.0, '-500,000'),\n",
       " Text(0, 0.0, '0'),\n",
       " Text(0, 500000.0, '500,000'),\n",
       " Text(0, 1000000.0, '1,000,000'),\n",
       " Text(0, 1500000.0, '1,500,000'),\n",
       " Text(0, 2000000.0, '2,000,000'),\n",
       " Text(0, 2500000.0, '2,500,000'),\n",
       " Text(0, 3000000.0, '3,000,000'),\n",
       " Text(0, 3500000.0, '3,500,000'),\n",
       " Text(0, 4000000.0, '4,000,000')]"
      ]
     },
     "execution_count": 21,
     "metadata": {},
     "output_type": "execute_result"
    },
    {
     "data": {
      "image/png": "[encoded data removed]",
      "text/plain": [
       "<Figure size 432x288 with 1 Axes>"
      ]
     },
     "metadata": {
      "needs_background": "light"
     },
     "output_type": "display_data"
    }
   ],
   "source": [
    "# Create line chart for xage_freq\n",
    "\n",
    "line_xage_freq = xage_freq.plot.line(title = 'Order Frequency by Age Range')\n",
    "\n",
    "plt.xlabel('Age Range')\n",
    "plt.ylabel('Orders')\n",
    "\n",
    "# after plotting the data, format the labels\n",
    "current_values = plt.gca().get_yticks()\n",
    "plt.gca().set_yticklabels(['{:,.0f}'.format(x) for x in current_values])"
   ]
  },
  {
   "cell_type": "code",
   "execution_count": 22,
   "id": "8d7a2162",
   "metadata": {},
   "outputs": [],
   "source": [
    "# To export line_xage_freq image file\n",
    "\n",
    "line_xage_freq.figure.savefig(os.path.join(path, '04 Analysis','Visualizations', 'line_xage_freq.png'),bbox_inches = 'tight')"
   ]
  },
  {
   "cell_type": "code",
   "execution_count": 23,
   "id": "40877561",
   "metadata": {},
   "outputs": [],
   "source": [
    "# Crosstab parental_status and order_freq_flag\n",
    "\n",
    "xparent_freq = pd.crosstab(df_final['parental_status'], df_final['order_freq_flag'], dropna = False)"
   ]
  },
  {
   "cell_type": "code",
   "execution_count": 30,
   "id": "9d9c015c",
   "metadata": {},
   "outputs": [
    {
     "data": {
      "text/html": [
       "<div>\n",
       "<style scoped>\n",
       "    .dataframe tbody tr th:only-of-type {\n",
       "        vertical-align: middle;\n",
       "    }\n",
       "\n",
       "    .dataframe tbody tr th {\n",
       "        vertical-align: top;\n",
       "    }\n",
       "\n",
       "    .dataframe thead th {\n",
       "        text-align: right;\n",
       "    }\n",
       "</style>\n",
       "<table border=\"1\" class=\"dataframe\">\n",
       "  <thead>\n",
       "    <tr style=\"text-align: right;\">\n",
       "      <th>order_freq_flag</th>\n",
       "      <th>Frequent customer</th>\n",
       "      <th>Non-frequent customer</th>\n",
       "      <th>Regular customer</th>\n",
       "    </tr>\n",
       "    <tr>\n",
       "      <th>parental_status</th>\n",
       "      <th></th>\n",
       "      <th></th>\n",
       "      <th></th>\n",
       "    </tr>\n",
       "  </thead>\n",
       "  <tbody>\n",
       "    <tr>\n",
       "      <th>Non-parent</th>\n",
       "      <td>5544082</td>\n",
       "      <td>540110</td>\n",
       "      <td>1655489</td>\n",
       "    </tr>\n",
       "    <tr>\n",
       "      <th>Parent</th>\n",
       "      <td>16664812</td>\n",
       "      <td>1647307</td>\n",
       "      <td>4912764</td>\n",
       "    </tr>\n",
       "  </tbody>\n",
       "</table>\n",
       "</div>"
      ],
      "text/plain": [
       "order_freq_flag  Frequent customer  Non-frequent customer  Regular customer\n",
       "parental_status                                                            \n",
       "Non-parent                 5544082                 540110           1655489\n",
       "Parent                    16664812                1647307           4912764"
      ]
     },
     "execution_count": 30,
     "metadata": {},
     "output_type": "execute_result"
    }
   ],
   "source": [
    "xparent_freq"
   ]
  },
  {
   "cell_type": "code",
   "execution_count": 24,
   "id": "0ee6ca00",
   "metadata": {},
   "outputs": [
    {
     "name": "stderr",
     "output_type": "stream",
     "text": [
      "/var/folders/hp/8pw7bj8j4cn95z6t9ph44m480000gn/T/ipykernel_1013/1662539590.py:10: UserWarning: FixedFormatter should only be used together with FixedLocator\n",
      "  plt.gca().set_yticklabels(['{:,.0f}'.format(x) for x in current_values])\n"
     ]
    },
    {
     "data": {
      "text/plain": [
       "[Text(0, 0.0, '0'),\n",
       " Text(0, 2000000.0, '2,000,000'),\n",
       " Text(0, 4000000.0, '4,000,000'),\n",
       " Text(0, 6000000.0, '6,000,000'),\n",
       " Text(0, 8000000.0, '8,000,000'),\n",
       " Text(0, 10000000.0, '10,000,000'),\n",
       " Text(0, 12000000.0, '12,000,000'),\n",
       " Text(0, 14000000.0, '14,000,000'),\n",
       " Text(0, 16000000.0, '16,000,000'),\n",
       " Text(0, 18000000.0, '18,000,000')]"
      ]
     },
     "execution_count": 24,
     "metadata": {},
     "output_type": "execute_result"
    },
    {
     "data": {
      "image/png": "[encoded data removed]",
      "text/plain": [
       "<Figure size 432x288 with 1 Axes>"
      ]
     },
     "metadata": {
      "needs_background": "light"
     },
     "output_type": "display_data"
    }
   ],
   "source": [
    "# Create bar chart for xparent_freq\n",
    "\n",
    "bar_xparent_freq = xparent_freq.plot.bar(title = 'Order Frequency by Parental Status')\n",
    "\n",
    "plt.xlabel('Parental Status')\n",
    "plt.ylabel('Orders')\n",
    "\n",
    "# after plotting the data, format the labels\n",
    "current_values = plt.gca().get_yticks()\n",
    "plt.gca().set_yticklabels(['{:,.0f}'.format(x) for x in current_values])"
   ]
  },
  {
   "cell_type": "code",
   "execution_count": 25,
   "id": "b6e2a829",
   "metadata": {},
   "outputs": [],
   "source": [
    "# To export bar_xparent_freq image file\n",
    "\n",
    "bar_xparent_freq.figure.savefig(os.path.join(path, '04 Analysis','Visualizations', 'bar_xparent_freq.png'),bbox_inches = 'tight')"
   ]
  },
  {
   "cell_type": "code",
   "execution_count": 72,
   "id": "9f1f81d7",
   "metadata": {},
   "outputs": [
    {
     "name": "stderr",
     "output_type": "stream",
     "text": [
      "/var/folders/hp/8pw7bj8j4cn95z6t9ph44m480000gn/T/ipykernel_1559/659615532.py:9: UserWarning: FixedFormatter should only be used together with FixedLocator\n",
      "  plt.gca().set_yticklabels(['{:,.0f}'.format(x) for x in current_values])\n"
     ]
    },
    {
     "data": {
      "text/plain": [
       "[Text(0, 0.0, '0'),\n",
       " Text(0, 5000000.0, '5,000,000'),\n",
       " Text(0, 10000000.0, '10,000,000'),\n",
       " Text(0, 15000000.0, '15,000,000'),\n",
       " Text(0, 20000000.0, '20,000,000'),\n",
       " Text(0, 25000000.0, '25,000,000'),\n",
       " Text(0, 30000000.0, '30,000,000'),\n",
       " Text(0, 35000000.0, '35,000,000')]"
      ]
     },
     "execution_count": 72,
     "metadata": {},
     "output_type": "execute_result"
    },
    {
     "data": {
      "image/png": "[encoded data removed]",
      "text/plain": [
       "<Figure size 432x288 with 1 Axes>"
      ]
     },
     "metadata": {
      "needs_background": "light"
     },
     "output_type": "display_data"
    }
   ],
   "source": [
    "# Create bar chart spending_flag\n",
    "\n",
    "bar_spending_flag = df_final['spending_flag'].value_counts().plot.bar(title = 'Customer Spending Average')\n",
    "\n",
    "plt.ylabel('Customers')\n",
    "\n",
    "# after plotting the data, format the labels\n",
    "current_values = plt.gca().get_yticks()\n",
    "plt.gca().set_yticklabels(['{:,.0f}'.format(x) for x in current_values])\n"
   ]
  },
  {
   "cell_type": "code",
   "execution_count": 73,
   "id": "061d4fd7",
   "metadata": {},
   "outputs": [],
   "source": [
    "# To export bar_spending_flag image file\n",
    "\n",
    "bar_spending_flag.figure.savefig(os.path.join(path, '04 Analysis','Visualizations', 'bar_spending_flag.png'),bbox_inches = 'tight')"
   ]
  },
  {
   "cell_type": "code",
   "execution_count": 26,
   "id": "cd7372cc",
   "metadata": {
    "scrolled": true
   },
   "outputs": [
    {
     "ename": "KeyError",
     "evalue": "'price_range'",
     "output_type": "error",
     "traceback": [
      "\u001b[0;31m---------------------------------------------------------------------------\u001b[0m",
      "\u001b[0;31mKeyError\u001b[0m                                  Traceback (most recent call last)",
      "\u001b[0;32m/opt/anaconda3/lib/python3.9/site-packages/pandas/core/indexes/base.py\u001b[0m in \u001b[0;36mget_loc\u001b[0;34m(self, key, method, tolerance)\u001b[0m\n\u001b[1;32m   3360\u001b[0m             \u001b[0;32mtry\u001b[0m\u001b[0;34m:\u001b[0m\u001b[0;34m\u001b[0m\u001b[0;34m\u001b[0m\u001b[0m\n\u001b[0;32m-> 3361\u001b[0;31m                 \u001b[0;32mreturn\u001b[0m \u001b[0mself\u001b[0m\u001b[0;34m.\u001b[0m\u001b[0m_engine\u001b[0m\u001b[0;34m.\u001b[0m\u001b[0mget_loc\u001b[0m\u001b[0;34m(\u001b[0m\u001b[0mcasted_key\u001b[0m\u001b[0;34m)\u001b[0m\u001b[0;34m\u001b[0m\u001b[0;34m\u001b[0m\u001b[0m\n\u001b[0m\u001b[1;32m   3362\u001b[0m             \u001b[0;32mexcept\u001b[0m \u001b[0mKeyError\u001b[0m \u001b[0;32mas\u001b[0m \u001b[0merr\u001b[0m\u001b[0;34m:\u001b[0m\u001b[0;34m\u001b[0m\u001b[0;34m\u001b[0m\u001b[0m\n",
      "\u001b[0;32m/opt/anaconda3/lib/python3.9/site-packages/pandas/_libs/index.pyx\u001b[0m in \u001b[0;36mpandas._libs.index.IndexEngine.get_loc\u001b[0;34m()\u001b[0m\n",
      "\u001b[0;32m/opt/anaconda3/lib/python3.9/site-packages/pandas/_libs/index.pyx\u001b[0m in \u001b[0;36mpandas._libs.index.IndexEngine.get_loc\u001b[0;34m()\u001b[0m\n",
      "\u001b[0;32mpandas/_libs/hashtable_class_helper.pxi\u001b[0m in \u001b[0;36mpandas._libs.hashtable.PyObjectHashTable.get_item\u001b[0;34m()\u001b[0m\n",
      "\u001b[0;32mpandas/_libs/hashtable_class_helper.pxi\u001b[0m in \u001b[0;36mpandas._libs.hashtable.PyObjectHashTable.get_item\u001b[0;34m()\u001b[0m\n",
      "\u001b[0;31mKeyError\u001b[0m: 'price_range'",
      "\nThe above exception was the direct cause of the following exception:\n",
      "\u001b[0;31mKeyError\u001b[0m                                  Traceback (most recent call last)",
      "\u001b[0;32m/var/folders/hp/8pw7bj8j4cn95z6t9ph44m480000gn/T/ipykernel_1013/489413923.py\u001b[0m in \u001b[0;36m<module>\u001b[0;34m\u001b[0m\n\u001b[1;32m      1\u001b[0m \u001b[0;31m# Create bar chart price_range\u001b[0m\u001b[0;34m\u001b[0m\u001b[0;34m\u001b[0m\u001b[0m\n\u001b[1;32m      2\u001b[0m \u001b[0;34m\u001b[0m\u001b[0m\n\u001b[0;32m----> 3\u001b[0;31m \u001b[0mbar_price_range\u001b[0m \u001b[0;34m=\u001b[0m \u001b[0mdf_final\u001b[0m\u001b[0;34m[\u001b[0m\u001b[0;34m'price_range'\u001b[0m\u001b[0;34m]\u001b[0m\u001b[0;34m.\u001b[0m\u001b[0mvalue_counts\u001b[0m\u001b[0;34m(\u001b[0m\u001b[0;34m)\u001b[0m\u001b[0;34m.\u001b[0m\u001b[0mplot\u001b[0m\u001b[0;34m.\u001b[0m\u001b[0mbar\u001b[0m\u001b[0;34m(\u001b[0m\u001b[0mtitle\u001b[0m \u001b[0;34m=\u001b[0m \u001b[0;34m'Customer Loyalty'\u001b[0m\u001b[0;34m)\u001b[0m\u001b[0;34m\u001b[0m\u001b[0;34m\u001b[0m\u001b[0m\n\u001b[0m",
      "\u001b[0;32m/opt/anaconda3/lib/python3.9/site-packages/pandas/core/frame.py\u001b[0m in \u001b[0;36m__getitem__\u001b[0;34m(self, key)\u001b[0m\n\u001b[1;32m   3456\u001b[0m             \u001b[0;32mif\u001b[0m \u001b[0mself\u001b[0m\u001b[0;34m.\u001b[0m\u001b[0mcolumns\u001b[0m\u001b[0;34m.\u001b[0m\u001b[0mnlevels\u001b[0m \u001b[0;34m>\u001b[0m \u001b[0;36m1\u001b[0m\u001b[0;34m:\u001b[0m\u001b[0;34m\u001b[0m\u001b[0;34m\u001b[0m\u001b[0m\n\u001b[1;32m   3457\u001b[0m                 \u001b[0;32mreturn\u001b[0m \u001b[0mself\u001b[0m\u001b[0;34m.\u001b[0m\u001b[0m_getitem_multilevel\u001b[0m\u001b[0;34m(\u001b[0m\u001b[0mkey\u001b[0m\u001b[0;34m)\u001b[0m\u001b[0;34m\u001b[0m\u001b[0;34m\u001b[0m\u001b[0m\n\u001b[0;32m-> 3458\u001b[0;31m             \u001b[0mindexer\u001b[0m \u001b[0;34m=\u001b[0m \u001b[0mself\u001b[0m\u001b[0;34m.\u001b[0m\u001b[0mcolumns\u001b[0m\u001b[0;34m.\u001b[0m\u001b[0mget_loc\u001b[0m\u001b[0;34m(\u001b[0m\u001b[0mkey\u001b[0m\u001b[0;34m)\u001b[0m\u001b[0;34m\u001b[0m\u001b[0;34m\u001b[0m\u001b[0m\n\u001b[0m\u001b[1;32m   3459\u001b[0m             \u001b[0;32mif\u001b[0m \u001b[0mis_integer\u001b[0m\u001b[0;34m(\u001b[0m\u001b[0mindexer\u001b[0m\u001b[0;34m)\u001b[0m\u001b[0;34m:\u001b[0m\u001b[0;34m\u001b[0m\u001b[0;34m\u001b[0m\u001b[0m\n\u001b[1;32m   3460\u001b[0m                 \u001b[0mindexer\u001b[0m \u001b[0;34m=\u001b[0m \u001b[0;34m[\u001b[0m\u001b[0mindexer\u001b[0m\u001b[0;34m]\u001b[0m\u001b[0;34m\u001b[0m\u001b[0;34m\u001b[0m\u001b[0m\n",
      "\u001b[0;32m/opt/anaconda3/lib/python3.9/site-packages/pandas/core/indexes/base.py\u001b[0m in \u001b[0;36mget_loc\u001b[0;34m(self, key, method, tolerance)\u001b[0m\n\u001b[1;32m   3361\u001b[0m                 \u001b[0;32mreturn\u001b[0m \u001b[0mself\u001b[0m\u001b[0;34m.\u001b[0m\u001b[0m_engine\u001b[0m\u001b[0;34m.\u001b[0m\u001b[0mget_loc\u001b[0m\u001b[0;34m(\u001b[0m\u001b[0mcasted_key\u001b[0m\u001b[0;34m)\u001b[0m\u001b[0;34m\u001b[0m\u001b[0;34m\u001b[0m\u001b[0m\n\u001b[1;32m   3362\u001b[0m             \u001b[0;32mexcept\u001b[0m \u001b[0mKeyError\u001b[0m \u001b[0;32mas\u001b[0m \u001b[0merr\u001b[0m\u001b[0;34m:\u001b[0m\u001b[0;34m\u001b[0m\u001b[0;34m\u001b[0m\u001b[0m\n\u001b[0;32m-> 3363\u001b[0;31m                 \u001b[0;32mraise\u001b[0m \u001b[0mKeyError\u001b[0m\u001b[0;34m(\u001b[0m\u001b[0mkey\u001b[0m\u001b[0;34m)\u001b[0m \u001b[0;32mfrom\u001b[0m \u001b[0merr\u001b[0m\u001b[0;34m\u001b[0m\u001b[0;34m\u001b[0m\u001b[0m\n\u001b[0m\u001b[1;32m   3364\u001b[0m \u001b[0;34m\u001b[0m\u001b[0m\n\u001b[1;32m   3365\u001b[0m         \u001b[0;32mif\u001b[0m \u001b[0mis_scalar\u001b[0m\u001b[0;34m(\u001b[0m\u001b[0mkey\u001b[0m\u001b[0;34m)\u001b[0m \u001b[0;32mand\u001b[0m \u001b[0misna\u001b[0m\u001b[0;34m(\u001b[0m\u001b[0mkey\u001b[0m\u001b[0;34m)\u001b[0m \u001b[0;32mand\u001b[0m \u001b[0;32mnot\u001b[0m \u001b[0mself\u001b[0m\u001b[0;34m.\u001b[0m\u001b[0mhasnans\u001b[0m\u001b[0;34m:\u001b[0m\u001b[0;34m\u001b[0m\u001b[0;34m\u001b[0m\u001b[0m\n",
      "\u001b[0;31mKeyError\u001b[0m: 'price_range'"
     ]
    }
   ],
   "source": [
    "# Create bar chart price_range\n",
    "\n",
    "bar_price_range = df_final['price_range'].value_counts().plot.bar(title = 'Customer Loyalty')"
   ]
  },
  {
   "cell_type": "code",
   "execution_count": null,
   "id": "abe74482",
   "metadata": {},
   "outputs": [],
   "source": []
  }
 ],
 "metadata": {
  "kernelspec": {
   "display_name": "Python 3 (ipykernel)",
   "language": "python",
   "name": "python3"
  },
  "language_info": {
   "codemirror_mode": {
    "name": "ipython",
    "version": 3
   },
   "file_extension": ".py",
   "mimetype": "text/x-python",
   "name": "python",
   "nbconvert_exporter": "python",
   "pygments_lexer": "ipython3",
   "version": "3.9.7"
  }
 },
 "nbformat": 4,
 "nbformat_minor": 5
}
